{
 "cells": [
  {
   "cell_type": "markdown",
   "id": "19008eb6",
   "metadata": {},
   "source": [
    "Here we compare multicriterial selection for counterfactuals with single ones."
   ]
  },
  {
   "cell_type": "code",
   "execution_count": 1,
   "id": "3226a9a2",
   "metadata": {},
   "outputs": [],
   "source": [
    "import numpy as np\n",
    "import pandas as pd\n",
    "from matplotlib import pyplot as plt\n",
    "import time\n",
    "import pickle\n",
    "from rf_counterfactuals import RandomForestExplainer, visualize, evaluate_counterfactual, evaluate_counterfactual_set\n",
    "from rf_counterfactuals.single_cf_costs_functions import heterogeneous_euclidean_overlap_metric, unmatched_components_distance\n",
    "from rf_counterfactuals.multi_cf_costs_functions import diversity\n",
    "import os\n",
    "from collections import defaultdict\n",
    "\n",
    "from sklearn import preprocessing\n",
    "from sklearn.tree import export_graphviz\n",
    "from sklearn.ensemble import RandomForestClassifier\n",
    "from sklearn.model_selection import train_test_split, StratifiedKFold\n",
    "from sklearn.metrics import accuracy_score, f1_score, precision_score, recall_score, pairwise_distances\n",
    "from sklearn.neighbors import NearestNeighbors\n",
    "DATASET_PATH = \"./datasets/\"\n",
    "\n",
    "N_JOBS = -1"
   ]
  },
  {
   "cell_type": "markdown",
   "id": "2d1ccef5",
   "metadata": {},
   "source": [
    "# Comment one of two cells below to choose a dataset"
   ]
  },
  {
   "cell_type": "code",
   "execution_count": 2,
   "id": "5df9465d",
   "metadata": {},
   "outputs": [],
   "source": [
    "# DATASET_NAME = 'Adult'\n",
    "\n",
    "# adult_dataset = pd.read_csv(os.path.join(DATASET_PATH, \"adult.csv\"))\n",
    "\n",
    "# class_feature = \"income\"\n",
    "# feature_names = [c for c in adult_dataset.columns if c != class_feature]\n",
    "# categorical_features = [1, 3, 5, 6, 7, 8, 9, 13]\n",
    "# to_encode = [c for no, c in enumerate(feature_names) if no in categorical_features]\n",
    "\n",
    "# d = defaultdict(preprocessing.LabelEncoder)\n",
    "\n",
    "# adult_dataset[to_encode] = adult_dataset[to_encode].apply(lambda x: d[x.name].fit_transform(x))\n",
    "\n",
    "# X = adult_dataset.loc[:, adult_dataset.columns!=class_feature]\n",
    "# y = adult_dataset[class_feature]"
   ]
  },
  {
   "cell_type": "code",
   "execution_count": 3,
   "id": "1c7907e5",
   "metadata": {},
   "outputs": [],
   "source": [
    "DATASET_NAME = 'German'\n",
    "\n",
    "COLUMNS = ['checking_account', 'duration', 'credit_history', 'purpose', 'credit_amount', 'saving_account', 'present_employement',\n",
    "          'installment_rate', 'personal_status', 'other_debtors', 'present_residence', 'property', 'age', 'installment_plans',\n",
    "          'housing', 'existing_credits_number', 'job', 'people_to_provide_maintenance', 'has_telephone', 'foreign', 'risk']\n",
    "\n",
    "german_dataset = pd.read_csv(os.path.join(DATASET_PATH, \"german_data.csv\"), sep=' ', names=COLUMNS)\n",
    "\n",
    "class_feature = \"risk\"\n",
    "categorical_features = [0, 2, 3, 5, 6, 8, 9, 11, 13, 14, 16, 18, 19]\n",
    "to_encode = [c for no, c in enumerate(COLUMNS) if no in categorical_features]\n",
    "\n",
    "d = defaultdict(preprocessing.LabelEncoder)\n",
    "\n",
    "german_dataset[to_encode] = german_dataset[to_encode].apply(lambda x: d[x.name].fit_transform(x))\n",
    "\n",
    "X = german_dataset.loc[:, german_dataset.columns!=class_feature]\n",
    "y = german_dataset[class_feature]"
   ]
  },
  {
   "cell_type": "markdown",
   "id": "fc92f24d",
   "metadata": {},
   "source": [
    "# Calculations"
   ]
  },
  {
   "cell_type": "code",
   "execution_count": 4,
   "id": "04cc3f81",
   "metadata": {
    "scrolled": true
   },
   "outputs": [
    {
     "name": "stdout",
     "output_type": "stream",
     "text": [
      "1 / 10\n",
      "[1/3] Extracting positive paths.\n",
      "[2/3] Generating counterfactual examples for each tree. Total number of tasks: 100\n"
     ]
    },
    {
     "name": "stderr",
     "output_type": "stream",
     "text": [
      "[Parallel(n_jobs=-1)]: Using backend LokyBackend with 8 concurrent workers.\n",
      "[Parallel(n_jobs=-1)]: Done   2 tasks      | elapsed:    1.5s\n",
      "[Parallel(n_jobs=-1)]: Done   9 tasks      | elapsed:    1.9s\n",
      "[Parallel(n_jobs=-1)]: Done  16 tasks      | elapsed:    2.2s\n",
      "[Parallel(n_jobs=-1)]: Done  25 tasks      | elapsed:    2.6s\n",
      "[Parallel(n_jobs=-1)]: Done  34 tasks      | elapsed:    3.0s\n",
      "[Parallel(n_jobs=-1)]: Done  45 tasks      | elapsed:    3.5s\n",
      "[Parallel(n_jobs=-1)]: Done  56 tasks      | elapsed:    3.9s\n",
      "[Parallel(n_jobs=-1)]: Done  69 tasks      | elapsed:    4.6s\n",
      "[Parallel(n_jobs=-1)]: Done  82 tasks      | elapsed:    5.1s\n",
      "[Parallel(n_jobs=-1)]: Done  96 out of 100 | elapsed:    5.6s remaining:    0.2s\n",
      "[Parallel(n_jobs=-1)]: Done 100 out of 100 | elapsed:    5.7s finished\n"
     ]
    },
    {
     "name": "stdout",
     "output_type": "stream",
     "text": [
      "[3/3] Calculating loss function. Total number of tasks: 89\n"
     ]
    },
    {
     "name": "stderr",
     "output_type": "stream",
     "text": [
      "[Parallel(n_jobs=-1)]: Using backend LokyBackend with 8 concurrent workers.\n",
      "[Parallel(n_jobs=-1)]: Batch computation too fast (0.0285s.) Setting batch_size=2.\n",
      "[Parallel(n_jobs=-1)]: Done   2 tasks      | elapsed:    0.1s\n",
      "[Parallel(n_jobs=-1)]: Done   9 tasks      | elapsed:    0.2s\n",
      "[Parallel(n_jobs=-1)]: Done  17 tasks      | elapsed:    0.7s\n",
      "[Parallel(n_jobs=-1)]: Done  34 tasks      | elapsed:    1.3s\n",
      "[Parallel(n_jobs=-1)]: Done  52 tasks      | elapsed:    2.0s\n",
      "[Parallel(n_jobs=-1)]: Done  74 out of  89 | elapsed:    3.1s remaining:    0.6s\n",
      "[Parallel(n_jobs=-1)]: Done  83 out of  89 | elapsed:    3.3s remaining:    0.2s\n",
      "[Parallel(n_jobs=-1)]: Done  89 out of  89 | elapsed:    3.5s finished\n"
     ]
    },
    {
     "name": "stdout",
     "output_type": "stream",
     "text": [
      "[1/3] Extracting positive paths.\n",
      "[2/3] Generating counterfactual examples for each tree. Total number of tasks: 100\n"
     ]
    },
    {
     "name": "stderr",
     "output_type": "stream",
     "text": [
      "[Parallel(n_jobs=-1)]: Using backend LokyBackend with 8 concurrent workers.\n",
      "[Parallel(n_jobs=-1)]: Done   2 tasks      | elapsed:    0.5s\n",
      "[Parallel(n_jobs=-1)]: Done   9 tasks      | elapsed:    0.9s\n",
      "[Parallel(n_jobs=-1)]: Done  16 tasks      | elapsed:    1.2s\n",
      "[Parallel(n_jobs=-1)]: Done  25 tasks      | elapsed:    1.8s\n",
      "[Parallel(n_jobs=-1)]: Done  34 tasks      | elapsed:    2.5s\n",
      "[Parallel(n_jobs=-1)]: Done  45 tasks      | elapsed:    3.0s\n",
      "[Parallel(n_jobs=-1)]: Done  56 tasks      | elapsed:    3.7s\n",
      "[Parallel(n_jobs=-1)]: Done  69 tasks      | elapsed:    4.3s\n",
      "[Parallel(n_jobs=-1)]: Done  82 tasks      | elapsed:    5.0s\n",
      "[Parallel(n_jobs=-1)]: Done  96 out of 100 | elapsed:    5.6s remaining:    0.2s\n",
      "[Parallel(n_jobs=-1)]: Done 100 out of 100 | elapsed:    5.8s finished\n"
     ]
    },
    {
     "name": "stdout",
     "output_type": "stream",
     "text": [
      "[3/3] Calculating loss function. Total number of tasks: 11\n"
     ]
    },
    {
     "name": "stderr",
     "output_type": "stream",
     "text": [
      "[Parallel(n_jobs=-1)]: Using backend LokyBackend with 8 concurrent workers.\n",
      "[Parallel(n_jobs=-1)]: Done   2 out of  11 | elapsed:    1.7s remaining:    7.9s\n",
      "[Parallel(n_jobs=-1)]: Done   4 out of  11 | elapsed:    1.9s remaining:    3.3s\n",
      "[Parallel(n_jobs=-1)]: Done   6 out of  11 | elapsed:    2.0s remaining:    1.6s\n",
      "[Parallel(n_jobs=-1)]: Done   8 out of  11 | elapsed:    2.3s remaining:    0.8s\n",
      "[Parallel(n_jobs=-1)]: Done  11 out of  11 | elapsed:    3.0s finished\n"
     ]
    },
    {
     "name": "stdout",
     "output_type": "stream",
     "text": [
      "found_0: 0 / 89\n",
      "found_1: 1 / 11\n",
      "[1/3] Extracting positive paths.\n",
      "[2/3] Generating counterfactual examples for each tree. Total number of tasks: 100\n"
     ]
    },
    {
     "name": "stderr",
     "output_type": "stream",
     "text": [
      "[Parallel(n_jobs=-1)]: Using backend LokyBackend with 8 concurrent workers.\n",
      "[Parallel(n_jobs=-1)]: Done   2 tasks      | elapsed:    0.3s\n",
      "[Parallel(n_jobs=-1)]: Done   9 tasks      | elapsed:    0.6s\n",
      "[Parallel(n_jobs=-1)]: Done  16 tasks      | elapsed:    0.8s\n",
      "[Parallel(n_jobs=-1)]: Done  25 tasks      | elapsed:    1.2s\n",
      "[Parallel(n_jobs=-1)]: Done  34 tasks      | elapsed:    1.6s\n",
      "[Parallel(n_jobs=-1)]: Done  45 tasks      | elapsed:    2.2s\n",
      "[Parallel(n_jobs=-1)]: Done  56 tasks      | elapsed:    2.6s\n",
      "[Parallel(n_jobs=-1)]: Done  69 tasks      | elapsed:    3.2s\n",
      "[Parallel(n_jobs=-1)]: Done  82 tasks      | elapsed:    3.8s\n",
      "[Parallel(n_jobs=-1)]: Done  96 out of 100 | elapsed:    4.2s remaining:    0.2s\n",
      "[Parallel(n_jobs=-1)]: Done 100 out of 100 | elapsed:    4.4s finished\n"
     ]
    },
    {
     "name": "stdout",
     "output_type": "stream",
     "text": [
      "[3/3] Calculating loss function. Total number of tasks: 89\n"
     ]
    },
    {
     "name": "stderr",
     "output_type": "stream",
     "text": [
      "[Parallel(n_jobs=-1)]: Using backend LokyBackend with 8 concurrent workers.\n",
      "[Parallel(n_jobs=-1)]: Batch computation too fast (0.0259s.) Setting batch_size=2.\n",
      "[Parallel(n_jobs=-1)]: Done   2 tasks      | elapsed:    0.1s\n",
      "[Parallel(n_jobs=-1)]: Done   9 tasks      | elapsed:    0.2s\n",
      "[Parallel(n_jobs=-1)]: Done  17 tasks      | elapsed:    0.7s\n",
      "[Parallel(n_jobs=-1)]: Done  34 tasks      | elapsed:    1.2s\n",
      "[Parallel(n_jobs=-1)]: Done  52 tasks      | elapsed:    1.7s\n",
      "[Parallel(n_jobs=-1)]: Done  74 out of  89 | elapsed:    2.6s remaining:    0.5s\n",
      "[Parallel(n_jobs=-1)]: Done  83 out of  89 | elapsed:    2.8s remaining:    0.2s\n",
      "[Parallel(n_jobs=-1)]: Done  89 out of  89 | elapsed:    3.0s finished\n"
     ]
    },
    {
     "name": "stdout",
     "output_type": "stream",
     "text": [
      "[1/3] Extracting positive paths.\n",
      "[2/3] Generating counterfactual examples for each tree. Total number of tasks: 100\n"
     ]
    },
    {
     "name": "stderr",
     "output_type": "stream",
     "text": [
      "[Parallel(n_jobs=-1)]: Using backend LokyBackend with 8 concurrent workers.\n",
      "[Parallel(n_jobs=-1)]: Done   2 tasks      | elapsed:    0.4s\n",
      "[Parallel(n_jobs=-1)]: Done   9 tasks      | elapsed:    0.7s\n",
      "[Parallel(n_jobs=-1)]: Done  16 tasks      | elapsed:    1.1s\n",
      "[Parallel(n_jobs=-1)]: Done  25 tasks      | elapsed:    1.6s\n",
      "[Parallel(n_jobs=-1)]: Done  34 tasks      | elapsed:    2.1s\n",
      "[Parallel(n_jobs=-1)]: Done  45 tasks      | elapsed:    2.7s\n",
      "[Parallel(n_jobs=-1)]: Done  56 tasks      | elapsed:    3.3s\n",
      "[Parallel(n_jobs=-1)]: Done  69 tasks      | elapsed:    4.0s\n",
      "[Parallel(n_jobs=-1)]: Done  82 tasks      | elapsed:    4.7s\n",
      "[Parallel(n_jobs=-1)]: Done  96 out of 100 | elapsed:    5.4s remaining:    0.2s\n",
      "[Parallel(n_jobs=-1)]: Done 100 out of 100 | elapsed:    5.5s finished\n"
     ]
    },
    {
     "name": "stdout",
     "output_type": "stream",
     "text": [
      "[3/3] Calculating loss function. Total number of tasks: 11\n"
     ]
    },
    {
     "name": "stderr",
     "output_type": "stream",
     "text": [
      "[Parallel(n_jobs=-1)]: Using backend LokyBackend with 8 concurrent workers.\n",
      "[Parallel(n_jobs=-1)]: Done   2 out of  11 | elapsed:    1.7s remaining:    7.8s\n",
      "[Parallel(n_jobs=-1)]: Done   4 out of  11 | elapsed:    1.9s remaining:    3.3s\n",
      "[Parallel(n_jobs=-1)]: Done   6 out of  11 | elapsed:    2.0s remaining:    1.6s\n",
      "[Parallel(n_jobs=-1)]: Done   8 out of  11 | elapsed:    2.2s remaining:    0.8s\n",
      "[Parallel(n_jobs=-1)]: Done  11 out of  11 | elapsed:    2.9s finished\n"
     ]
    },
    {
     "name": "stdout",
     "output_type": "stream",
     "text": [
      "[1/3] Extracting positive paths.\n",
      "[2/3] Generating counterfactual examples for each tree. Total number of tasks: 100\n"
     ]
    },
    {
     "name": "stderr",
     "output_type": "stream",
     "text": [
      "[Parallel(n_jobs=-1)]: Using backend LokyBackend with 8 concurrent workers.\n",
      "[Parallel(n_jobs=-1)]: Done   2 tasks      | elapsed:    0.3s\n",
      "[Parallel(n_jobs=-1)]: Done   9 tasks      | elapsed:    0.6s\n",
      "[Parallel(n_jobs=-1)]: Done  16 tasks      | elapsed:    0.9s\n",
      "[Parallel(n_jobs=-1)]: Done  25 tasks      | elapsed:    1.2s\n",
      "[Parallel(n_jobs=-1)]: Done  34 tasks      | elapsed:    1.7s\n",
      "[Parallel(n_jobs=-1)]: Done  45 tasks      | elapsed:    2.2s\n",
      "[Parallel(n_jobs=-1)]: Done  56 tasks      | elapsed:    2.7s\n",
      "[Parallel(n_jobs=-1)]: Done  69 tasks      | elapsed:    3.2s\n",
      "[Parallel(n_jobs=-1)]: Done  82 tasks      | elapsed:    4.0s\n",
      "[Parallel(n_jobs=-1)]: Done  96 out of 100 | elapsed:    4.4s remaining:    0.2s\n",
      "[Parallel(n_jobs=-1)]: Done 100 out of 100 | elapsed:    4.5s finished\n"
     ]
    },
    {
     "name": "stdout",
     "output_type": "stream",
     "text": [
      "[3/3] Calculating loss function. Total number of tasks: 89\n"
     ]
    },
    {
     "name": "stderr",
     "output_type": "stream",
     "text": [
      "[Parallel(n_jobs=-1)]: Using backend LokyBackend with 8 concurrent workers.\n",
      "[Parallel(n_jobs=-1)]: Batch computation too fast (0.0179s.) Setting batch_size=2.\n",
      "[Parallel(n_jobs=-1)]: Done   2 tasks      | elapsed:    0.0s\n",
      "[Parallel(n_jobs=-1)]: Done   9 tasks      | elapsed:    0.1s\n",
      "[Parallel(n_jobs=-1)]: Batch computation too fast (0.1831s.) Setting batch_size=4.\n",
      "[Parallel(n_jobs=-1)]: Done  18 tasks      | elapsed:    0.4s\n",
      "[Parallel(n_jobs=-1)]: Done  34 tasks      | elapsed:    0.6s\n",
      "[Parallel(n_jobs=-1)]: Done  56 tasks      | elapsed:    1.0s\n",
      "[Parallel(n_jobs=-1)]: Done  65 out of  89 | elapsed:    1.1s remaining:    0.4s\n",
      "[Parallel(n_jobs=-1)]: Done  89 out of  89 | elapsed:    1.7s finished\n"
     ]
    },
    {
     "name": "stdout",
     "output_type": "stream",
     "text": [
      "[1/3] Extracting positive paths.\n",
      "[2/3] Generating counterfactual examples for each tree. Total number of tasks: 100\n"
     ]
    },
    {
     "name": "stderr",
     "output_type": "stream",
     "text": [
      "[Parallel(n_jobs=-1)]: Using backend LokyBackend with 8 concurrent workers.\n",
      "[Parallel(n_jobs=-1)]: Done   2 tasks      | elapsed:    0.4s\n",
      "[Parallel(n_jobs=-1)]: Done   9 tasks      | elapsed:    0.8s\n",
      "[Parallel(n_jobs=-1)]: Done  16 tasks      | elapsed:    1.3s\n",
      "[Parallel(n_jobs=-1)]: Done  25 tasks      | elapsed:    1.8s\n",
      "[Parallel(n_jobs=-1)]: Done  34 tasks      | elapsed:    2.3s\n",
      "[Parallel(n_jobs=-1)]: Done  45 tasks      | elapsed:    3.0s\n",
      "[Parallel(n_jobs=-1)]: Done  56 tasks      | elapsed:    3.7s\n",
      "[Parallel(n_jobs=-1)]: Done  69 tasks      | elapsed:    4.4s\n",
      "[Parallel(n_jobs=-1)]: Done  82 tasks      | elapsed:    5.1s\n",
      "[Parallel(n_jobs=-1)]: Done  96 out of 100 | elapsed:    5.8s remaining:    0.2s\n",
      "[Parallel(n_jobs=-1)]: Done 100 out of 100 | elapsed:    6.0s finished\n"
     ]
    },
    {
     "name": "stdout",
     "output_type": "stream",
     "text": [
      "[3/3] Calculating loss function. Total number of tasks: 11\n"
     ]
    },
    {
     "name": "stderr",
     "output_type": "stream",
     "text": [
      "[Parallel(n_jobs=-1)]: Using backend LokyBackend with 8 concurrent workers.\n",
      "[Parallel(n_jobs=-1)]: Done   2 out of  11 | elapsed:    0.7s remaining:    3.3s\n",
      "[Parallel(n_jobs=-1)]: Done   4 out of  11 | elapsed:    0.8s remaining:    1.4s\n",
      "[Parallel(n_jobs=-1)]: Done   6 out of  11 | elapsed:    0.8s remaining:    0.7s\n",
      "[Parallel(n_jobs=-1)]: Done   8 out of  11 | elapsed:    1.0s remaining:    0.4s\n",
      "[Parallel(n_jobs=-1)]: Done  11 out of  11 | elapsed:    1.3s finished\n"
     ]
    },
    {
     "name": "stdout",
     "output_type": "stream",
     "text": [
      "Split time:  52.43811082839966 s\n",
      "2 / 10\n",
      "[1/3] Extracting positive paths.\n",
      "[2/3] Generating counterfactual examples for each tree. Total number of tasks: 100\n"
     ]
    },
    {
     "name": "stderr",
     "output_type": "stream",
     "text": [
      "[Parallel(n_jobs=-1)]: Using backend LokyBackend with 8 concurrent workers.\n",
      "[Parallel(n_jobs=-1)]: Done   2 tasks      | elapsed:    0.3s\n",
      "[Parallel(n_jobs=-1)]: Done   9 tasks      | elapsed:    0.7s\n",
      "[Parallel(n_jobs=-1)]: Done  16 tasks      | elapsed:    1.1s\n",
      "[Parallel(n_jobs=-1)]: Done  25 tasks      | elapsed:    1.3s\n",
      "[Parallel(n_jobs=-1)]: Done  34 tasks      | elapsed:    1.8s\n",
      "[Parallel(n_jobs=-1)]: Done  45 tasks      | elapsed:    2.3s\n",
      "[Parallel(n_jobs=-1)]: Done  56 tasks      | elapsed:    2.8s\n",
      "[Parallel(n_jobs=-1)]: Done  69 tasks      | elapsed:    3.5s\n",
      "[Parallel(n_jobs=-1)]: Done  82 tasks      | elapsed:    4.1s\n",
      "[Parallel(n_jobs=-1)]: Done  96 out of 100 | elapsed:    4.6s remaining:    0.2s\n",
      "[Parallel(n_jobs=-1)]: Done 100 out of 100 | elapsed:    4.7s finished\n"
     ]
    },
    {
     "name": "stdout",
     "output_type": "stream",
     "text": [
      "[3/3] Calculating loss function. Total number of tasks: 92\n"
     ]
    },
    {
     "name": "stderr",
     "output_type": "stream",
     "text": [
      "[Parallel(n_jobs=-1)]: Using backend LokyBackend with 8 concurrent workers.\n",
      "[Parallel(n_jobs=-1)]: Batch computation too fast (0.0112s.) Setting batch_size=2.\n",
      "[Parallel(n_jobs=-1)]: Done   2 tasks      | elapsed:    0.0s\n",
      "[Parallel(n_jobs=-1)]: Done   9 tasks      | elapsed:    0.4s\n",
      "[Parallel(n_jobs=-1)]: Done  18 tasks      | elapsed:    0.9s\n",
      "[Parallel(n_jobs=-1)]: Done  34 tasks      | elapsed:    1.8s\n",
      "[Parallel(n_jobs=-1)]: Done  52 tasks      | elapsed:    2.5s\n",
      "[Parallel(n_jobs=-1)]: Done  73 tasks      | elapsed:    3.4s\n",
      "[Parallel(n_jobs=-1)]: Done  77 out of  92 | elapsed:    3.4s remaining:    0.7s\n",
      "[Parallel(n_jobs=-1)]: Done  92 out of  92 | elapsed:    4.1s finished\n",
      "[Parallel(n_jobs=-1)]: Using backend LokyBackend with 8 concurrent workers.\n"
     ]
    },
    {
     "name": "stdout",
     "output_type": "stream",
     "text": [
      "[1/3] Extracting positive paths.\n",
      "[2/3] Generating counterfactual examples for each tree. Total number of tasks: 100\n"
     ]
    },
    {
     "name": "stderr",
     "output_type": "stream",
     "text": [
      "[Parallel(n_jobs=-1)]: Done   2 tasks      | elapsed:    0.4s\n",
      "[Parallel(n_jobs=-1)]: Done   9 tasks      | elapsed:    0.8s\n",
      "[Parallel(n_jobs=-1)]: Done  16 tasks      | elapsed:    1.2s\n",
      "[Parallel(n_jobs=-1)]: Done  25 tasks      | elapsed:    1.8s\n",
      "[Parallel(n_jobs=-1)]: Done  34 tasks      | elapsed:    2.4s\n",
      "[Parallel(n_jobs=-1)]: Done  45 tasks      | elapsed:    3.0s\n",
      "[Parallel(n_jobs=-1)]: Done  56 tasks      | elapsed:    3.6s\n",
      "[Parallel(n_jobs=-1)]: Done  69 tasks      | elapsed:    4.4s\n",
      "[Parallel(n_jobs=-1)]: Done  82 tasks      | elapsed:    5.1s\n",
      "[Parallel(n_jobs=-1)]: Done  96 out of 100 | elapsed:    6.1s remaining:    0.3s\n",
      "[Parallel(n_jobs=-1)]: Done 100 out of 100 | elapsed:    6.2s finished\n"
     ]
    },
    {
     "name": "stdout",
     "output_type": "stream",
     "text": [
      "[3/3] Calculating loss function. Total number of tasks: 8\n"
     ]
    },
    {
     "name": "stderr",
     "output_type": "stream",
     "text": [
      "[Parallel(n_jobs=-1)]: Using backend LokyBackend with 8 concurrent workers.\n",
      "[Parallel(n_jobs=-1)]: Done   2 out of   8 | elapsed:    2.1s remaining:    6.2s\n",
      "[Parallel(n_jobs=-1)]: Done   3 out of   8 | elapsed:    2.1s remaining:    3.5s\n",
      "[Parallel(n_jobs=-1)]: Done   4 out of   8 | elapsed:    2.2s remaining:    2.2s\n",
      "[Parallel(n_jobs=-1)]: Done   5 out of   8 | elapsed:    2.2s remaining:    1.3s\n",
      "[Parallel(n_jobs=-1)]: Done   6 out of   8 | elapsed:    2.3s remaining:    0.8s\n",
      "[Parallel(n_jobs=-1)]: Done   8 out of   8 | elapsed:    2.3s remaining:    0.0s\n",
      "[Parallel(n_jobs=-1)]: Done   8 out of   8 | elapsed:    2.3s finished\n"
     ]
    },
    {
     "name": "stdout",
     "output_type": "stream",
     "text": [
      "found_0: 0 / 92\n",
      "found_1: 5 / 8\n",
      "[1/3] Extracting positive paths.\n",
      "[2/3] Generating counterfactual examples for each tree. Total number of tasks: 100\n"
     ]
    },
    {
     "name": "stderr",
     "output_type": "stream",
     "text": [
      "[Parallel(n_jobs=-1)]: Using backend LokyBackend with 8 concurrent workers.\n",
      "[Parallel(n_jobs=-1)]: Done   2 tasks      | elapsed:    0.3s\n",
      "[Parallel(n_jobs=-1)]: Done   9 tasks      | elapsed:    0.7s\n",
      "[Parallel(n_jobs=-1)]: Done  16 tasks      | elapsed:    1.1s\n",
      "[Parallel(n_jobs=-1)]: Done  25 tasks      | elapsed:    1.3s\n",
      "[Parallel(n_jobs=-1)]: Done  34 tasks      | elapsed:    1.7s\n",
      "[Parallel(n_jobs=-1)]: Done  45 tasks      | elapsed:    2.3s\n",
      "[Parallel(n_jobs=-1)]: Done  56 tasks      | elapsed:    2.8s\n",
      "[Parallel(n_jobs=-1)]: Done  69 tasks      | elapsed:    3.3s\n",
      "[Parallel(n_jobs=-1)]: Done  82 tasks      | elapsed:    4.0s\n",
      "[Parallel(n_jobs=-1)]: Done  96 out of 100 | elapsed:    4.4s remaining:    0.2s\n",
      "[Parallel(n_jobs=-1)]: Done 100 out of 100 | elapsed:    4.5s finished\n"
     ]
    },
    {
     "name": "stdout",
     "output_type": "stream",
     "text": [
      "[3/3] Calculating loss function. Total number of tasks: 92\n"
     ]
    },
    {
     "name": "stderr",
     "output_type": "stream",
     "text": [
      "[Parallel(n_jobs=-1)]: Using backend LokyBackend with 8 concurrent workers.\n",
      "[Parallel(n_jobs=-1)]: Batch computation too fast (0.0051s.) Setting batch_size=2.\n",
      "[Parallel(n_jobs=-1)]: Done   2 tasks      | elapsed:    0.0s\n",
      "[Parallel(n_jobs=-1)]: Done   9 tasks      | elapsed:    0.3s\n",
      "[Parallel(n_jobs=-1)]: Done  18 tasks      | elapsed:    0.8s\n",
      "[Parallel(n_jobs=-1)]: Done  34 tasks      | elapsed:    1.7s\n",
      "[Parallel(n_jobs=-1)]: Done  52 tasks      | elapsed:    2.3s\n",
      "[Parallel(n_jobs=-1)]: Done  72 tasks      | elapsed:    3.0s\n",
      "[Parallel(n_jobs=-1)]: Done  77 out of  92 | elapsed:    3.1s remaining:    0.6s\n",
      "[Parallel(n_jobs=-1)]: Done  92 out of  92 | elapsed:    3.6s finished\n",
      "[Parallel(n_jobs=-1)]: Using backend LokyBackend with 8 concurrent workers.\n"
     ]
    },
    {
     "name": "stdout",
     "output_type": "stream",
     "text": [
      "[1/3] Extracting positive paths.\n",
      "[2/3] Generating counterfactual examples for each tree. Total number of tasks: 100\n"
     ]
    },
    {
     "name": "stderr",
     "output_type": "stream",
     "text": [
      "[Parallel(n_jobs=-1)]: Done   2 tasks      | elapsed:    0.4s\n",
      "[Parallel(n_jobs=-1)]: Done   9 tasks      | elapsed:    0.8s\n",
      "[Parallel(n_jobs=-1)]: Done  16 tasks      | elapsed:    1.1s\n",
      "[Parallel(n_jobs=-1)]: Done  25 tasks      | elapsed:    1.6s\n",
      "[Parallel(n_jobs=-1)]: Done  34 tasks      | elapsed:    2.2s\n",
      "[Parallel(n_jobs=-1)]: Done  45 tasks      | elapsed:    2.7s\n",
      "[Parallel(n_jobs=-1)]: Done  56 tasks      | elapsed:    3.3s\n",
      "[Parallel(n_jobs=-1)]: Done  69 tasks      | elapsed:    4.0s\n",
      "[Parallel(n_jobs=-1)]: Done  82 tasks      | elapsed:    4.7s\n",
      "[Parallel(n_jobs=-1)]: Done  96 out of 100 | elapsed:    5.6s remaining:    0.2s\n",
      "[Parallel(n_jobs=-1)]: Done 100 out of 100 | elapsed:    5.7s finished\n"
     ]
    },
    {
     "name": "stdout",
     "output_type": "stream",
     "text": [
      "[3/3] Calculating loss function. Total number of tasks: 8\n"
     ]
    },
    {
     "name": "stderr",
     "output_type": "stream",
     "text": [
      "[Parallel(n_jobs=-1)]: Using backend LokyBackend with 8 concurrent workers.\n",
      "[Parallel(n_jobs=-1)]: Done   2 out of   8 | elapsed:    1.7s remaining:    5.2s\n",
      "[Parallel(n_jobs=-1)]: Done   3 out of   8 | elapsed:    1.8s remaining:    3.1s\n",
      "[Parallel(n_jobs=-1)]: Done   4 out of   8 | elapsed:    2.0s remaining:    2.0s\n",
      "[Parallel(n_jobs=-1)]: Done   5 out of   8 | elapsed:    2.0s remaining:    1.2s\n",
      "[Parallel(n_jobs=-1)]: Done   6 out of   8 | elapsed:    2.1s remaining:    0.7s\n",
      "[Parallel(n_jobs=-1)]: Done   8 out of   8 | elapsed:    2.1s remaining:    0.0s\n",
      "[Parallel(n_jobs=-1)]: Done   8 out of   8 | elapsed:    2.1s finished\n"
     ]
    },
    {
     "name": "stdout",
     "output_type": "stream",
     "text": [
      "[1/3] Extracting positive paths.\n",
      "[2/3] Generating counterfactual examples for each tree. Total number of tasks: 100\n"
     ]
    },
    {
     "name": "stderr",
     "output_type": "stream",
     "text": [
      "[Parallel(n_jobs=-1)]: Using backend LokyBackend with 8 concurrent workers.\n",
      "[Parallel(n_jobs=-1)]: Batch computation too fast (0.1730s.) Setting batch_size=2.\n",
      "[Parallel(n_jobs=-1)]: Done   2 tasks      | elapsed:    0.3s\n",
      "[Parallel(n_jobs=-1)]: Done   9 tasks      | elapsed:    0.7s\n",
      "[Parallel(n_jobs=-1)]: Done  16 tasks      | elapsed:    1.0s\n",
      "[Parallel(n_jobs=-1)]: Done  34 tasks      | elapsed:    1.8s\n",
      "[Parallel(n_jobs=-1)]: Done  52 tasks      | elapsed:    2.5s\n",
      "[Parallel(n_jobs=-1)]: Done  74 tasks      | elapsed:    3.3s\n",
      "[Parallel(n_jobs=-1)]: Done  96 out of 100 | elapsed:    4.0s remaining:    0.2s\n",
      "[Parallel(n_jobs=-1)]: Done 100 out of 100 | elapsed:    4.0s finished\n"
     ]
    },
    {
     "name": "stdout",
     "output_type": "stream",
     "text": [
      "[3/3] Calculating loss function. Total number of tasks: 92\n"
     ]
    },
    {
     "name": "stderr",
     "output_type": "stream",
     "text": [
      "[Parallel(n_jobs=-1)]: Using backend LokyBackend with 8 concurrent workers.\n",
      "[Parallel(n_jobs=-1)]: Batch computation too fast (0.0111s.) Setting batch_size=2.\n",
      "[Parallel(n_jobs=-1)]: Done   2 tasks      | elapsed:    0.0s\n",
      "[Parallel(n_jobs=-1)]: Done   9 tasks      | elapsed:    0.2s\n",
      "[Parallel(n_jobs=-1)]: Done  18 tasks      | elapsed:    0.4s\n",
      "[Parallel(n_jobs=-1)]: Done  34 tasks      | elapsed:    0.7s\n",
      "[Parallel(n_jobs=-1)]: Done  52 tasks      | elapsed:    1.1s\n",
      "[Parallel(n_jobs=-1)]: Done  73 tasks      | elapsed:    1.5s\n",
      "[Parallel(n_jobs=-1)]: Done  77 out of  92 | elapsed:    1.5s remaining:    0.3s\n",
      "[Parallel(n_jobs=-1)]: Done  87 out of  92 | elapsed:    1.7s remaining:    0.1s\n",
      "[Parallel(n_jobs=-1)]: Done  92 out of  92 | elapsed:    1.8s finished\n"
     ]
    },
    {
     "name": "stdout",
     "output_type": "stream",
     "text": [
      "[1/3] Extracting positive paths.\n",
      "[2/3] Generating counterfactual examples for each tree. Total number of tasks: 100\n"
     ]
    },
    {
     "name": "stderr",
     "output_type": "stream",
     "text": [
      "[Parallel(n_jobs=-1)]: Using backend LokyBackend with 8 concurrent workers.\n",
      "[Parallel(n_jobs=-1)]: Done   2 tasks      | elapsed:    0.4s\n",
      "[Parallel(n_jobs=-1)]: Done   9 tasks      | elapsed:    0.8s\n",
      "[Parallel(n_jobs=-1)]: Done  16 tasks      | elapsed:    1.3s\n",
      "[Parallel(n_jobs=-1)]: Done  25 tasks      | elapsed:    1.8s\n",
      "[Parallel(n_jobs=-1)]: Done  34 tasks      | elapsed:    2.3s\n",
      "[Parallel(n_jobs=-1)]: Done  45 tasks      | elapsed:    2.9s\n",
      "[Parallel(n_jobs=-1)]: Done  56 tasks      | elapsed:    3.5s\n",
      "[Parallel(n_jobs=-1)]: Done  69 tasks      | elapsed:    4.2s\n",
      "[Parallel(n_jobs=-1)]: Done  82 tasks      | elapsed:    5.0s\n",
      "[Parallel(n_jobs=-1)]: Done  96 out of 100 | elapsed:    5.8s remaining:    0.2s\n",
      "[Parallel(n_jobs=-1)]: Done 100 out of 100 | elapsed:    6.0s finished\n"
     ]
    },
    {
     "name": "stdout",
     "output_type": "stream",
     "text": [
      "[3/3] Calculating loss function. Total number of tasks: 8\n"
     ]
    },
    {
     "name": "stderr",
     "output_type": "stream",
     "text": [
      "[Parallel(n_jobs=-1)]: Using backend LokyBackend with 8 concurrent workers.\n",
      "[Parallel(n_jobs=-1)]: Done   2 out of   8 | elapsed:    0.8s remaining:    2.3s\n",
      "[Parallel(n_jobs=-1)]: Done   3 out of   8 | elapsed:    0.8s remaining:    1.4s\n",
      "[Parallel(n_jobs=-1)]: Done   4 out of   8 | elapsed:    0.9s remaining:    0.9s\n",
      "[Parallel(n_jobs=-1)]: Done   5 out of   8 | elapsed:    0.9s remaining:    0.5s\n",
      "[Parallel(n_jobs=-1)]: Done   6 out of   8 | elapsed:    0.9s remaining:    0.3s\n",
      "[Parallel(n_jobs=-1)]: Done   8 out of   8 | elapsed:    0.9s remaining:    0.0s\n",
      "[Parallel(n_jobs=-1)]: Done   8 out of   8 | elapsed:    0.9s finished\n"
     ]
    },
    {
     "name": "stdout",
     "output_type": "stream",
     "text": [
      "Split time:  50.93117427825928 s\n",
      "3 / 10\n",
      "[1/3] Extracting positive paths.\n",
      "[2/3] Generating counterfactual examples for each tree. Total number of tasks: 100\n"
     ]
    },
    {
     "name": "stderr",
     "output_type": "stream",
     "text": [
      "[Parallel(n_jobs=-1)]: Using backend LokyBackend with 8 concurrent workers.\n",
      "[Parallel(n_jobs=-1)]: Done   2 tasks      | elapsed:    0.3s\n",
      "[Parallel(n_jobs=-1)]: Done   9 tasks      | elapsed:    0.8s\n",
      "[Parallel(n_jobs=-1)]: Done  16 tasks      | elapsed:    1.2s\n",
      "[Parallel(n_jobs=-1)]: Done  25 tasks      | elapsed:    1.5s\n",
      "[Parallel(n_jobs=-1)]: Done  34 tasks      | elapsed:    1.9s\n",
      "[Parallel(n_jobs=-1)]: Done  45 tasks      | elapsed:    2.3s\n",
      "[Parallel(n_jobs=-1)]: Done  56 tasks      | elapsed:    2.9s\n",
      "[Parallel(n_jobs=-1)]: Done  69 tasks      | elapsed:    3.5s\n",
      "[Parallel(n_jobs=-1)]: Done  82 tasks      | elapsed:    4.0s\n",
      "[Parallel(n_jobs=-1)]: Done  96 out of 100 | elapsed:    4.5s remaining:    0.2s\n",
      "[Parallel(n_jobs=-1)]: Done 100 out of 100 | elapsed:    4.8s finished\n"
     ]
    },
    {
     "name": "stdout",
     "output_type": "stream",
     "text": [
      "[3/3] Calculating loss function. Total number of tasks: 93\n"
     ]
    },
    {
     "name": "stderr",
     "output_type": "stream",
     "text": [
      "[Parallel(n_jobs=-1)]: Using backend LokyBackend with 8 concurrent workers.\n",
      "[Parallel(n_jobs=-1)]: Batch computation too fast (0.0249s.) Setting batch_size=2.\n",
      "[Parallel(n_jobs=-1)]: Done   2 tasks      | elapsed:    0.1s\n",
      "[Parallel(n_jobs=-1)]: Done   9 tasks      | elapsed:    0.2s\n",
      "[Parallel(n_jobs=-1)]: Done  18 tasks      | elapsed:    0.8s\n",
      "[Parallel(n_jobs=-1)]: Done  34 tasks      | elapsed:    1.5s\n",
      "[Parallel(n_jobs=-1)]: Done  52 tasks      | elapsed:    2.4s\n",
      "[Parallel(n_jobs=-1)]: Done  73 tasks      | elapsed:    3.2s\n",
      "[Parallel(n_jobs=-1)]: Done  78 out of  93 | elapsed:    3.5s remaining:    0.7s\n",
      "[Parallel(n_jobs=-1)]: Done  88 out of  93 | elapsed:    4.3s remaining:    0.2s\n",
      "[Parallel(n_jobs=-1)]: Done  93 out of  93 | elapsed:    4.4s finished\n"
     ]
    },
    {
     "name": "stdout",
     "output_type": "stream",
     "text": [
      "[1/3] Extracting positive paths.\n",
      "[2/3] Generating counterfactual examples for each tree. Total number of tasks: 100\n"
     ]
    },
    {
     "name": "stderr",
     "output_type": "stream",
     "text": [
      "[Parallel(n_jobs=-1)]: Using backend LokyBackend with 8 concurrent workers.\n",
      "[Parallel(n_jobs=-1)]: Done   2 tasks      | elapsed:    0.4s\n",
      "[Parallel(n_jobs=-1)]: Done   9 tasks      | elapsed:    0.9s\n",
      "[Parallel(n_jobs=-1)]: Done  16 tasks      | elapsed:    1.2s\n",
      "[Parallel(n_jobs=-1)]: Done  25 tasks      | elapsed:    1.8s\n",
      "[Parallel(n_jobs=-1)]: Done  34 tasks      | elapsed:    2.4s\n",
      "[Parallel(n_jobs=-1)]: Done  45 tasks      | elapsed:    3.1s\n",
      "[Parallel(n_jobs=-1)]: Done  56 tasks      | elapsed:    3.7s\n",
      "[Parallel(n_jobs=-1)]: Done  69 tasks      | elapsed:    4.6s\n",
      "[Parallel(n_jobs=-1)]: Done  82 tasks      | elapsed:    5.3s\n",
      "[Parallel(n_jobs=-1)]: Done  96 out of 100 | elapsed:    6.1s remaining:    0.3s\n",
      "[Parallel(n_jobs=-1)]: Done 100 out of 100 | elapsed:    6.3s finished\n"
     ]
    },
    {
     "name": "stdout",
     "output_type": "stream",
     "text": [
      "[3/3] Calculating loss function. Total number of tasks: 7\n"
     ]
    },
    {
     "name": "stderr",
     "output_type": "stream",
     "text": [
      "[Parallel(n_jobs=-1)]: Using backend LokyBackend with 8 concurrent workers.\n",
      "[Parallel(n_jobs=-1)]: Done   1 tasks      | elapsed:    0.7s\n",
      "[Parallel(n_jobs=-1)]: Done   2 out of   7 | elapsed:    1.7s remaining:    4.2s\n",
      "[Parallel(n_jobs=-1)]: Done   3 out of   7 | elapsed:    1.7s remaining:    2.2s\n",
      "[Parallel(n_jobs=-1)]: Done   4 out of   7 | elapsed:    1.7s remaining:    1.3s\n",
      "[Parallel(n_jobs=-1)]: Done   5 out of   7 | elapsed:    1.9s remaining:    0.8s\n",
      "[Parallel(n_jobs=-1)]: Done   7 out of   7 | elapsed:    2.1s remaining:    0.0s\n",
      "[Parallel(n_jobs=-1)]: Done   7 out of   7 | elapsed:    2.1s finished\n"
     ]
    },
    {
     "name": "stdout",
     "output_type": "stream",
     "text": [
      "found_0: 1 / 93\n",
      "found_1: 3 / 7\n",
      "[1/3] Extracting positive paths.\n",
      "[2/3] Generating counterfactual examples for each tree. Total number of tasks: 100\n"
     ]
    },
    {
     "name": "stderr",
     "output_type": "stream",
     "text": [
      "[Parallel(n_jobs=-1)]: Using backend LokyBackend with 8 concurrent workers.\n",
      "[Parallel(n_jobs=-1)]: Done   2 tasks      | elapsed:    0.3s\n",
      "[Parallel(n_jobs=-1)]: Done   9 tasks      | elapsed:    0.7s\n",
      "[Parallel(n_jobs=-1)]: Done  16 tasks      | elapsed:    1.0s\n",
      "[Parallel(n_jobs=-1)]: Done  25 tasks      | elapsed:    1.4s\n",
      "[Parallel(n_jobs=-1)]: Done  34 tasks      | elapsed:    1.8s\n",
      "[Parallel(n_jobs=-1)]: Done  45 tasks      | elapsed:    2.3s\n",
      "[Parallel(n_jobs=-1)]: Done  56 tasks      | elapsed:    2.9s\n",
      "[Parallel(n_jobs=-1)]: Done  69 tasks      | elapsed:    3.6s\n",
      "[Parallel(n_jobs=-1)]: Done  82 tasks      | elapsed:    4.1s\n",
      "[Parallel(n_jobs=-1)]: Done  96 out of 100 | elapsed:    4.7s remaining:    0.2s\n",
      "[Parallel(n_jobs=-1)]: Done 100 out of 100 | elapsed:    4.9s finished\n"
     ]
    },
    {
     "name": "stdout",
     "output_type": "stream",
     "text": [
      "[3/3] Calculating loss function. Total number of tasks: 93\n"
     ]
    },
    {
     "name": "stderr",
     "output_type": "stream",
     "text": [
      "[Parallel(n_jobs=-1)]: Using backend LokyBackend with 8 concurrent workers.\n",
      "[Parallel(n_jobs=-1)]: Batch computation too fast (0.0269s.) Setting batch_size=2.\n",
      "[Parallel(n_jobs=-1)]: Done   2 tasks      | elapsed:    0.1s\n",
      "[Parallel(n_jobs=-1)]: Done   9 tasks      | elapsed:    0.3s\n",
      "[Parallel(n_jobs=-1)]: Done  18 tasks      | elapsed:    0.6s\n",
      "[Parallel(n_jobs=-1)]: Done  34 tasks      | elapsed:    1.4s\n",
      "[Parallel(n_jobs=-1)]: Done  52 tasks      | elapsed:    2.0s\n",
      "[Parallel(n_jobs=-1)]: Done  73 tasks      | elapsed:    2.7s\n",
      "[Parallel(n_jobs=-1)]: Done  78 out of  93 | elapsed:    2.9s remaining:    0.6s\n",
      "[Parallel(n_jobs=-1)]: Done  88 out of  93 | elapsed:    3.5s remaining:    0.2s\n",
      "[Parallel(n_jobs=-1)]: Done  93 out of  93 | elapsed:    3.7s finished\n"
     ]
    },
    {
     "name": "stdout",
     "output_type": "stream",
     "text": [
      "[1/3] Extracting positive paths.\n",
      "[2/3] Generating counterfactual examples for each tree. Total number of tasks: 100\n"
     ]
    },
    {
     "name": "stderr",
     "output_type": "stream",
     "text": [
      "[Parallel(n_jobs=-1)]: Using backend LokyBackend with 8 concurrent workers.\n",
      "[Parallel(n_jobs=-1)]: Done   2 tasks      | elapsed:    0.4s\n",
      "[Parallel(n_jobs=-1)]: Done   9 tasks      | elapsed:    0.8s\n",
      "[Parallel(n_jobs=-1)]: Done  16 tasks      | elapsed:    1.1s\n",
      "[Parallel(n_jobs=-1)]: Done  25 tasks      | elapsed:    1.7s\n",
      "[Parallel(n_jobs=-1)]: Done  34 tasks      | elapsed:    2.2s\n",
      "[Parallel(n_jobs=-1)]: Done  45 tasks      | elapsed:    3.0s\n",
      "[Parallel(n_jobs=-1)]: Done  56 tasks      | elapsed:    3.7s\n",
      "[Parallel(n_jobs=-1)]: Done  69 tasks      | elapsed:    4.7s\n",
      "[Parallel(n_jobs=-1)]: Done  82 tasks      | elapsed:    5.8s\n",
      "[Parallel(n_jobs=-1)]: Done  96 out of 100 | elapsed:    6.7s remaining:    0.3s\n",
      "[Parallel(n_jobs=-1)]: Done 100 out of 100 | elapsed:    6.9s finished\n"
     ]
    },
    {
     "name": "stdout",
     "output_type": "stream",
     "text": [
      "[3/3] Calculating loss function. Total number of tasks: 7\n"
     ]
    },
    {
     "name": "stderr",
     "output_type": "stream",
     "text": [
      "[Parallel(n_jobs=-1)]: Using backend LokyBackend with 8 concurrent workers.\n",
      "[Parallel(n_jobs=-1)]: Done   1 tasks      | elapsed:    0.8s\n",
      "[Parallel(n_jobs=-1)]: Done   2 out of   7 | elapsed:    1.6s remaining:    3.9s\n",
      "[Parallel(n_jobs=-1)]: Done   3 out of   7 | elapsed:    1.6s remaining:    2.1s\n",
      "[Parallel(n_jobs=-1)]: Done   4 out of   7 | elapsed:    1.9s remaining:    1.4s\n",
      "[Parallel(n_jobs=-1)]: Done   5 out of   7 | elapsed:    2.0s remaining:    0.8s\n",
      "[Parallel(n_jobs=-1)]: Done   7 out of   7 | elapsed:    2.2s remaining:    0.0s\n",
      "[Parallel(n_jobs=-1)]: Done   7 out of   7 | elapsed:    2.2s finished\n"
     ]
    },
    {
     "name": "stdout",
     "output_type": "stream",
     "text": [
      "[1/3] Extracting positive paths.\n",
      "[2/3] Generating counterfactual examples for each tree. Total number of tasks: 100\n"
     ]
    },
    {
     "name": "stderr",
     "output_type": "stream",
     "text": [
      "[Parallel(n_jobs=-1)]: Using backend LokyBackend with 8 concurrent workers.\n",
      "[Parallel(n_jobs=-1)]: Done   2 tasks      | elapsed:    0.3s\n",
      "[Parallel(n_jobs=-1)]: Done   9 tasks      | elapsed:    0.8s\n",
      "[Parallel(n_jobs=-1)]: Done  16 tasks      | elapsed:    1.2s\n",
      "[Parallel(n_jobs=-1)]: Done  25 tasks      | elapsed:    1.5s\n",
      "[Parallel(n_jobs=-1)]: Done  34 tasks      | elapsed:    2.2s\n",
      "[Parallel(n_jobs=-1)]: Done  45 tasks      | elapsed:    2.8s\n",
      "[Parallel(n_jobs=-1)]: Done  56 tasks      | elapsed:    3.4s\n",
      "[Parallel(n_jobs=-1)]: Done  69 tasks      | elapsed:    4.2s\n",
      "[Parallel(n_jobs=-1)]: Done  82 tasks      | elapsed:    4.9s\n",
      "[Parallel(n_jobs=-1)]: Done  96 out of 100 | elapsed:    5.4s remaining:    0.2s\n",
      "[Parallel(n_jobs=-1)]: Done 100 out of 100 | elapsed:    5.6s finished\n"
     ]
    },
    {
     "name": "stdout",
     "output_type": "stream",
     "text": [
      "[3/3] Calculating loss function. Total number of tasks: 93\n"
     ]
    },
    {
     "name": "stderr",
     "output_type": "stream",
     "text": [
      "[Parallel(n_jobs=-1)]: Using backend LokyBackend with 8 concurrent workers.\n",
      "[Parallel(n_jobs=-1)]: Batch computation too fast (0.0177s.) Setting batch_size=2.\n",
      "[Parallel(n_jobs=-1)]: Done   2 tasks      | elapsed:    0.0s\n",
      "[Parallel(n_jobs=-1)]: Done   9 tasks      | elapsed:    0.1s\n",
      "[Parallel(n_jobs=-1)]: Batch computation too fast (0.1821s.) Setting batch_size=4.\n",
      "[Parallel(n_jobs=-1)]: Done  18 tasks      | elapsed:    0.2s\n",
      "[Parallel(n_jobs=-1)]: Done  34 tasks      | elapsed:    0.6s\n",
      "[Parallel(n_jobs=-1)]: Done  56 tasks      | elapsed:    1.3s\n",
      "[Parallel(n_jobs=-1)]: Done  88 out of  93 | elapsed:    1.7s remaining:    0.1s\n",
      "[Parallel(n_jobs=-1)]: Done  93 out of  93 | elapsed:    1.8s finished\n"
     ]
    },
    {
     "name": "stdout",
     "output_type": "stream",
     "text": [
      "[1/3] Extracting positive paths.\n",
      "[2/3] Generating counterfactual examples for each tree. Total number of tasks: 100\n"
     ]
    },
    {
     "name": "stderr",
     "output_type": "stream",
     "text": [
      "[Parallel(n_jobs=-1)]: Using backend LokyBackend with 8 concurrent workers.\n",
      "[Parallel(n_jobs=-1)]: Done   2 tasks      | elapsed:    0.4s\n",
      "[Parallel(n_jobs=-1)]: Done   9 tasks      | elapsed:    0.8s\n",
      "[Parallel(n_jobs=-1)]: Done  16 tasks      | elapsed:    1.2s\n",
      "[Parallel(n_jobs=-1)]: Done  25 tasks      | elapsed:    1.8s\n",
      "[Parallel(n_jobs=-1)]: Done  34 tasks      | elapsed:    2.4s\n",
      "[Parallel(n_jobs=-1)]: Done  45 tasks      | elapsed:    3.1s\n",
      "[Parallel(n_jobs=-1)]: Done  56 tasks      | elapsed:    3.9s\n",
      "[Parallel(n_jobs=-1)]: Done  69 tasks      | elapsed:    4.7s\n",
      "[Parallel(n_jobs=-1)]: Done  82 tasks      | elapsed:    5.5s\n",
      "[Parallel(n_jobs=-1)]: Done  96 out of 100 | elapsed:    6.3s remaining:    0.3s\n",
      "[Parallel(n_jobs=-1)]: Done 100 out of 100 | elapsed:    6.5s finished\n"
     ]
    },
    {
     "name": "stdout",
     "output_type": "stream",
     "text": [
      "[3/3] Calculating loss function. Total number of tasks: 7\n"
     ]
    },
    {
     "name": "stderr",
     "output_type": "stream",
     "text": [
      "[Parallel(n_jobs=-1)]: Using backend LokyBackend with 8 concurrent workers.\n",
      "[Parallel(n_jobs=-1)]: Done   1 tasks      | elapsed:    0.3s\n",
      "[Parallel(n_jobs=-1)]: Done   2 out of   7 | elapsed:    0.6s remaining:    1.4s\n",
      "[Parallel(n_jobs=-1)]: Done   3 out of   7 | elapsed:    0.7s remaining:    0.9s\n",
      "[Parallel(n_jobs=-1)]: Done   4 out of   7 | elapsed:    0.7s remaining:    0.5s\n",
      "[Parallel(n_jobs=-1)]: Done   5 out of   7 | elapsed:    0.8s remaining:    0.3s\n",
      "[Parallel(n_jobs=-1)]: Done   7 out of   7 | elapsed:    0.8s remaining:    0.0s\n",
      "[Parallel(n_jobs=-1)]: Done   7 out of   7 | elapsed:    0.8s finished\n"
     ]
    },
    {
     "name": "stdout",
     "output_type": "stream",
     "text": [
      "Split time:  55.48637866973877 s\n",
      "4 / 10\n",
      "[1/3] Extracting positive paths.\n",
      "[2/3] Generating counterfactual examples for each tree. Total number of tasks: 100\n"
     ]
    },
    {
     "name": "stderr",
     "output_type": "stream",
     "text": [
      "[Parallel(n_jobs=-1)]: Using backend LokyBackend with 8 concurrent workers.\n",
      "[Parallel(n_jobs=-1)]: Done   2 tasks      | elapsed:    0.3s\n",
      "[Parallel(n_jobs=-1)]: Done   9 tasks      | elapsed:    0.7s\n",
      "[Parallel(n_jobs=-1)]: Done  16 tasks      | elapsed:    1.0s\n",
      "[Parallel(n_jobs=-1)]: Done  25 tasks      | elapsed:    1.5s\n",
      "[Parallel(n_jobs=-1)]: Done  34 tasks      | elapsed:    1.9s\n",
      "[Parallel(n_jobs=-1)]: Done  45 tasks      | elapsed:    2.5s\n",
      "[Parallel(n_jobs=-1)]: Done  56 tasks      | elapsed:    3.0s\n",
      "[Parallel(n_jobs=-1)]: Done  69 tasks      | elapsed:    3.7s\n",
      "[Parallel(n_jobs=-1)]: Done  82 tasks      | elapsed:    4.3s\n",
      "[Parallel(n_jobs=-1)]: Done  96 out of 100 | elapsed:    4.9s remaining:    0.2s\n",
      "[Parallel(n_jobs=-1)]: Done 100 out of 100 | elapsed:    5.0s finished\n"
     ]
    },
    {
     "name": "stdout",
     "output_type": "stream",
     "text": [
      "[3/3] Calculating loss function. Total number of tasks: 92\n"
     ]
    },
    {
     "name": "stderr",
     "output_type": "stream",
     "text": [
      "[Parallel(n_jobs=-1)]: Using backend LokyBackend with 8 concurrent workers.\n",
      "[Parallel(n_jobs=-1)]: Batch computation too fast (0.0269s.) Setting batch_size=2.\n",
      "[Parallel(n_jobs=-1)]: Done   2 tasks      | elapsed:    0.0s\n",
      "[Parallel(n_jobs=-1)]: Done   9 tasks      | elapsed:    0.5s\n",
      "[Parallel(n_jobs=-1)]: Done  18 tasks      | elapsed:    0.9s\n",
      "[Parallel(n_jobs=-1)]: Done  35 tasks      | elapsed:    1.5s\n",
      "[Parallel(n_jobs=-1)]: Done  52 tasks      | elapsed:    2.2s\n",
      "[Parallel(n_jobs=-1)]: Done  72 tasks      | elapsed:    2.9s\n",
      "[Parallel(n_jobs=-1)]: Done  77 out of  92 | elapsed:    3.2s remaining:    0.6s\n",
      "[Parallel(n_jobs=-1)]: Done  87 out of  92 | elapsed:    3.6s remaining:    0.2s\n",
      "[Parallel(n_jobs=-1)]: Done  92 out of  92 | elapsed:    3.7s finished\n"
     ]
    },
    {
     "name": "stdout",
     "output_type": "stream",
     "text": [
      "[1/3] Extracting positive paths.\n",
      "[2/3] Generating counterfactual examples for each tree. Total number of tasks: 100\n"
     ]
    },
    {
     "name": "stderr",
     "output_type": "stream",
     "text": [
      "[Parallel(n_jobs=-1)]: Using backend LokyBackend with 8 concurrent workers.\n",
      "[Parallel(n_jobs=-1)]: Done   2 tasks      | elapsed:    0.5s\n",
      "[Parallel(n_jobs=-1)]: Done   9 tasks      | elapsed:    0.9s\n",
      "[Parallel(n_jobs=-1)]: Done  16 tasks      | elapsed:    1.3s\n",
      "[Parallel(n_jobs=-1)]: Done  25 tasks      | elapsed:    1.8s\n",
      "[Parallel(n_jobs=-1)]: Done  34 tasks      | elapsed:    2.4s\n",
      "[Parallel(n_jobs=-1)]: Done  45 tasks      | elapsed:    3.1s\n",
      "[Parallel(n_jobs=-1)]: Done  56 tasks      | elapsed:    3.9s\n",
      "[Parallel(n_jobs=-1)]: Done  69 tasks      | elapsed:    4.5s\n",
      "[Parallel(n_jobs=-1)]: Done  82 tasks      | elapsed:    5.3s\n",
      "[Parallel(n_jobs=-1)]: Done  96 out of 100 | elapsed:    6.2s remaining:    0.3s\n",
      "[Parallel(n_jobs=-1)]: Done 100 out of 100 | elapsed:    6.4s finished\n"
     ]
    },
    {
     "name": "stdout",
     "output_type": "stream",
     "text": [
      "[3/3] Calculating loss function. Total number of tasks: 8\n"
     ]
    },
    {
     "name": "stderr",
     "output_type": "stream",
     "text": [
      "[Parallel(n_jobs=-1)]: Using backend LokyBackend with 8 concurrent workers.\n",
      "[Parallel(n_jobs=-1)]: Done   2 out of   8 | elapsed:    2.1s remaining:    6.4s\n",
      "[Parallel(n_jobs=-1)]: Done   3 out of   8 | elapsed:    2.1s remaining:    3.5s\n",
      "[Parallel(n_jobs=-1)]: Done   4 out of   8 | elapsed:    2.2s remaining:    2.2s\n",
      "[Parallel(n_jobs=-1)]: Done   5 out of   8 | elapsed:    2.2s remaining:    1.3s\n",
      "[Parallel(n_jobs=-1)]: Done   6 out of   8 | elapsed:    2.3s remaining:    0.8s\n",
      "[Parallel(n_jobs=-1)]: Done   8 out of   8 | elapsed:    2.4s remaining:    0.0s\n",
      "[Parallel(n_jobs=-1)]: Done   8 out of   8 | elapsed:    2.4s finished\n"
     ]
    },
    {
     "name": "stdout",
     "output_type": "stream",
     "text": [
      "found_0: 0 / 92\n",
      "found_1: 2 / 8\n",
      "[1/3] Extracting positive paths.\n",
      "[2/3] Generating counterfactual examples for each tree. Total number of tasks: 100\n"
     ]
    },
    {
     "name": "stderr",
     "output_type": "stream",
     "text": [
      "[Parallel(n_jobs=-1)]: Using backend LokyBackend with 8 concurrent workers.\n",
      "[Parallel(n_jobs=-1)]: Done   2 tasks      | elapsed:    0.3s\n",
      "[Parallel(n_jobs=-1)]: Done   9 tasks      | elapsed:    0.8s\n",
      "[Parallel(n_jobs=-1)]: Done  16 tasks      | elapsed:    1.2s\n",
      "[Parallel(n_jobs=-1)]: Done  25 tasks      | elapsed:    1.6s\n",
      "[Parallel(n_jobs=-1)]: Done  34 tasks      | elapsed:    2.0s\n",
      "[Parallel(n_jobs=-1)]: Done  45 tasks      | elapsed:    2.4s\n",
      "[Parallel(n_jobs=-1)]: Done  56 tasks      | elapsed:    3.0s\n",
      "[Parallel(n_jobs=-1)]: Done  69 tasks      | elapsed:    3.7s\n",
      "[Parallel(n_jobs=-1)]: Done  82 tasks      | elapsed:    4.3s\n",
      "[Parallel(n_jobs=-1)]: Done  96 out of 100 | elapsed:    4.9s remaining:    0.2s\n",
      "[Parallel(n_jobs=-1)]: Done 100 out of 100 | elapsed:    5.0s finished\n"
     ]
    },
    {
     "name": "stdout",
     "output_type": "stream",
     "text": [
      "[3/3] Calculating loss function. Total number of tasks: 92\n"
     ]
    },
    {
     "name": "stderr",
     "output_type": "stream",
     "text": [
      "[Parallel(n_jobs=-1)]: Using backend LokyBackend with 8 concurrent workers.\n",
      "[Parallel(n_jobs=-1)]: Batch computation too fast (0.0263s.) Setting batch_size=2.\n",
      "[Parallel(n_jobs=-1)]: Done   2 tasks      | elapsed:    0.0s\n",
      "[Parallel(n_jobs=-1)]: Done   9 tasks      | elapsed:    0.5s\n",
      "[Parallel(n_jobs=-1)]: Done  18 tasks      | elapsed:    0.8s\n",
      "[Parallel(n_jobs=-1)]: Done  35 tasks      | elapsed:    1.5s\n",
      "[Parallel(n_jobs=-1)]: Done  52 tasks      | elapsed:    2.2s\n",
      "[Parallel(n_jobs=-1)]: Done  73 tasks      | elapsed:    2.9s\n",
      "[Parallel(n_jobs=-1)]: Done  77 out of  92 | elapsed:    3.2s remaining:    0.6s\n",
      "[Parallel(n_jobs=-1)]: Done  87 out of  92 | elapsed:    3.5s remaining:    0.2s\n",
      "[Parallel(n_jobs=-1)]: Done  92 out of  92 | elapsed:    3.7s finished\n"
     ]
    },
    {
     "name": "stdout",
     "output_type": "stream",
     "text": [
      "[1/3] Extracting positive paths.\n",
      "[2/3] Generating counterfactual examples for each tree. Total number of tasks: 100\n"
     ]
    },
    {
     "name": "stderr",
     "output_type": "stream",
     "text": [
      "[Parallel(n_jobs=-1)]: Using backend LokyBackend with 8 concurrent workers.\n",
      "[Parallel(n_jobs=-1)]: Done   2 tasks      | elapsed:    0.5s\n",
      "[Parallel(n_jobs=-1)]: Done   9 tasks      | elapsed:    0.9s\n",
      "[Parallel(n_jobs=-1)]: Done  16 tasks      | elapsed:    1.2s\n",
      "[Parallel(n_jobs=-1)]: Done  25 tasks      | elapsed:    1.8s\n",
      "[Parallel(n_jobs=-1)]: Done  34 tasks      | elapsed:    2.4s\n",
      "[Parallel(n_jobs=-1)]: Done  45 tasks      | elapsed:    3.1s\n",
      "[Parallel(n_jobs=-1)]: Done  56 tasks      | elapsed:    3.9s\n",
      "[Parallel(n_jobs=-1)]: Done  69 tasks      | elapsed:    4.6s\n",
      "[Parallel(n_jobs=-1)]: Done  82 tasks      | elapsed:    5.3s\n",
      "[Parallel(n_jobs=-1)]: Done  96 out of 100 | elapsed:    6.2s remaining:    0.3s\n",
      "[Parallel(n_jobs=-1)]: Done 100 out of 100 | elapsed:    6.4s finished\n"
     ]
    },
    {
     "name": "stdout",
     "output_type": "stream",
     "text": [
      "[3/3] Calculating loss function. Total number of tasks: 8\n"
     ]
    },
    {
     "name": "stderr",
     "output_type": "stream",
     "text": [
      "[Parallel(n_jobs=-1)]: Using backend LokyBackend with 8 concurrent workers.\n",
      "[Parallel(n_jobs=-1)]: Done   2 out of   8 | elapsed:    2.0s remaining:    6.1s\n",
      "[Parallel(n_jobs=-1)]: Done   3 out of   8 | elapsed:    2.1s remaining:    3.5s\n",
      "[Parallel(n_jobs=-1)]: Done   4 out of   8 | elapsed:    2.2s remaining:    2.2s\n",
      "[Parallel(n_jobs=-1)]: Done   5 out of   8 | elapsed:    2.3s remaining:    1.4s\n",
      "[Parallel(n_jobs=-1)]: Done   6 out of   8 | elapsed:    2.3s remaining:    0.8s\n",
      "[Parallel(n_jobs=-1)]: Done   8 out of   8 | elapsed:    2.4s remaining:    0.0s\n",
      "[Parallel(n_jobs=-1)]: Done   8 out of   8 | elapsed:    2.4s finished\n"
     ]
    },
    {
     "name": "stdout",
     "output_type": "stream",
     "text": [
      "[1/3] Extracting positive paths.\n",
      "[2/3] Generating counterfactual examples for each tree. Total number of tasks: 100\n"
     ]
    },
    {
     "name": "stderr",
     "output_type": "stream",
     "text": [
      "[Parallel(n_jobs=-1)]: Using backend LokyBackend with 8 concurrent workers.\n",
      "[Parallel(n_jobs=-1)]: Batch computation too fast (0.1701s.) Setting batch_size=2.\n",
      "[Parallel(n_jobs=-1)]: Done   2 tasks      | elapsed:    0.3s\n",
      "[Parallel(n_jobs=-1)]: Done   9 tasks      | elapsed:    0.7s\n",
      "[Parallel(n_jobs=-1)]: Done  16 tasks      | elapsed:    1.1s\n",
      "[Parallel(n_jobs=-1)]: Done  34 tasks      | elapsed:    1.9s\n",
      "[Parallel(n_jobs=-1)]: Done  52 tasks      | elapsed:    2.5s\n",
      "[Parallel(n_jobs=-1)]: Done  74 tasks      | elapsed:    3.6s\n",
      "[Parallel(n_jobs=-1)]: Done  96 out of 100 | elapsed:    4.4s remaining:    0.2s\n",
      "[Parallel(n_jobs=-1)]: Done 100 out of 100 | elapsed:    4.5s finished\n"
     ]
    },
    {
     "name": "stdout",
     "output_type": "stream",
     "text": [
      "[3/3] Calculating loss function. Total number of tasks: 92\n"
     ]
    },
    {
     "name": "stderr",
     "output_type": "stream",
     "text": [
      "[Parallel(n_jobs=-1)]: Using backend LokyBackend with 8 concurrent workers.\n",
      "[Parallel(n_jobs=-1)]: Batch computation too fast (0.0145s.) Setting batch_size=2.\n",
      "[Parallel(n_jobs=-1)]: Done   2 tasks      | elapsed:    0.0s\n",
      "[Parallel(n_jobs=-1)]: Done   9 tasks      | elapsed:    0.2s\n",
      "[Parallel(n_jobs=-1)]: Done  18 tasks      | elapsed:    0.3s\n",
      "[Parallel(n_jobs=-1)]: Done  35 tasks      | elapsed:    0.6s\n",
      "[Parallel(n_jobs=-1)]: Done  52 tasks      | elapsed:    0.9s\n",
      "[Parallel(n_jobs=-1)]: Done  72 tasks      | elapsed:    1.2s\n",
      "[Parallel(n_jobs=-1)]: Done  77 out of  92 | elapsed:    1.3s remaining:    0.3s\n",
      "[Parallel(n_jobs=-1)]: Done  87 out of  92 | elapsed:    1.5s remaining:    0.1s\n",
      "[Parallel(n_jobs=-1)]: Done  92 out of  92 | elapsed:    1.6s finished\n"
     ]
    },
    {
     "name": "stdout",
     "output_type": "stream",
     "text": [
      "[1/3] Extracting positive paths.\n",
      "[2/3] Generating counterfactual examples for each tree. Total number of tasks: 100\n"
     ]
    },
    {
     "name": "stderr",
     "output_type": "stream",
     "text": [
      "[Parallel(n_jobs=-1)]: Using backend LokyBackend with 8 concurrent workers.\n",
      "[Parallel(n_jobs=-1)]: Done   2 tasks      | elapsed:    0.5s\n",
      "[Parallel(n_jobs=-1)]: Done   9 tasks      | elapsed:    0.9s\n",
      "[Parallel(n_jobs=-1)]: Done  16 tasks      | elapsed:    1.2s\n",
      "[Parallel(n_jobs=-1)]: Done  25 tasks      | elapsed:    1.8s\n",
      "[Parallel(n_jobs=-1)]: Done  34 tasks      | elapsed:    2.3s\n",
      "[Parallel(n_jobs=-1)]: Done  45 tasks      | elapsed:    3.0s\n",
      "[Parallel(n_jobs=-1)]: Done  56 tasks      | elapsed:    3.8s\n",
      "[Parallel(n_jobs=-1)]: Done  69 tasks      | elapsed:    4.6s\n",
      "[Parallel(n_jobs=-1)]: Done  82 tasks      | elapsed:    5.3s\n",
      "[Parallel(n_jobs=-1)]: Done  96 out of 100 | elapsed:    6.2s remaining:    0.3s\n",
      "[Parallel(n_jobs=-1)]: Done 100 out of 100 | elapsed:    6.3s finished\n"
     ]
    },
    {
     "name": "stdout",
     "output_type": "stream",
     "text": [
      "[3/3] Calculating loss function. Total number of tasks: 8\n"
     ]
    },
    {
     "name": "stderr",
     "output_type": "stream",
     "text": [
      "[Parallel(n_jobs=-1)]: Using backend LokyBackend with 8 concurrent workers.\n",
      "[Parallel(n_jobs=-1)]: Done   2 out of   8 | elapsed:    0.7s remaining:    2.2s\n",
      "[Parallel(n_jobs=-1)]: Done   3 out of   8 | elapsed:    0.8s remaining:    1.4s\n",
      "[Parallel(n_jobs=-1)]: Done   4 out of   8 | elapsed:    0.9s remaining:    0.9s\n",
      "[Parallel(n_jobs=-1)]: Done   5 out of   8 | elapsed:    0.9s remaining:    0.5s\n",
      "[Parallel(n_jobs=-1)]: Done   6 out of   8 | elapsed:    0.9s remaining:    0.3s\n",
      "[Parallel(n_jobs=-1)]: Done   8 out of   8 | elapsed:    1.0s remaining:    0.0s\n",
      "[Parallel(n_jobs=-1)]: Done   8 out of   8 | elapsed:    1.0s finished\n"
     ]
    },
    {
     "name": "stdout",
     "output_type": "stream",
     "text": [
      "Split time:  53.145753622055054 s\n",
      "5 / 10\n",
      "[1/3] Extracting positive paths.\n",
      "[2/3] Generating counterfactual examples for each tree. Total number of tasks: 100\n"
     ]
    },
    {
     "name": "stderr",
     "output_type": "stream",
     "text": [
      "[Parallel(n_jobs=-1)]: Using backend LokyBackend with 8 concurrent workers.\n",
      "[Parallel(n_jobs=-1)]: Done   2 tasks      | elapsed:    0.4s\n",
      "[Parallel(n_jobs=-1)]: Done   9 tasks      | elapsed:    0.7s\n",
      "[Parallel(n_jobs=-1)]: Done  16 tasks      | elapsed:    1.1s\n",
      "[Parallel(n_jobs=-1)]: Done  25 tasks      | elapsed:    1.5s\n",
      "[Parallel(n_jobs=-1)]: Done  34 tasks      | elapsed:    1.8s\n",
      "[Parallel(n_jobs=-1)]: Done  45 tasks      | elapsed:    2.3s\n",
      "[Parallel(n_jobs=-1)]: Done  56 tasks      | elapsed:    3.0s\n",
      "[Parallel(n_jobs=-1)]: Done  69 tasks      | elapsed:    3.4s\n",
      "[Parallel(n_jobs=-1)]: Done  82 tasks      | elapsed:    4.1s\n",
      "[Parallel(n_jobs=-1)]: Done  96 out of 100 | elapsed:    4.6s remaining:    0.2s\n",
      "[Parallel(n_jobs=-1)]: Done 100 out of 100 | elapsed:    4.8s finished\n"
     ]
    },
    {
     "name": "stdout",
     "output_type": "stream",
     "text": [
      "[3/3] Calculating loss function. Total number of tasks: 90\n"
     ]
    },
    {
     "name": "stderr",
     "output_type": "stream",
     "text": [
      "[Parallel(n_jobs=-1)]: Using backend LokyBackend with 8 concurrent workers.\n",
      "[Parallel(n_jobs=-1)]: Batch computation too fast (0.0294s.) Setting batch_size=2.\n",
      "[Parallel(n_jobs=-1)]: Done   2 tasks      | elapsed:    0.0s\n",
      "[Parallel(n_jobs=-1)]: Done   9 tasks      | elapsed:    0.1s\n",
      "[Parallel(n_jobs=-1)]: Batch computation too fast (0.1896s.) Setting batch_size=4.\n",
      "[Parallel(n_jobs=-1)]: Done  18 tasks      | elapsed:    0.6s\n",
      "[Parallel(n_jobs=-1)]: Done  34 tasks      | elapsed:    1.2s\n",
      "[Parallel(n_jobs=-1)]: Done  58 tasks      | elapsed:    1.9s\n",
      "[Parallel(n_jobs=-1)]: Done  85 out of  90 | elapsed:    2.5s remaining:    0.1s\n",
      "[Parallel(n_jobs=-1)]: Done  90 out of  90 | elapsed:    3.0s finished\n",
      "[Parallel(n_jobs=-1)]: Using backend LokyBackend with 8 concurrent workers.\n"
     ]
    },
    {
     "name": "stdout",
     "output_type": "stream",
     "text": [
      "[1/3] Extracting positive paths.\n",
      "[2/3] Generating counterfactual examples for each tree. Total number of tasks: 100\n"
     ]
    },
    {
     "name": "stderr",
     "output_type": "stream",
     "text": [
      "[Parallel(n_jobs=-1)]: Done   2 tasks      | elapsed:    0.4s\n",
      "[Parallel(n_jobs=-1)]: Done   9 tasks      | elapsed:    0.8s\n",
      "[Parallel(n_jobs=-1)]: Done  16 tasks      | elapsed:    1.2s\n",
      "[Parallel(n_jobs=-1)]: Done  25 tasks      | elapsed:    1.9s\n",
      "[Parallel(n_jobs=-1)]: Done  34 tasks      | elapsed:    2.5s\n",
      "[Parallel(n_jobs=-1)]: Done  45 tasks      | elapsed:    3.2s\n",
      "[Parallel(n_jobs=-1)]: Done  56 tasks      | elapsed:    4.0s\n",
      "[Parallel(n_jobs=-1)]: Done  69 tasks      | elapsed:    4.7s\n",
      "[Parallel(n_jobs=-1)]: Done  82 tasks      | elapsed:    5.6s\n",
      "[Parallel(n_jobs=-1)]: Done  96 out of 100 | elapsed:    6.4s remaining:    0.3s\n",
      "[Parallel(n_jobs=-1)]: Done 100 out of 100 | elapsed:    6.6s finished\n"
     ]
    },
    {
     "name": "stdout",
     "output_type": "stream",
     "text": [
      "[3/3] Calculating loss function. Total number of tasks: 10\n"
     ]
    },
    {
     "name": "stderr",
     "output_type": "stream",
     "text": [
      "[Parallel(n_jobs=-1)]: Using backend LokyBackend with 8 concurrent workers.\n",
      "[Parallel(n_jobs=-1)]: Done   3 out of  10 | elapsed:    2.1s remaining:    4.9s\n",
      "[Parallel(n_jobs=-1)]: Done   5 out of  10 | elapsed:    2.2s remaining:    2.2s\n",
      "[Parallel(n_jobs=-1)]: Done   7 out of  10 | elapsed:    2.3s remaining:    1.0s\n",
      "[Parallel(n_jobs=-1)]: Done  10 out of  10 | elapsed:    3.1s finished\n"
     ]
    },
    {
     "name": "stdout",
     "output_type": "stream",
     "text": [
      "found_0: 0 / 90\n",
      "found_1: 4 / 10\n",
      "[1/3] Extracting positive paths.\n",
      "[2/3] Generating counterfactual examples for each tree. Total number of tasks: 100\n"
     ]
    },
    {
     "name": "stderr",
     "output_type": "stream",
     "text": [
      "[Parallel(n_jobs=-1)]: Using backend LokyBackend with 8 concurrent workers.\n",
      "[Parallel(n_jobs=-1)]: Done   2 tasks      | elapsed:    0.3s\n",
      "[Parallel(n_jobs=-1)]: Done   9 tasks      | elapsed:    0.7s\n",
      "[Parallel(n_jobs=-1)]: Done  16 tasks      | elapsed:    1.1s\n",
      "[Parallel(n_jobs=-1)]: Done  25 tasks      | elapsed:    1.5s\n",
      "[Parallel(n_jobs=-1)]: Done  34 tasks      | elapsed:    1.8s\n",
      "[Parallel(n_jobs=-1)]: Done  45 tasks      | elapsed:    2.3s\n",
      "[Parallel(n_jobs=-1)]: Done  56 tasks      | elapsed:    3.0s\n",
      "[Parallel(n_jobs=-1)]: Done  69 tasks      | elapsed:    3.6s\n",
      "[Parallel(n_jobs=-1)]: Done  82 tasks      | elapsed:    4.3s\n",
      "[Parallel(n_jobs=-1)]: Done  96 out of 100 | elapsed:    4.7s remaining:    0.2s\n",
      "[Parallel(n_jobs=-1)]: Done 100 out of 100 | elapsed:    4.9s finished\n"
     ]
    },
    {
     "name": "stdout",
     "output_type": "stream",
     "text": [
      "[3/3] Calculating loss function. Total number of tasks: 90\n"
     ]
    },
    {
     "name": "stderr",
     "output_type": "stream",
     "text": [
      "[Parallel(n_jobs=-1)]: Using backend LokyBackend with 8 concurrent workers.\n",
      "[Parallel(n_jobs=-1)]: Batch computation too fast (0.0308s.) Setting batch_size=2.\n",
      "[Parallel(n_jobs=-1)]: Done   2 tasks      | elapsed:    0.0s\n",
      "[Parallel(n_jobs=-1)]: Done   9 tasks      | elapsed:    0.1s\n",
      "[Parallel(n_jobs=-1)]: Batch computation too fast (0.1827s.) Setting batch_size=4.\n",
      "[Parallel(n_jobs=-1)]: Done  17 tasks      | elapsed:    0.6s\n",
      "[Parallel(n_jobs=-1)]: Done  34 tasks      | elapsed:    1.2s\n",
      "[Parallel(n_jobs=-1)]: Done  58 tasks      | elapsed:    2.0s\n",
      "[Parallel(n_jobs=-1)]: Done  85 out of  90 | elapsed:    2.4s remaining:    0.1s\n",
      "[Parallel(n_jobs=-1)]: Done  90 out of  90 | elapsed:    3.0s finished\n",
      "[Parallel(n_jobs=-1)]: Using backend LokyBackend with 8 concurrent workers.\n"
     ]
    },
    {
     "name": "stdout",
     "output_type": "stream",
     "text": [
      "[1/3] Extracting positive paths.\n",
      "[2/3] Generating counterfactual examples for each tree. Total number of tasks: 100\n"
     ]
    },
    {
     "name": "stderr",
     "output_type": "stream",
     "text": [
      "[Parallel(n_jobs=-1)]: Done   2 tasks      | elapsed:    0.4s\n",
      "[Parallel(n_jobs=-1)]: Done   9 tasks      | elapsed:    0.8s\n",
      "[Parallel(n_jobs=-1)]: Done  16 tasks      | elapsed:    1.3s\n",
      "[Parallel(n_jobs=-1)]: Done  25 tasks      | elapsed:    1.9s\n",
      "[Parallel(n_jobs=-1)]: Done  34 tasks      | elapsed:    2.4s\n",
      "[Parallel(n_jobs=-1)]: Done  45 tasks      | elapsed:    3.2s\n",
      "[Parallel(n_jobs=-1)]: Done  56 tasks      | elapsed:    3.9s\n",
      "[Parallel(n_jobs=-1)]: Done  69 tasks      | elapsed:    4.7s\n",
      "[Parallel(n_jobs=-1)]: Done  82 tasks      | elapsed:    5.6s\n",
      "[Parallel(n_jobs=-1)]: Done  96 out of 100 | elapsed:    6.3s remaining:    0.3s\n",
      "[Parallel(n_jobs=-1)]: Done 100 out of 100 | elapsed:    6.6s finished\n"
     ]
    },
    {
     "name": "stdout",
     "output_type": "stream",
     "text": [
      "[3/3] Calculating loss function. Total number of tasks: 10\n"
     ]
    },
    {
     "name": "stderr",
     "output_type": "stream",
     "text": [
      "[Parallel(n_jobs=-1)]: Using backend LokyBackend with 8 concurrent workers.\n",
      "[Parallel(n_jobs=-1)]: Done   3 out of  10 | elapsed:    2.0s remaining:    4.8s\n",
      "[Parallel(n_jobs=-1)]: Done   5 out of  10 | elapsed:    2.1s remaining:    2.1s\n",
      "[Parallel(n_jobs=-1)]: Done   7 out of  10 | elapsed:    2.3s remaining:    1.0s\n",
      "[Parallel(n_jobs=-1)]: Done  10 out of  10 | elapsed:    3.2s finished\n"
     ]
    },
    {
     "name": "stdout",
     "output_type": "stream",
     "text": [
      "[1/3] Extracting positive paths.\n",
      "[2/3] Generating counterfactual examples for each tree. Total number of tasks: 100\n"
     ]
    },
    {
     "name": "stderr",
     "output_type": "stream",
     "text": [
      "[Parallel(n_jobs=-1)]: Using backend LokyBackend with 8 concurrent workers.\n",
      "[Parallel(n_jobs=-1)]: Done   2 tasks      | elapsed:    0.4s\n",
      "[Parallel(n_jobs=-1)]: Done   9 tasks      | elapsed:    0.7s\n",
      "[Parallel(n_jobs=-1)]: Done  16 tasks      | elapsed:    1.1s\n",
      "[Parallel(n_jobs=-1)]: Done  25 tasks      | elapsed:    1.4s\n",
      "[Parallel(n_jobs=-1)]: Done  34 tasks      | elapsed:    2.0s\n",
      "[Parallel(n_jobs=-1)]: Done  45 tasks      | elapsed:    2.4s\n",
      "[Parallel(n_jobs=-1)]: Done  56 tasks      | elapsed:    2.9s\n",
      "[Parallel(n_jobs=-1)]: Done  69 tasks      | elapsed:    3.6s\n",
      "[Parallel(n_jobs=-1)]: Done  82 tasks      | elapsed:    4.1s\n",
      "[Parallel(n_jobs=-1)]: Done  96 out of 100 | elapsed:    4.7s remaining:    0.2s\n",
      "[Parallel(n_jobs=-1)]: Done 100 out of 100 | elapsed:    4.8s finished\n"
     ]
    },
    {
     "name": "stdout",
     "output_type": "stream",
     "text": [
      "[3/3] Calculating loss function. Total number of tasks: 90\n"
     ]
    },
    {
     "name": "stderr",
     "output_type": "stream",
     "text": [
      "[Parallel(n_jobs=-1)]: Using backend LokyBackend with 8 concurrent workers.\n",
      "[Parallel(n_jobs=-1)]: Batch computation too fast (0.0249s.) Setting batch_size=2.\n",
      "[Parallel(n_jobs=-1)]: Done   2 tasks      | elapsed:    0.0s\n",
      "[Parallel(n_jobs=-1)]: Done   9 tasks      | elapsed:    0.1s\n",
      "[Parallel(n_jobs=-1)]: Batch computation too fast (0.0850s.) Setting batch_size=4.\n",
      "[Parallel(n_jobs=-1)]: Done  18 tasks      | elapsed:    0.2s\n",
      "[Parallel(n_jobs=-1)]: Done  34 tasks      | elapsed:    0.5s\n",
      "[Parallel(n_jobs=-1)]: Done  58 tasks      | elapsed:    0.8s\n",
      "[Parallel(n_jobs=-1)]: Done  75 out of  90 | elapsed:    1.0s remaining:    0.2s\n",
      "[Parallel(n_jobs=-1)]: Done  85 out of  90 | elapsed:    1.0s remaining:    0.1s\n",
      "[Parallel(n_jobs=-1)]: Done  90 out of  90 | elapsed:    1.3s finished\n",
      "[Parallel(n_jobs=-1)]: Using backend LokyBackend with 8 concurrent workers.\n"
     ]
    },
    {
     "name": "stdout",
     "output_type": "stream",
     "text": [
      "[1/3] Extracting positive paths.\n",
      "[2/3] Generating counterfactual examples for each tree. Total number of tasks: 100\n"
     ]
    },
    {
     "name": "stderr",
     "output_type": "stream",
     "text": [
      "[Parallel(n_jobs=-1)]: Done   2 tasks      | elapsed:    0.4s\n",
      "[Parallel(n_jobs=-1)]: Done   9 tasks      | elapsed:    0.8s\n",
      "[Parallel(n_jobs=-1)]: Done  16 tasks      | elapsed:    1.3s\n",
      "[Parallel(n_jobs=-1)]: Done  25 tasks      | elapsed:    2.0s\n",
      "[Parallel(n_jobs=-1)]: Done  34 tasks      | elapsed:    2.5s\n",
      "[Parallel(n_jobs=-1)]: Done  45 tasks      | elapsed:    3.2s\n",
      "[Parallel(n_jobs=-1)]: Done  56 tasks      | elapsed:    3.9s\n",
      "[Parallel(n_jobs=-1)]: Done  69 tasks      | elapsed:    4.7s\n",
      "[Parallel(n_jobs=-1)]: Done  82 tasks      | elapsed:    5.6s\n",
      "[Parallel(n_jobs=-1)]: Done  96 out of 100 | elapsed:    6.4s remaining:    0.3s\n",
      "[Parallel(n_jobs=-1)]: Done 100 out of 100 | elapsed:    6.7s finished\n"
     ]
    },
    {
     "name": "stdout",
     "output_type": "stream",
     "text": [
      "[3/3] Calculating loss function. Total number of tasks: 10\n"
     ]
    },
    {
     "name": "stderr",
     "output_type": "stream",
     "text": [
      "[Parallel(n_jobs=-1)]: Using backend LokyBackend with 8 concurrent workers.\n",
      "[Parallel(n_jobs=-1)]: Done   3 out of  10 | elapsed:    0.8s remaining:    1.9s\n",
      "[Parallel(n_jobs=-1)]: Done   5 out of  10 | elapsed:    0.8s remaining:    0.8s\n",
      "[Parallel(n_jobs=-1)]: Done   7 out of  10 | elapsed:    0.9s remaining:    0.4s\n",
      "[Parallel(n_jobs=-1)]: Done  10 out of  10 | elapsed:    1.3s finished\n"
     ]
    },
    {
     "name": "stdout",
     "output_type": "stream",
     "text": [
      "Split time:  54.13099002838135 s\n",
      "6 / 10\n",
      "[1/3] Extracting positive paths.\n",
      "[2/3] Generating counterfactual examples for each tree. Total number of tasks: 100\n"
     ]
    },
    {
     "name": "stderr",
     "output_type": "stream",
     "text": [
      "[Parallel(n_jobs=-1)]: Using backend LokyBackend with 8 concurrent workers.\n",
      "[Parallel(n_jobs=-1)]: Batch computation too fast (0.1862s.) Setting batch_size=2.\n",
      "[Parallel(n_jobs=-1)]: Done   2 tasks      | elapsed:    0.3s\n",
      "[Parallel(n_jobs=-1)]: Done   9 tasks      | elapsed:    0.6s\n",
      "[Parallel(n_jobs=-1)]: Done  16 tasks      | elapsed:    0.8s\n",
      "[Parallel(n_jobs=-1)]: Done  34 tasks      | elapsed:    1.8s\n",
      "[Parallel(n_jobs=-1)]: Done  52 tasks      | elapsed:    2.4s\n",
      "[Parallel(n_jobs=-1)]: Done  74 tasks      | elapsed:    3.3s\n",
      "[Parallel(n_jobs=-1)]: Done  96 out of 100 | elapsed:    4.0s remaining:    0.2s\n",
      "[Parallel(n_jobs=-1)]: Done 100 out of 100 | elapsed:    4.1s finished\n"
     ]
    },
    {
     "name": "stdout",
     "output_type": "stream",
     "text": [
      "[3/3] Calculating loss function. Total number of tasks: 88\n"
     ]
    },
    {
     "name": "stderr",
     "output_type": "stream",
     "text": [
      "[Parallel(n_jobs=-1)]: Using backend LokyBackend with 8 concurrent workers.\n",
      "[Parallel(n_jobs=-1)]: Batch computation too fast (0.0222s.) Setting batch_size=2.\n",
      "[Parallel(n_jobs=-1)]: Done   2 tasks      | elapsed:    0.0s\n",
      "[Parallel(n_jobs=-1)]: Done   9 tasks      | elapsed:    0.3s\n",
      "[Parallel(n_jobs=-1)]: Done  19 tasks      | elapsed:    0.6s\n",
      "[Parallel(n_jobs=-1)]: Done  34 tasks      | elapsed:    1.0s\n",
      "[Parallel(n_jobs=-1)]: Done  52 tasks      | elapsed:    1.7s\n",
      "[Parallel(n_jobs=-1)]: Done  82 out of  88 | elapsed:    2.3s remaining:    0.2s\n",
      "[Parallel(n_jobs=-1)]: Done  88 out of  88 | elapsed:    2.6s finished\n",
      "[Parallel(n_jobs=-1)]: Using backend LokyBackend with 8 concurrent workers.\n"
     ]
    },
    {
     "name": "stdout",
     "output_type": "stream",
     "text": [
      "[1/3] Extracting positive paths.\n",
      "[2/3] Generating counterfactual examples for each tree. Total number of tasks: 100\n"
     ]
    },
    {
     "name": "stderr",
     "output_type": "stream",
     "text": [
      "[Parallel(n_jobs=-1)]: Done   2 tasks      | elapsed:    0.6s\n",
      "[Parallel(n_jobs=-1)]: Done   9 tasks      | elapsed:    1.0s\n",
      "[Parallel(n_jobs=-1)]: Done  16 tasks      | elapsed:    1.4s\n",
      "[Parallel(n_jobs=-1)]: Done  25 tasks      | elapsed:    2.1s\n",
      "[Parallel(n_jobs=-1)]: Done  34 tasks      | elapsed:    2.7s\n",
      "[Parallel(n_jobs=-1)]: Done  45 tasks      | elapsed:    3.6s\n",
      "[Parallel(n_jobs=-1)]: Done  56 tasks      | elapsed:    4.2s\n",
      "[Parallel(n_jobs=-1)]: Done  69 tasks      | elapsed:    5.1s\n",
      "[Parallel(n_jobs=-1)]: Done  82 tasks      | elapsed:    6.1s\n",
      "[Parallel(n_jobs=-1)]: Done  96 out of 100 | elapsed:    6.9s remaining:    0.3s\n",
      "[Parallel(n_jobs=-1)]: Done 100 out of 100 | elapsed:    7.1s finished\n"
     ]
    },
    {
     "name": "stdout",
     "output_type": "stream",
     "text": [
      "[3/3] Calculating loss function. Total number of tasks: 12\n"
     ]
    },
    {
     "name": "stderr",
     "output_type": "stream",
     "text": [
      "[Parallel(n_jobs=-1)]: Using backend LokyBackend with 8 concurrent workers.\n",
      "[Parallel(n_jobs=-1)]: Done   1 tasks      | elapsed:    2.4s\n",
      "[Parallel(n_jobs=-1)]: Done   3 out of  12 | elapsed:    2.6s remaining:    7.8s\n",
      "[Parallel(n_jobs=-1)]: Done   5 out of  12 | elapsed:    2.8s remaining:    3.9s\n",
      "[Parallel(n_jobs=-1)]: Done   7 out of  12 | elapsed:    2.9s remaining:    2.1s\n",
      "[Parallel(n_jobs=-1)]: Done   9 out of  12 | elapsed:    4.0s remaining:    1.3s\n",
      "[Parallel(n_jobs=-1)]: Done  12 out of  12 | elapsed:    4.4s finished\n"
     ]
    },
    {
     "name": "stdout",
     "output_type": "stream",
     "text": [
      "found_0: 0 / 88\n",
      "found_1: 0 / 12\n",
      "[1/3] Extracting positive paths.\n",
      "[2/3] Generating counterfactual examples for each tree. Total number of tasks: 100\n"
     ]
    },
    {
     "name": "stderr",
     "output_type": "stream",
     "text": [
      "[Parallel(n_jobs=-1)]: Using backend LokyBackend with 8 concurrent workers.\n",
      "[Parallel(n_jobs=-1)]: Batch computation too fast (0.1574s.) Setting batch_size=2.\n",
      "[Parallel(n_jobs=-1)]: Done   2 tasks      | elapsed:    0.2s\n",
      "[Parallel(n_jobs=-1)]: Done   9 tasks      | elapsed:    0.5s\n",
      "[Parallel(n_jobs=-1)]: Done  16 tasks      | elapsed:    0.9s\n",
      "[Parallel(n_jobs=-1)]: Done  34 tasks      | elapsed:    1.9s\n",
      "[Parallel(n_jobs=-1)]: Done  52 tasks      | elapsed:    2.5s\n",
      "[Parallel(n_jobs=-1)]: Done  74 tasks      | elapsed:    3.4s\n",
      "[Parallel(n_jobs=-1)]: Done  96 out of 100 | elapsed:    4.1s remaining:    0.2s\n",
      "[Parallel(n_jobs=-1)]: Done 100 out of 100 | elapsed:    4.2s finished\n"
     ]
    },
    {
     "name": "stdout",
     "output_type": "stream",
     "text": [
      "[3/3] Calculating loss function. Total number of tasks: 88\n"
     ]
    },
    {
     "name": "stderr",
     "output_type": "stream",
     "text": [
      "[Parallel(n_jobs=-1)]: Using backend LokyBackend with 8 concurrent workers.\n",
      "[Parallel(n_jobs=-1)]: Batch computation too fast (0.0174s.) Setting batch_size=2.\n",
      "[Parallel(n_jobs=-1)]: Done   2 tasks      | elapsed:    0.0s\n",
      "[Parallel(n_jobs=-1)]: Done   9 tasks      | elapsed:    0.3s\n",
      "[Parallel(n_jobs=-1)]: Done  19 tasks      | elapsed:    0.6s\n",
      "[Parallel(n_jobs=-1)]: Done  34 tasks      | elapsed:    1.0s\n",
      "[Parallel(n_jobs=-1)]: Done  52 tasks      | elapsed:    1.7s\n",
      "[Parallel(n_jobs=-1)]: Done  82 out of  88 | elapsed:    2.3s remaining:    0.2s\n",
      "[Parallel(n_jobs=-1)]: Done  88 out of  88 | elapsed:    2.6s finished\n"
     ]
    },
    {
     "name": "stdout",
     "output_type": "stream",
     "text": [
      "[1/3] Extracting positive paths.\n",
      "[2/3] Generating counterfactual examples for each tree. Total number of tasks: 100\n"
     ]
    },
    {
     "name": "stderr",
     "output_type": "stream",
     "text": [
      "[Parallel(n_jobs=-1)]: Using backend LokyBackend with 8 concurrent workers.\n",
      "[Parallel(n_jobs=-1)]: Done   2 tasks      | elapsed:    0.5s\n",
      "[Parallel(n_jobs=-1)]: Done   9 tasks      | elapsed:    0.9s\n",
      "[Parallel(n_jobs=-1)]: Done  16 tasks      | elapsed:    1.4s\n",
      "[Parallel(n_jobs=-1)]: Done  25 tasks      | elapsed:    2.0s\n",
      "[Parallel(n_jobs=-1)]: Done  34 tasks      | elapsed:    2.7s\n",
      "[Parallel(n_jobs=-1)]: Done  45 tasks      | elapsed:    3.6s\n",
      "[Parallel(n_jobs=-1)]: Done  56 tasks      | elapsed:    4.2s\n",
      "[Parallel(n_jobs=-1)]: Done  69 tasks      | elapsed:    5.1s\n",
      "[Parallel(n_jobs=-1)]: Done  82 tasks      | elapsed:    6.1s\n",
      "[Parallel(n_jobs=-1)]: Done  96 out of 100 | elapsed:    7.0s remaining:    0.3s\n",
      "[Parallel(n_jobs=-1)]: Done 100 out of 100 | elapsed:    7.1s finished\n"
     ]
    },
    {
     "name": "stdout",
     "output_type": "stream",
     "text": [
      "[3/3] Calculating loss function. Total number of tasks: 12\n"
     ]
    },
    {
     "name": "stderr",
     "output_type": "stream",
     "text": [
      "[Parallel(n_jobs=-1)]: Using backend LokyBackend with 8 concurrent workers.\n",
      "[Parallel(n_jobs=-1)]: Done   1 tasks      | elapsed:    2.3s\n",
      "[Parallel(n_jobs=-1)]: Done   3 out of  12 | elapsed:    2.6s remaining:    7.7s\n",
      "[Parallel(n_jobs=-1)]: Done   5 out of  12 | elapsed:    2.7s remaining:    3.8s\n",
      "[Parallel(n_jobs=-1)]: Done   7 out of  12 | elapsed:    2.8s remaining:    2.0s\n",
      "[Parallel(n_jobs=-1)]: Done   9 out of  12 | elapsed:    3.9s remaining:    1.3s\n",
      "[Parallel(n_jobs=-1)]: Done  12 out of  12 | elapsed:    4.4s finished\n"
     ]
    },
    {
     "name": "stdout",
     "output_type": "stream",
     "text": [
      "[1/3] Extracting positive paths.\n",
      "[2/3] Generating counterfactual examples for each tree. Total number of tasks: 100\n"
     ]
    },
    {
     "name": "stderr",
     "output_type": "stream",
     "text": [
      "[Parallel(n_jobs=-1)]: Using backend LokyBackend with 8 concurrent workers.\n",
      "[Parallel(n_jobs=-1)]: Batch computation too fast (0.1723s.) Setting batch_size=2.\n",
      "[Parallel(n_jobs=-1)]: Done   2 tasks      | elapsed:    0.2s\n",
      "[Parallel(n_jobs=-1)]: Done   9 tasks      | elapsed:    0.5s\n",
      "[Parallel(n_jobs=-1)]: Done  16 tasks      | elapsed:    0.9s\n",
      "[Parallel(n_jobs=-1)]: Done  34 tasks      | elapsed:    1.8s\n",
      "[Parallel(n_jobs=-1)]: Done  52 tasks      | elapsed:    2.5s\n",
      "[Parallel(n_jobs=-1)]: Done  74 tasks      | elapsed:    3.4s\n",
      "[Parallel(n_jobs=-1)]: Done  96 out of 100 | elapsed:    4.1s remaining:    0.2s\n",
      "[Parallel(n_jobs=-1)]: Done 100 out of 100 | elapsed:    4.2s finished\n"
     ]
    },
    {
     "name": "stdout",
     "output_type": "stream",
     "text": [
      "[3/3] Calculating loss function. Total number of tasks: 88\n"
     ]
    },
    {
     "name": "stderr",
     "output_type": "stream",
     "text": [
      "[Parallel(n_jobs=-1)]: Using backend LokyBackend with 8 concurrent workers.\n",
      "[Parallel(n_jobs=-1)]: Batch computation too fast (0.0106s.) Setting batch_size=2.\n",
      "[Parallel(n_jobs=-1)]: Done   2 tasks      | elapsed:    0.0s\n",
      "[Parallel(n_jobs=-1)]: Done   9 tasks      | elapsed:    0.1s\n",
      "[Parallel(n_jobs=-1)]: Batch computation too fast (0.1615s.) Setting batch_size=4.\n",
      "[Parallel(n_jobs=-1)]: Done  19 tasks      | elapsed:    0.2s\n",
      "[Parallel(n_jobs=-1)]: Done  34 tasks      | elapsed:    0.4s\n",
      "[Parallel(n_jobs=-1)]: Done  73 out of  88 | elapsed:    0.9s remaining:    0.2s\n",
      "[Parallel(n_jobs=-1)]: Done  82 out of  88 | elapsed:    1.0s remaining:    0.1s\n",
      "[Parallel(n_jobs=-1)]: Done  88 out of  88 | elapsed:    1.1s finished\n"
     ]
    },
    {
     "name": "stdout",
     "output_type": "stream",
     "text": [
      "[1/3] Extracting positive paths.\n",
      "[2/3] Generating counterfactual examples for each tree. Total number of tasks: 100\n"
     ]
    },
    {
     "name": "stderr",
     "output_type": "stream",
     "text": [
      "[Parallel(n_jobs=-1)]: Using backend LokyBackend with 8 concurrent workers.\n",
      "[Parallel(n_jobs=-1)]: Done   2 tasks      | elapsed:    0.5s\n",
      "[Parallel(n_jobs=-1)]: Done   9 tasks      | elapsed:    0.9s\n",
      "[Parallel(n_jobs=-1)]: Done  16 tasks      | elapsed:    1.4s\n",
      "[Parallel(n_jobs=-1)]: Done  25 tasks      | elapsed:    2.2s\n",
      "[Parallel(n_jobs=-1)]: Done  34 tasks      | elapsed:    2.7s\n",
      "[Parallel(n_jobs=-1)]: Done  45 tasks      | elapsed:    3.6s\n",
      "[Parallel(n_jobs=-1)]: Done  56 tasks      | elapsed:    4.2s\n",
      "[Parallel(n_jobs=-1)]: Done  69 tasks      | elapsed:    5.1s\n",
      "[Parallel(n_jobs=-1)]: Done  82 tasks      | elapsed:    6.0s\n",
      "[Parallel(n_jobs=-1)]: Done  96 out of 100 | elapsed:    6.9s remaining:    0.3s\n",
      "[Parallel(n_jobs=-1)]: Done 100 out of 100 | elapsed:    7.1s finished\n"
     ]
    },
    {
     "name": "stdout",
     "output_type": "stream",
     "text": [
      "[3/3] Calculating loss function. Total number of tasks: 12\n"
     ]
    },
    {
     "name": "stderr",
     "output_type": "stream",
     "text": [
      "[Parallel(n_jobs=-1)]: Using backend LokyBackend with 8 concurrent workers.\n",
      "[Parallel(n_jobs=-1)]: Done   1 tasks      | elapsed:    0.9s\n",
      "[Parallel(n_jobs=-1)]: Done   3 out of  12 | elapsed:    1.0s remaining:    2.9s\n",
      "[Parallel(n_jobs=-1)]: Done   5 out of  12 | elapsed:    1.1s remaining:    1.5s\n",
      "[Parallel(n_jobs=-1)]: Done   7 out of  12 | elapsed:    1.2s remaining:    0.8s\n",
      "[Parallel(n_jobs=-1)]: Done   9 out of  12 | elapsed:    1.6s remaining:    0.5s\n",
      "[Parallel(n_jobs=-1)]: Done  12 out of  12 | elapsed:    1.8s finished\n"
     ]
    },
    {
     "name": "stdout",
     "output_type": "stream",
     "text": [
      "Split time:  55.71867060661316 s\n",
      "7 / 10\n",
      "[1/3] Extracting positive paths.\n",
      "[2/3] Generating counterfactual examples for each tree. Total number of tasks: 100\n"
     ]
    },
    {
     "name": "stderr",
     "output_type": "stream",
     "text": [
      "[Parallel(n_jobs=-1)]: Using backend LokyBackend with 8 concurrent workers.\n",
      "[Parallel(n_jobs=-1)]: Done   2 tasks      | elapsed:    0.3s\n",
      "[Parallel(n_jobs=-1)]: Done   9 tasks      | elapsed:    0.7s\n",
      "[Parallel(n_jobs=-1)]: Done  16 tasks      | elapsed:    1.0s\n",
      "[Parallel(n_jobs=-1)]: Done  25 tasks      | elapsed:    1.5s\n",
      "[Parallel(n_jobs=-1)]: Done  34 tasks      | elapsed:    2.0s\n",
      "[Parallel(n_jobs=-1)]: Done  45 tasks      | elapsed:    2.6s\n",
      "[Parallel(n_jobs=-1)]: Done  56 tasks      | elapsed:    3.1s\n",
      "[Parallel(n_jobs=-1)]: Done  69 tasks      | elapsed:    3.7s\n",
      "[Parallel(n_jobs=-1)]: Done  82 tasks      | elapsed:    4.4s\n",
      "[Parallel(n_jobs=-1)]: Done  96 out of 100 | elapsed:    5.0s remaining:    0.2s\n",
      "[Parallel(n_jobs=-1)]: Done 100 out of 100 | elapsed:    5.1s finished\n"
     ]
    },
    {
     "name": "stdout",
     "output_type": "stream",
     "text": [
      "[3/3] Calculating loss function. Total number of tasks: 89\n"
     ]
    },
    {
     "name": "stderr",
     "output_type": "stream",
     "text": [
      "[Parallel(n_jobs=-1)]: Using backend LokyBackend with 8 concurrent workers.\n",
      "[Parallel(n_jobs=-1)]: Batch computation too fast (0.0259s.) Setting batch_size=2.\n",
      "[Parallel(n_jobs=-1)]: Done   2 tasks      | elapsed:    0.1s\n",
      "[Parallel(n_jobs=-1)]: Done   9 tasks      | elapsed:    0.4s\n",
      "[Parallel(n_jobs=-1)]: Done  18 tasks      | elapsed:    1.0s\n",
      "[Parallel(n_jobs=-1)]: Done  34 tasks      | elapsed:    1.8s\n",
      "[Parallel(n_jobs=-1)]: Done  52 tasks      | elapsed:    2.4s\n",
      "[Parallel(n_jobs=-1)]: Done  74 out of  89 | elapsed:    3.3s remaining:    0.7s\n",
      "[Parallel(n_jobs=-1)]: Done  89 out of  89 | elapsed:    3.7s finished\n",
      "[Parallel(n_jobs=-1)]: Using backend LokyBackend with 8 concurrent workers.\n"
     ]
    },
    {
     "name": "stdout",
     "output_type": "stream",
     "text": [
      "[1/3] Extracting positive paths.\n",
      "[2/3] Generating counterfactual examples for each tree. Total number of tasks: 100\n"
     ]
    },
    {
     "name": "stderr",
     "output_type": "stream",
     "text": [
      "[Parallel(n_jobs=-1)]: Done   2 tasks      | elapsed:    0.4s\n",
      "[Parallel(n_jobs=-1)]: Done   9 tasks      | elapsed:    0.8s\n",
      "[Parallel(n_jobs=-1)]: Done  16 tasks      | elapsed:    1.3s\n",
      "[Parallel(n_jobs=-1)]: Done  25 tasks      | elapsed:    1.8s\n",
      "[Parallel(n_jobs=-1)]: Done  34 tasks      | elapsed:    2.5s\n",
      "[Parallel(n_jobs=-1)]: Done  45 tasks      | elapsed:    3.2s\n",
      "[Parallel(n_jobs=-1)]: Done  56 tasks      | elapsed:    3.9s\n",
      "[Parallel(n_jobs=-1)]: Done  69 tasks      | elapsed:    4.7s\n",
      "[Parallel(n_jobs=-1)]: Done  82 tasks      | elapsed:    5.6s\n",
      "[Parallel(n_jobs=-1)]: Done  96 out of 100 | elapsed:    6.4s remaining:    0.3s\n",
      "[Parallel(n_jobs=-1)]: Done 100 out of 100 | elapsed:    6.7s finished\n"
     ]
    },
    {
     "name": "stdout",
     "output_type": "stream",
     "text": [
      "[3/3] Calculating loss function. Total number of tasks: 11\n"
     ]
    },
    {
     "name": "stderr",
     "output_type": "stream",
     "text": [
      "[Parallel(n_jobs=-1)]: Using backend LokyBackend with 8 concurrent workers.\n",
      "[Parallel(n_jobs=-1)]: Done   2 out of  11 | elapsed:    2.1s remaining:    9.3s\n",
      "[Parallel(n_jobs=-1)]: Done   4 out of  11 | elapsed:    2.3s remaining:    4.0s\n",
      "[Parallel(n_jobs=-1)]: Done   6 out of  11 | elapsed:    2.3s remaining:    1.9s\n",
      "[Parallel(n_jobs=-1)]: Done   8 out of  11 | elapsed:    2.6s remaining:    1.0s\n",
      "[Parallel(n_jobs=-1)]: Done  11 out of  11 | elapsed:    3.6s finished\n"
     ]
    },
    {
     "name": "stdout",
     "output_type": "stream",
     "text": [
      "found_0: 2 / 89\n",
      "found_1: 0 / 11\n",
      "[1/3] Extracting positive paths.\n",
      "[2/3] Generating counterfactual examples for each tree. Total number of tasks: 100\n"
     ]
    },
    {
     "name": "stderr",
     "output_type": "stream",
     "text": [
      "[Parallel(n_jobs=-1)]: Using backend LokyBackend with 8 concurrent workers.\n",
      "[Parallel(n_jobs=-1)]: Batch computation too fast (0.1575s.) Setting batch_size=2.\n",
      "[Parallel(n_jobs=-1)]: Done   2 tasks      | elapsed:    0.2s\n",
      "[Parallel(n_jobs=-1)]: Done   9 tasks      | elapsed:    0.7s\n",
      "[Parallel(n_jobs=-1)]: Done  16 tasks      | elapsed:    1.0s\n",
      "[Parallel(n_jobs=-1)]: Done  34 tasks      | elapsed:    2.1s\n",
      "[Parallel(n_jobs=-1)]: Done  52 tasks      | elapsed:    2.7s\n",
      "[Parallel(n_jobs=-1)]: Done  74 tasks      | elapsed:    3.8s\n",
      "[Parallel(n_jobs=-1)]: Done  96 out of 100 | elapsed:    4.5s remaining:    0.2s\n",
      "[Parallel(n_jobs=-1)]: Done 100 out of 100 | elapsed:    4.6s finished\n"
     ]
    },
    {
     "name": "stdout",
     "output_type": "stream",
     "text": [
      "[3/3] Calculating loss function. Total number of tasks: 89\n"
     ]
    },
    {
     "name": "stderr",
     "output_type": "stream",
     "text": [
      "[Parallel(n_jobs=-1)]: Using backend LokyBackend with 8 concurrent workers.\n",
      "[Parallel(n_jobs=-1)]: Batch computation too fast (0.0267s.) Setting batch_size=2.\n",
      "[Parallel(n_jobs=-1)]: Done   2 tasks      | elapsed:    0.1s\n",
      "[Parallel(n_jobs=-1)]: Done   9 tasks      | elapsed:    0.4s\n",
      "[Parallel(n_jobs=-1)]: Done  18 tasks      | elapsed:    1.0s\n",
      "[Parallel(n_jobs=-1)]: Done  34 tasks      | elapsed:    1.7s\n",
      "[Parallel(n_jobs=-1)]: Done  52 tasks      | elapsed:    2.3s\n",
      "[Parallel(n_jobs=-1)]: Done  74 out of  89 | elapsed:    3.2s remaining:    0.7s\n",
      "[Parallel(n_jobs=-1)]: Done  83 out of  89 | elapsed:    3.4s remaining:    0.2s\n",
      "[Parallel(n_jobs=-1)]: Done  89 out of  89 | elapsed:    3.7s finished\n"
     ]
    },
    {
     "name": "stdout",
     "output_type": "stream",
     "text": [
      "[1/3] Extracting positive paths.\n",
      "[2/3] Generating counterfactual examples for each tree. Total number of tasks: 100\n"
     ]
    },
    {
     "name": "stderr",
     "output_type": "stream",
     "text": [
      "[Parallel(n_jobs=-1)]: Using backend LokyBackend with 8 concurrent workers.\n",
      "[Parallel(n_jobs=-1)]: Done   2 tasks      | elapsed:    0.3s\n",
      "[Parallel(n_jobs=-1)]: Done   9 tasks      | elapsed:    0.8s\n",
      "[Parallel(n_jobs=-1)]: Done  16 tasks      | elapsed:    1.3s\n",
      "[Parallel(n_jobs=-1)]: Done  25 tasks      | elapsed:    1.8s\n",
      "[Parallel(n_jobs=-1)]: Done  34 tasks      | elapsed:    2.4s\n",
      "[Parallel(n_jobs=-1)]: Done  45 tasks      | elapsed:    3.2s\n",
      "[Parallel(n_jobs=-1)]: Done  56 tasks      | elapsed:    4.0s\n",
      "[Parallel(n_jobs=-1)]: Done  69 tasks      | elapsed:    4.8s\n",
      "[Parallel(n_jobs=-1)]: Done  82 tasks      | elapsed:    5.6s\n",
      "[Parallel(n_jobs=-1)]: Done  96 out of 100 | elapsed:    6.6s remaining:    0.3s\n",
      "[Parallel(n_jobs=-1)]: Done 100 out of 100 | elapsed:    6.7s finished\n"
     ]
    },
    {
     "name": "stdout",
     "output_type": "stream",
     "text": [
      "[3/3] Calculating loss function. Total number of tasks: 11\n"
     ]
    },
    {
     "name": "stderr",
     "output_type": "stream",
     "text": [
      "[Parallel(n_jobs=-1)]: Using backend LokyBackend with 8 concurrent workers.\n",
      "[Parallel(n_jobs=-1)]: Done   2 out of  11 | elapsed:    2.0s remaining:    9.2s\n",
      "[Parallel(n_jobs=-1)]: Done   4 out of  11 | elapsed:    2.2s remaining:    3.9s\n",
      "[Parallel(n_jobs=-1)]: Done   6 out of  11 | elapsed:    2.3s remaining:    1.9s\n",
      "[Parallel(n_jobs=-1)]: Done   8 out of  11 | elapsed:    2.5s remaining:    1.0s\n",
      "[Parallel(n_jobs=-1)]: Done  11 out of  11 | elapsed:    3.5s finished\n"
     ]
    },
    {
     "name": "stdout",
     "output_type": "stream",
     "text": [
      "[1/3] Extracting positive paths.\n",
      "[2/3] Generating counterfactual examples for each tree. Total number of tasks: 100\n"
     ]
    },
    {
     "name": "stderr",
     "output_type": "stream",
     "text": [
      "[Parallel(n_jobs=-1)]: Using backend LokyBackend with 8 concurrent workers.\n",
      "[Parallel(n_jobs=-1)]: Batch computation too fast (0.1618s.) Setting batch_size=2.\n",
      "[Parallel(n_jobs=-1)]: Done   2 tasks      | elapsed:    0.3s\n",
      "[Parallel(n_jobs=-1)]: Done   9 tasks      | elapsed:    0.7s\n",
      "[Parallel(n_jobs=-1)]: Done  16 tasks      | elapsed:    1.2s\n",
      "[Parallel(n_jobs=-1)]: Done  34 tasks      | elapsed:    2.0s\n",
      "[Parallel(n_jobs=-1)]: Done  52 tasks      | elapsed:    2.7s\n",
      "[Parallel(n_jobs=-1)]: Done  74 tasks      | elapsed:    3.8s\n",
      "[Parallel(n_jobs=-1)]: Done 100 out of 100 | elapsed:    4.6s finished\n"
     ]
    },
    {
     "name": "stdout",
     "output_type": "stream",
     "text": [
      "[3/3] Calculating loss function. Total number of tasks: 89\n"
     ]
    },
    {
     "name": "stderr",
     "output_type": "stream",
     "text": [
      "[Parallel(n_jobs=-1)]: Using backend LokyBackend with 8 concurrent workers.\n",
      "[Parallel(n_jobs=-1)]: Batch computation too fast (0.0182s.) Setting batch_size=2.\n",
      "[Parallel(n_jobs=-1)]: Done   2 tasks      | elapsed:    0.0s\n",
      "[Parallel(n_jobs=-1)]: Done   9 tasks      | elapsed:    0.2s\n",
      "[Parallel(n_jobs=-1)]: Done  18 tasks      | elapsed:    0.4s\n",
      "[Parallel(n_jobs=-1)]: Done  34 tasks      | elapsed:    0.7s\n",
      "[Parallel(n_jobs=-1)]: Done  52 tasks      | elapsed:    1.0s\n",
      "[Parallel(n_jobs=-1)]: Done  83 out of  89 | elapsed:    1.4s remaining:    0.1s\n",
      "[Parallel(n_jobs=-1)]: Done  89 out of  89 | elapsed:    1.5s finished\n"
     ]
    },
    {
     "name": "stdout",
     "output_type": "stream",
     "text": [
      "[1/3] Extracting positive paths.\n",
      "[2/3] Generating counterfactual examples for each tree. Total number of tasks: 100\n"
     ]
    },
    {
     "name": "stderr",
     "output_type": "stream",
     "text": [
      "[Parallel(n_jobs=-1)]: Using backend LokyBackend with 8 concurrent workers.\n",
      "[Parallel(n_jobs=-1)]: Done   2 tasks      | elapsed:    0.4s\n",
      "[Parallel(n_jobs=-1)]: Done   9 tasks      | elapsed:    0.8s\n",
      "[Parallel(n_jobs=-1)]: Done  16 tasks      | elapsed:    1.3s\n",
      "[Parallel(n_jobs=-1)]: Done  25 tasks      | elapsed:    1.8s\n",
      "[Parallel(n_jobs=-1)]: Done  34 tasks      | elapsed:    2.4s\n",
      "[Parallel(n_jobs=-1)]: Done  45 tasks      | elapsed:    3.2s\n",
      "[Parallel(n_jobs=-1)]: Done  56 tasks      | elapsed:    3.9s\n",
      "[Parallel(n_jobs=-1)]: Done  69 tasks      | elapsed:    4.7s\n",
      "[Parallel(n_jobs=-1)]: Done  82 tasks      | elapsed:    5.6s\n",
      "[Parallel(n_jobs=-1)]: Done  96 out of 100 | elapsed:    6.4s remaining:    0.3s\n",
      "[Parallel(n_jobs=-1)]: Done 100 out of 100 | elapsed:    6.6s finished\n"
     ]
    },
    {
     "name": "stdout",
     "output_type": "stream",
     "text": [
      "[3/3] Calculating loss function. Total number of tasks: 11\n"
     ]
    },
    {
     "name": "stderr",
     "output_type": "stream",
     "text": [
      "[Parallel(n_jobs=-1)]: Using backend LokyBackend with 8 concurrent workers.\n",
      "[Parallel(n_jobs=-1)]: Done   2 out of  11 | elapsed:    0.8s remaining:    3.5s\n",
      "[Parallel(n_jobs=-1)]: Done   4 out of  11 | elapsed:    0.8s remaining:    1.5s\n",
      "[Parallel(n_jobs=-1)]: Done   6 out of  11 | elapsed:    0.9s remaining:    0.8s\n",
      "[Parallel(n_jobs=-1)]: Done   8 out of  11 | elapsed:    1.0s remaining:    0.4s\n",
      "[Parallel(n_jobs=-1)]: Done  11 out of  11 | elapsed:    1.4s finished\n"
     ]
    },
    {
     "name": "stdout",
     "output_type": "stream",
     "text": [
      "Split time:  57.25522041320801 s\n",
      "8 / 10\n",
      "[1/3] Extracting positive paths.\n",
      "[2/3] Generating counterfactual examples for each tree. Total number of tasks: 100\n"
     ]
    },
    {
     "name": "stderr",
     "output_type": "stream",
     "text": [
      "[Parallel(n_jobs=-1)]: Using backend LokyBackend with 8 concurrent workers.\n",
      "[Parallel(n_jobs=-1)]: Done   2 tasks      | elapsed:    0.3s\n",
      "[Parallel(n_jobs=-1)]: Done   9 tasks      | elapsed:    0.6s\n",
      "[Parallel(n_jobs=-1)]: Done  16 tasks      | elapsed:    1.0s\n",
      "[Parallel(n_jobs=-1)]: Done  25 tasks      | elapsed:    1.4s\n",
      "[Parallel(n_jobs=-1)]: Done  34 tasks      | elapsed:    1.9s\n",
      "[Parallel(n_jobs=-1)]: Done  45 tasks      | elapsed:    2.4s\n",
      "[Parallel(n_jobs=-1)]: Done  56 tasks      | elapsed:    2.8s\n",
      "[Parallel(n_jobs=-1)]: Done  69 tasks      | elapsed:    3.6s\n",
      "[Parallel(n_jobs=-1)]: Done  82 tasks      | elapsed:    4.1s\n",
      "[Parallel(n_jobs=-1)]: Done  96 out of 100 | elapsed:    4.7s remaining:    0.2s\n",
      "[Parallel(n_jobs=-1)]: Done 100 out of 100 | elapsed:    4.8s finished\n"
     ]
    },
    {
     "name": "stdout",
     "output_type": "stream",
     "text": [
      "[3/3] Calculating loss function. Total number of tasks: 91\n"
     ]
    },
    {
     "name": "stderr",
     "output_type": "stream",
     "text": [
      "[Parallel(n_jobs=-1)]: Using backend LokyBackend with 8 concurrent workers.\n",
      "[Parallel(n_jobs=-1)]: Batch computation too fast (0.0151s.) Setting batch_size=2.\n",
      "[Parallel(n_jobs=-1)]: Done   2 tasks      | elapsed:    0.0s\n",
      "[Parallel(n_jobs=-1)]: Done   9 tasks      | elapsed:    0.2s\n",
      "[Parallel(n_jobs=-1)]: Done  18 tasks      | elapsed:    0.7s\n",
      "[Parallel(n_jobs=-1)]: Done  34 tasks      | elapsed:    1.2s\n",
      "[Parallel(n_jobs=-1)]: Done  52 tasks      | elapsed:    1.9s\n",
      "[Parallel(n_jobs=-1)]: Done  76 out of  91 | elapsed:    2.6s remaining:    0.5s\n",
      "[Parallel(n_jobs=-1)]: Done  86 out of  91 | elapsed:    3.0s remaining:    0.2s\n",
      "[Parallel(n_jobs=-1)]: Done  91 out of  91 | elapsed:    3.3s finished\n"
     ]
    },
    {
     "name": "stdout",
     "output_type": "stream",
     "text": [
      "[1/3] Extracting positive paths.\n",
      "[2/3] Generating counterfactual examples for each tree. Total number of tasks: 100\n"
     ]
    },
    {
     "name": "stderr",
     "output_type": "stream",
     "text": [
      "[Parallel(n_jobs=-1)]: Using backend LokyBackend with 8 concurrent workers.\n",
      "[Parallel(n_jobs=-1)]: Done   2 tasks      | elapsed:    0.6s\n",
      "[Parallel(n_jobs=-1)]: Done   9 tasks      | elapsed:    0.9s\n",
      "[Parallel(n_jobs=-1)]: Done  16 tasks      | elapsed:    1.3s\n",
      "[Parallel(n_jobs=-1)]: Done  25 tasks      | elapsed:    1.9s\n",
      "[Parallel(n_jobs=-1)]: Done  34 tasks      | elapsed:    2.4s\n",
      "[Parallel(n_jobs=-1)]: Done  45 tasks      | elapsed:    3.1s\n",
      "[Parallel(n_jobs=-1)]: Done  56 tasks      | elapsed:    3.9s\n",
      "[Parallel(n_jobs=-1)]: Done  69 tasks      | elapsed:    4.8s\n",
      "[Parallel(n_jobs=-1)]: Done  82 tasks      | elapsed:    5.7s\n",
      "[Parallel(n_jobs=-1)]: Done  96 out of 100 | elapsed:    6.5s remaining:    0.3s\n",
      "[Parallel(n_jobs=-1)]: Done 100 out of 100 | elapsed:    6.7s finished\n"
     ]
    },
    {
     "name": "stdout",
     "output_type": "stream",
     "text": [
      "[3/3] Calculating loss function. Total number of tasks: 9\n"
     ]
    },
    {
     "name": "stderr",
     "output_type": "stream",
     "text": [
      "[Parallel(n_jobs=-1)]: Using backend LokyBackend with 8 concurrent workers.\n",
      "[Parallel(n_jobs=-1)]: Done   2 out of   9 | elapsed:    2.3s remaining:    7.9s\n",
      "[Parallel(n_jobs=-1)]: Done   3 out of   9 | elapsed:    2.4s remaining:    4.8s\n",
      "[Parallel(n_jobs=-1)]: Done   4 out of   9 | elapsed:    2.4s remaining:    3.0s\n",
      "[Parallel(n_jobs=-1)]: Done   5 out of   9 | elapsed:    2.4s remaining:    2.0s\n",
      "[Parallel(n_jobs=-1)]: Done   6 out of   9 | elapsed:    2.5s remaining:    1.3s\n",
      "[Parallel(n_jobs=-1)]: Done   7 out of   9 | elapsed:    2.6s remaining:    0.7s\n",
      "[Parallel(n_jobs=-1)]: Done   9 out of   9 | elapsed:    3.3s remaining:    0.0s\n",
      "[Parallel(n_jobs=-1)]: Done   9 out of   9 | elapsed:    3.3s finished\n"
     ]
    },
    {
     "name": "stdout",
     "output_type": "stream",
     "text": [
      "found_0: 0 / 91\n",
      "found_1: 5 / 9\n",
      "[1/3] Extracting positive paths.\n",
      "[2/3] Generating counterfactual examples for each tree. Total number of tasks: 100\n"
     ]
    },
    {
     "name": "stderr",
     "output_type": "stream",
     "text": [
      "[Parallel(n_jobs=-1)]: Using backend LokyBackend with 8 concurrent workers.\n",
      "[Parallel(n_jobs=-1)]: Done   2 tasks      | elapsed:    0.3s\n",
      "[Parallel(n_jobs=-1)]: Done   9 tasks      | elapsed:    0.7s\n",
      "[Parallel(n_jobs=-1)]: Done  16 tasks      | elapsed:    1.1s\n",
      "[Parallel(n_jobs=-1)]: Done  25 tasks      | elapsed:    1.6s\n",
      "[Parallel(n_jobs=-1)]: Done  34 tasks      | elapsed:    1.9s\n",
      "[Parallel(n_jobs=-1)]: Done  45 tasks      | elapsed:    2.5s\n",
      "[Parallel(n_jobs=-1)]: Done  56 tasks      | elapsed:    3.0s\n",
      "[Parallel(n_jobs=-1)]: Done  69 tasks      | elapsed:    3.5s\n",
      "[Parallel(n_jobs=-1)]: Done  82 tasks      | elapsed:    4.2s\n",
      "[Parallel(n_jobs=-1)]: Done  96 out of 100 | elapsed:    4.7s remaining:    0.2s\n",
      "[Parallel(n_jobs=-1)]: Done 100 out of 100 | elapsed:    4.9s finished\n"
     ]
    },
    {
     "name": "stdout",
     "output_type": "stream",
     "text": [
      "[3/3] Calculating loss function. Total number of tasks: 91\n"
     ]
    },
    {
     "name": "stderr",
     "output_type": "stream",
     "text": [
      "[Parallel(n_jobs=-1)]: Using backend LokyBackend with 8 concurrent workers.\n",
      "[Parallel(n_jobs=-1)]: Batch computation too fast (0.0167s.) Setting batch_size=2.\n",
      "[Parallel(n_jobs=-1)]: Done   2 tasks      | elapsed:    0.0s\n",
      "[Parallel(n_jobs=-1)]: Done   9 tasks      | elapsed:    0.2s\n",
      "[Parallel(n_jobs=-1)]: Done  18 tasks      | elapsed:    0.7s\n",
      "[Parallel(n_jobs=-1)]: Done  34 tasks      | elapsed:    1.2s\n",
      "[Parallel(n_jobs=-1)]: Done  52 tasks      | elapsed:    1.8s\n",
      "[Parallel(n_jobs=-1)]: Done  76 out of  91 | elapsed:    2.5s remaining:    0.5s\n",
      "[Parallel(n_jobs=-1)]: Done  86 out of  91 | elapsed:    2.9s remaining:    0.2s\n",
      "[Parallel(n_jobs=-1)]: Done  91 out of  91 | elapsed:    3.3s finished\n"
     ]
    },
    {
     "name": "stdout",
     "output_type": "stream",
     "text": [
      "[1/3] Extracting positive paths.\n",
      "[2/3] Generating counterfactual examples for each tree. Total number of tasks: 100\n"
     ]
    },
    {
     "name": "stderr",
     "output_type": "stream",
     "text": [
      "[Parallel(n_jobs=-1)]: Using backend LokyBackend with 8 concurrent workers.\n",
      "[Parallel(n_jobs=-1)]: Done   2 tasks      | elapsed:    0.5s\n",
      "[Parallel(n_jobs=-1)]: Done   9 tasks      | elapsed:    0.8s\n",
      "[Parallel(n_jobs=-1)]: Done  16 tasks      | elapsed:    1.3s\n",
      "[Parallel(n_jobs=-1)]: Done  25 tasks      | elapsed:    1.9s\n",
      "[Parallel(n_jobs=-1)]: Done  34 tasks      | elapsed:    2.5s\n",
      "[Parallel(n_jobs=-1)]: Done  45 tasks      | elapsed:    3.1s\n",
      "[Parallel(n_jobs=-1)]: Done  56 tasks      | elapsed:    3.9s\n",
      "[Parallel(n_jobs=-1)]: Done  69 tasks      | elapsed:    4.8s\n",
      "[Parallel(n_jobs=-1)]: Done  82 tasks      | elapsed:    5.6s\n",
      "[Parallel(n_jobs=-1)]: Done  96 out of 100 | elapsed:    6.5s remaining:    0.3s\n",
      "[Parallel(n_jobs=-1)]: Done 100 out of 100 | elapsed:    6.7s finished\n"
     ]
    },
    {
     "name": "stdout",
     "output_type": "stream",
     "text": [
      "[3/3] Calculating loss function. Total number of tasks: 9\n"
     ]
    },
    {
     "name": "stderr",
     "output_type": "stream",
     "text": [
      "[Parallel(n_jobs=-1)]: Using backend LokyBackend with 8 concurrent workers.\n",
      "[Parallel(n_jobs=-1)]: Done   2 out of   9 | elapsed:    2.2s remaining:    7.7s\n",
      "[Parallel(n_jobs=-1)]: Done   3 out of   9 | elapsed:    2.3s remaining:    4.6s\n",
      "[Parallel(n_jobs=-1)]: Done   4 out of   9 | elapsed:    2.3s remaining:    2.9s\n",
      "[Parallel(n_jobs=-1)]: Done   5 out of   9 | elapsed:    2.3s remaining:    1.9s\n",
      "[Parallel(n_jobs=-1)]: Done   6 out of   9 | elapsed:    2.5s remaining:    1.2s\n",
      "[Parallel(n_jobs=-1)]: Done   7 out of   9 | elapsed:    2.6s remaining:    0.7s\n",
      "[Parallel(n_jobs=-1)]: Done   9 out of   9 | elapsed:    3.2s remaining:    0.0s\n",
      "[Parallel(n_jobs=-1)]: Done   9 out of   9 | elapsed:    3.2s finished\n"
     ]
    },
    {
     "name": "stdout",
     "output_type": "stream",
     "text": [
      "[1/3] Extracting positive paths.\n",
      "[2/3] Generating counterfactual examples for each tree. Total number of tasks: 100\n"
     ]
    },
    {
     "name": "stderr",
     "output_type": "stream",
     "text": [
      "[Parallel(n_jobs=-1)]: Using backend LokyBackend with 8 concurrent workers.\n",
      "[Parallel(n_jobs=-1)]: Done   2 tasks      | elapsed:    0.3s\n",
      "[Parallel(n_jobs=-1)]: Done   9 tasks      | elapsed:    0.6s\n",
      "[Parallel(n_jobs=-1)]: Done  16 tasks      | elapsed:    1.1s\n",
      "[Parallel(n_jobs=-1)]: Done  25 tasks      | elapsed:    1.5s\n",
      "[Parallel(n_jobs=-1)]: Done  34 tasks      | elapsed:    1.8s\n",
      "[Parallel(n_jobs=-1)]: Done  45 tasks      | elapsed:    2.4s\n",
      "[Parallel(n_jobs=-1)]: Done  56 tasks      | elapsed:    3.0s\n",
      "[Parallel(n_jobs=-1)]: Done  69 tasks      | elapsed:    3.6s\n",
      "[Parallel(n_jobs=-1)]: Done  82 tasks      | elapsed:    4.2s\n",
      "[Parallel(n_jobs=-1)]: Done  96 out of 100 | elapsed:    4.7s remaining:    0.2s\n",
      "[Parallel(n_jobs=-1)]: Done 100 out of 100 | elapsed:    5.0s finished\n"
     ]
    },
    {
     "name": "stdout",
     "output_type": "stream",
     "text": [
      "[3/3] Calculating loss function. Total number of tasks: 91\n"
     ]
    },
    {
     "name": "stderr",
     "output_type": "stream",
     "text": [
      "[Parallel(n_jobs=-1)]: Using backend LokyBackend with 8 concurrent workers.\n",
      "[Parallel(n_jobs=-1)]: Batch computation too fast (0.0113s.) Setting batch_size=2.\n",
      "[Parallel(n_jobs=-1)]: Done   2 tasks      | elapsed:    0.0s\n",
      "[Parallel(n_jobs=-1)]: Done   9 tasks      | elapsed:    0.1s\n",
      "[Parallel(n_jobs=-1)]: Batch computation too fast (0.1792s.) Setting batch_size=4.\n",
      "[Parallel(n_jobs=-1)]: Done  18 tasks      | elapsed:    0.3s\n",
      "[Parallel(n_jobs=-1)]: Done  34 tasks      | elapsed:    0.5s\n",
      "[Parallel(n_jobs=-1)]: Done  56 tasks      | elapsed:    0.9s\n",
      "[Parallel(n_jobs=-1)]: Done  66 out of  91 | elapsed:    1.1s remaining:    0.4s\n",
      "[Parallel(n_jobs=-1)]: Done  76 out of  91 | elapsed:    1.2s remaining:    0.2s\n",
      "[Parallel(n_jobs=-1)]: Done  86 out of  91 | elapsed:    1.3s remaining:    0.1s\n",
      "[Parallel(n_jobs=-1)]: Done  91 out of  91 | elapsed:    1.4s finished\n"
     ]
    },
    {
     "name": "stdout",
     "output_type": "stream",
     "text": [
      "[1/3] Extracting positive paths.\n",
      "[2/3] Generating counterfactual examples for each tree. Total number of tasks: 100\n"
     ]
    },
    {
     "name": "stderr",
     "output_type": "stream",
     "text": [
      "[Parallel(n_jobs=-1)]: Using backend LokyBackend with 8 concurrent workers.\n",
      "[Parallel(n_jobs=-1)]: Done   2 tasks      | elapsed:    0.4s\n",
      "[Parallel(n_jobs=-1)]: Done   9 tasks      | elapsed:    0.8s\n",
      "[Parallel(n_jobs=-1)]: Done  16 tasks      | elapsed:    1.3s\n",
      "[Parallel(n_jobs=-1)]: Done  25 tasks      | elapsed:    1.8s\n",
      "[Parallel(n_jobs=-1)]: Done  34 tasks      | elapsed:    2.4s\n",
      "[Parallel(n_jobs=-1)]: Done  45 tasks      | elapsed:    3.1s\n",
      "[Parallel(n_jobs=-1)]: Done  56 tasks      | elapsed:    4.0s\n",
      "[Parallel(n_jobs=-1)]: Done  69 tasks      | elapsed:    4.8s\n",
      "[Parallel(n_jobs=-1)]: Done  82 tasks      | elapsed:    5.7s\n",
      "[Parallel(n_jobs=-1)]: Done  96 out of 100 | elapsed:    6.5s remaining:    0.3s\n",
      "[Parallel(n_jobs=-1)]: Done 100 out of 100 | elapsed:    6.7s finished\n"
     ]
    },
    {
     "name": "stdout",
     "output_type": "stream",
     "text": [
      "[3/3] Calculating loss function. Total number of tasks: 9\n"
     ]
    },
    {
     "name": "stderr",
     "output_type": "stream",
     "text": [
      "[Parallel(n_jobs=-1)]: Using backend LokyBackend with 8 concurrent workers.\n",
      "[Parallel(n_jobs=-1)]: Done   2 out of   9 | elapsed:    0.8s remaining:    2.9s\n",
      "[Parallel(n_jobs=-1)]: Done   3 out of   9 | elapsed:    0.9s remaining:    1.9s\n",
      "[Parallel(n_jobs=-1)]: Done   4 out of   9 | elapsed:    0.9s remaining:    1.2s\n",
      "[Parallel(n_jobs=-1)]: Done   5 out of   9 | elapsed:    0.9s remaining:    0.8s\n",
      "[Parallel(n_jobs=-1)]: Done   6 out of   9 | elapsed:    1.0s remaining:    0.5s\n",
      "[Parallel(n_jobs=-1)]: Done   7 out of   9 | elapsed:    1.0s remaining:    0.3s\n",
      "[Parallel(n_jobs=-1)]: Done   9 out of   9 | elapsed:    1.3s remaining:    0.0s\n",
      "[Parallel(n_jobs=-1)]: Done   9 out of   9 | elapsed:    1.3s finished\n"
     ]
    },
    {
     "name": "stdout",
     "output_type": "stream",
     "text": [
      "Split time:  56.193217515945435 s\n",
      "9 / 10\n",
      "[1/3] Extracting positive paths.\n",
      "[2/3] Generating counterfactual examples for each tree. Total number of tasks: 100\n"
     ]
    },
    {
     "name": "stderr",
     "output_type": "stream",
     "text": [
      "[Parallel(n_jobs=-1)]: Using backend LokyBackend with 8 concurrent workers.\n",
      "[Parallel(n_jobs=-1)]: Done   2 tasks      | elapsed:    0.2s\n",
      "[Parallel(n_jobs=-1)]: Done   9 tasks      | elapsed:    0.8s\n",
      "[Parallel(n_jobs=-1)]: Done  16 tasks      | elapsed:    1.1s\n",
      "[Parallel(n_jobs=-1)]: Done  25 tasks      | elapsed:    1.5s\n",
      "[Parallel(n_jobs=-1)]: Done  34 tasks      | elapsed:    1.9s\n",
      "[Parallel(n_jobs=-1)]: Done  45 tasks      | elapsed:    2.4s\n",
      "[Parallel(n_jobs=-1)]: Done  56 tasks      | elapsed:    2.9s\n",
      "[Parallel(n_jobs=-1)]: Done  69 tasks      | elapsed:    3.5s\n",
      "[Parallel(n_jobs=-1)]: Done  82 tasks      | elapsed:    4.1s\n",
      "[Parallel(n_jobs=-1)]: Done  96 out of 100 | elapsed:    4.6s remaining:    0.2s\n",
      "[Parallel(n_jobs=-1)]: Done 100 out of 100 | elapsed:    4.8s finished\n"
     ]
    },
    {
     "name": "stdout",
     "output_type": "stream",
     "text": [
      "[3/3] Calculating loss function. Total number of tasks: 85\n"
     ]
    },
    {
     "name": "stderr",
     "output_type": "stream",
     "text": [
      "[Parallel(n_jobs=-1)]: Using backend LokyBackend with 8 concurrent workers.\n",
      "[Parallel(n_jobs=-1)]: Batch computation too fast (0.0205s.) Setting batch_size=2.\n",
      "[Parallel(n_jobs=-1)]: Done   2 tasks      | elapsed:    0.0s\n",
      "[Parallel(n_jobs=-1)]: Done   9 tasks      | elapsed:    0.1s\n",
      "[Parallel(n_jobs=-1)]: Batch computation too fast (0.1755s.) Setting batch_size=4.\n",
      "[Parallel(n_jobs=-1)]: Done  17 tasks      | elapsed:    0.3s\n",
      "[Parallel(n_jobs=-1)]: Done  34 tasks      | elapsed:    1.1s\n",
      "[Parallel(n_jobs=-1)]: Done  52 out of  85 | elapsed:    1.7s remaining:    1.1s\n",
      "[Parallel(n_jobs=-1)]: Done  61 out of  85 | elapsed:    2.2s remaining:    0.9s\n",
      "[Parallel(n_jobs=-1)]: Done  85 out of  85 | elapsed:    2.6s finished\n",
      "[Parallel(n_jobs=-1)]: Using backend LokyBackend with 8 concurrent workers.\n"
     ]
    },
    {
     "name": "stdout",
     "output_type": "stream",
     "text": [
      "[1/3] Extracting positive paths.\n",
      "[2/3] Generating counterfactual examples for each tree. Total number of tasks: 100\n"
     ]
    },
    {
     "name": "stderr",
     "output_type": "stream",
     "text": [
      "[Parallel(n_jobs=-1)]: Done   2 tasks      | elapsed:    0.4s\n",
      "[Parallel(n_jobs=-1)]: Done   9 tasks      | elapsed:    0.8s\n",
      "[Parallel(n_jobs=-1)]: Done  16 tasks      | elapsed:    1.3s\n",
      "[Parallel(n_jobs=-1)]: Done  25 tasks      | elapsed:    1.9s\n",
      "[Parallel(n_jobs=-1)]: Done  34 tasks      | elapsed:    2.5s\n",
      "[Parallel(n_jobs=-1)]: Done  45 tasks      | elapsed:    3.4s\n",
      "[Parallel(n_jobs=-1)]: Done  56 tasks      | elapsed:    4.2s\n",
      "[Parallel(n_jobs=-1)]: Done  69 tasks      | elapsed:    5.0s\n",
      "[Parallel(n_jobs=-1)]: Done  82 tasks      | elapsed:    6.0s\n",
      "[Parallel(n_jobs=-1)]: Done  96 out of 100 | elapsed:    6.7s remaining:    0.3s\n",
      "[Parallel(n_jobs=-1)]: Done 100 out of 100 | elapsed:    6.9s finished\n"
     ]
    },
    {
     "name": "stdout",
     "output_type": "stream",
     "text": [
      "[3/3] Calculating loss function. Total number of tasks: 15\n"
     ]
    },
    {
     "name": "stderr",
     "output_type": "stream",
     "text": [
      "[Parallel(n_jobs=-1)]: Using backend LokyBackend with 8 concurrent workers.\n",
      "[Parallel(n_jobs=-1)]: Done   2 out of  15 | elapsed:    1.9s remaining:   12.5s\n",
      "[Parallel(n_jobs=-1)]: Done   4 out of  15 | elapsed:    2.3s remaining:    6.5s\n",
      "[Parallel(n_jobs=-1)]: Done   6 out of  15 | elapsed:    2.4s remaining:    3.6s\n",
      "[Parallel(n_jobs=-1)]: Done   8 out of  15 | elapsed:    2.7s remaining:    2.4s\n",
      "[Parallel(n_jobs=-1)]: Done  10 out of  15 | elapsed:    4.1s remaining:    2.0s\n",
      "[Parallel(n_jobs=-1)]: Done  12 out of  15 | elapsed:    4.2s remaining:    1.1s\n",
      "[Parallel(n_jobs=-1)]: Done  15 out of  15 | elapsed:    4.5s finished\n"
     ]
    },
    {
     "name": "stdout",
     "output_type": "stream",
     "text": [
      "found_0: 0 / 85\n",
      "found_1: 6 / 15\n",
      "[1/3] Extracting positive paths.\n",
      "[2/3] Generating counterfactual examples for each tree. Total number of tasks: 100\n"
     ]
    },
    {
     "name": "stderr",
     "output_type": "stream",
     "text": [
      "[Parallel(n_jobs=-1)]: Using backend LokyBackend with 8 concurrent workers.\n",
      "[Parallel(n_jobs=-1)]: Batch computation too fast (0.1948s.) Setting batch_size=2.\n",
      "[Parallel(n_jobs=-1)]: Done   2 tasks      | elapsed:    0.3s\n",
      "[Parallel(n_jobs=-1)]: Done   9 tasks      | elapsed:    0.6s\n",
      "[Parallel(n_jobs=-1)]: Done  16 tasks      | elapsed:    1.0s\n",
      "[Parallel(n_jobs=-1)]: Done  34 tasks      | elapsed:    1.9s\n",
      "[Parallel(n_jobs=-1)]: Done  52 tasks      | elapsed:    2.6s\n",
      "[Parallel(n_jobs=-1)]: Done  74 tasks      | elapsed:    3.5s\n",
      "[Parallel(n_jobs=-1)]: Done  96 out of 100 | elapsed:    4.1s remaining:    0.2s\n",
      "[Parallel(n_jobs=-1)]: Done 100 out of 100 | elapsed:    4.3s finished\n"
     ]
    },
    {
     "name": "stdout",
     "output_type": "stream",
     "text": [
      "[3/3] Calculating loss function. Total number of tasks: 85\n"
     ]
    },
    {
     "name": "stderr",
     "output_type": "stream",
     "text": [
      "[Parallel(n_jobs=-1)]: Using backend LokyBackend with 8 concurrent workers.\n",
      "[Parallel(n_jobs=-1)]: Batch computation too fast (0.0206s.) Setting batch_size=2.\n",
      "[Parallel(n_jobs=-1)]: Done   2 tasks      | elapsed:    0.0s\n",
      "[Parallel(n_jobs=-1)]: Done   9 tasks      | elapsed:    0.1s\n",
      "[Parallel(n_jobs=-1)]: Batch computation too fast (0.1930s.) Setting batch_size=4.\n",
      "[Parallel(n_jobs=-1)]: Done  17 tasks      | elapsed:    0.3s\n",
      "[Parallel(n_jobs=-1)]: Done  34 tasks      | elapsed:    1.1s\n",
      "[Parallel(n_jobs=-1)]: Done  52 out of  85 | elapsed:    1.7s remaining:    1.1s\n",
      "[Parallel(n_jobs=-1)]: Done  61 out of  85 | elapsed:    2.2s remaining:    0.9s\n",
      "[Parallel(n_jobs=-1)]: Done  85 out of  85 | elapsed:    2.6s finished\n",
      "[Parallel(n_jobs=-1)]: Using backend LokyBackend with 8 concurrent workers.\n"
     ]
    },
    {
     "name": "stdout",
     "output_type": "stream",
     "text": [
      "[1/3] Extracting positive paths.\n",
      "[2/3] Generating counterfactual examples for each tree. Total number of tasks: 100\n"
     ]
    },
    {
     "name": "stderr",
     "output_type": "stream",
     "text": [
      "[Parallel(n_jobs=-1)]: Done   2 tasks      | elapsed:    0.4s\n",
      "[Parallel(n_jobs=-1)]: Done   9 tasks      | elapsed:    0.8s\n",
      "[Parallel(n_jobs=-1)]: Done  16 tasks      | elapsed:    1.4s\n",
      "[Parallel(n_jobs=-1)]: Done  25 tasks      | elapsed:    1.9s\n",
      "[Parallel(n_jobs=-1)]: Done  34 tasks      | elapsed:    2.5s\n",
      "[Parallel(n_jobs=-1)]: Done  45 tasks      | elapsed:    3.4s\n",
      "[Parallel(n_jobs=-1)]: Done  56 tasks      | elapsed:    4.1s\n",
      "[Parallel(n_jobs=-1)]: Done  69 tasks      | elapsed:    4.9s\n",
      "[Parallel(n_jobs=-1)]: Done  82 tasks      | elapsed:    5.9s\n",
      "[Parallel(n_jobs=-1)]: Done  96 out of 100 | elapsed:    6.7s remaining:    0.3s\n",
      "[Parallel(n_jobs=-1)]: Done 100 out of 100 | elapsed:    6.8s finished\n"
     ]
    },
    {
     "name": "stdout",
     "output_type": "stream",
     "text": [
      "[3/3] Calculating loss function. Total number of tasks: 15\n"
     ]
    },
    {
     "name": "stderr",
     "output_type": "stream",
     "text": [
      "[Parallel(n_jobs=-1)]: Using backend LokyBackend with 8 concurrent workers.\n",
      "[Parallel(n_jobs=-1)]: Done   2 out of  15 | elapsed:    1.8s remaining:   11.9s\n",
      "[Parallel(n_jobs=-1)]: Done   4 out of  15 | elapsed:    2.4s remaining:    6.5s\n",
      "[Parallel(n_jobs=-1)]: Done   6 out of  15 | elapsed:    2.5s remaining:    3.8s\n",
      "[Parallel(n_jobs=-1)]: Done   8 out of  15 | elapsed:    2.7s remaining:    2.4s\n",
      "[Parallel(n_jobs=-1)]: Done  10 out of  15 | elapsed:    4.1s remaining:    2.1s\n",
      "[Parallel(n_jobs=-1)]: Done  12 out of  15 | elapsed:    4.2s remaining:    1.1s\n",
      "[Parallel(n_jobs=-1)]: Done  15 out of  15 | elapsed:    4.5s finished\n"
     ]
    },
    {
     "name": "stdout",
     "output_type": "stream",
     "text": [
      "[1/3] Extracting positive paths.\n",
      "[2/3] Generating counterfactual examples for each tree. Total number of tasks: 100\n"
     ]
    },
    {
     "name": "stderr",
     "output_type": "stream",
     "text": [
      "[Parallel(n_jobs=-1)]: Using backend LokyBackend with 8 concurrent workers.\n",
      "[Parallel(n_jobs=-1)]: Batch computation too fast (0.1865s.) Setting batch_size=2.\n",
      "[Parallel(n_jobs=-1)]: Done   2 tasks      | elapsed:    0.3s\n",
      "[Parallel(n_jobs=-1)]: Done   9 tasks      | elapsed:    0.6s\n",
      "[Parallel(n_jobs=-1)]: Done  16 tasks      | elapsed:    0.9s\n",
      "[Parallel(n_jobs=-1)]: Done  34 tasks      | elapsed:    1.9s\n",
      "[Parallel(n_jobs=-1)]: Done  52 tasks      | elapsed:    2.6s\n",
      "[Parallel(n_jobs=-1)]: Done  74 tasks      | elapsed:    3.5s\n",
      "[Parallel(n_jobs=-1)]: Done  96 out of 100 | elapsed:    4.1s remaining:    0.2s\n",
      "[Parallel(n_jobs=-1)]: Done 100 out of 100 | elapsed:    4.3s finished\n"
     ]
    },
    {
     "name": "stdout",
     "output_type": "stream",
     "text": [
      "[3/3] Calculating loss function. Total number of tasks: 85\n"
     ]
    },
    {
     "name": "stderr",
     "output_type": "stream",
     "text": [
      "[Parallel(n_jobs=-1)]: Using backend LokyBackend with 8 concurrent workers.\n",
      "[Parallel(n_jobs=-1)]: Batch computation too fast (0.0148s.) Setting batch_size=2.\n",
      "[Parallel(n_jobs=-1)]: Done   2 tasks      | elapsed:    0.0s\n",
      "[Parallel(n_jobs=-1)]: Done   9 tasks      | elapsed:    0.1s\n",
      "[Parallel(n_jobs=-1)]: Batch computation too fast (0.0814s.) Setting batch_size=4.\n",
      "[Parallel(n_jobs=-1)]: Done  17 tasks      | elapsed:    0.1s\n",
      "[Parallel(n_jobs=-1)]: Done  34 tasks      | elapsed:    0.4s\n",
      "[Parallel(n_jobs=-1)]: Done  52 out of  85 | elapsed:    0.7s remaining:    0.5s\n",
      "[Parallel(n_jobs=-1)]: Done  61 out of  85 | elapsed:    0.9s remaining:    0.3s\n",
      "[Parallel(n_jobs=-1)]: Done  85 out of  85 | elapsed:    1.0s finished\n",
      "[Parallel(n_jobs=-1)]: Using backend LokyBackend with 8 concurrent workers.\n"
     ]
    },
    {
     "name": "stdout",
     "output_type": "stream",
     "text": [
      "[1/3] Extracting positive paths.\n",
      "[2/3] Generating counterfactual examples for each tree. Total number of tasks: 100\n"
     ]
    },
    {
     "name": "stderr",
     "output_type": "stream",
     "text": [
      "[Parallel(n_jobs=-1)]: Done   2 tasks      | elapsed:    0.4s\n",
      "[Parallel(n_jobs=-1)]: Done   9 tasks      | elapsed:    0.8s\n",
      "[Parallel(n_jobs=-1)]: Done  16 tasks      | elapsed:    1.3s\n",
      "[Parallel(n_jobs=-1)]: Done  25 tasks      | elapsed:    1.9s\n",
      "[Parallel(n_jobs=-1)]: Done  34 tasks      | elapsed:    2.5s\n",
      "[Parallel(n_jobs=-1)]: Done  45 tasks      | elapsed:    3.4s\n",
      "[Parallel(n_jobs=-1)]: Done  56 tasks      | elapsed:    4.1s\n",
      "[Parallel(n_jobs=-1)]: Done  69 tasks      | elapsed:    5.0s\n",
      "[Parallel(n_jobs=-1)]: Done  82 tasks      | elapsed:    5.9s\n",
      "[Parallel(n_jobs=-1)]: Done  96 out of 100 | elapsed:    6.7s remaining:    0.3s\n",
      "[Parallel(n_jobs=-1)]: Done 100 out of 100 | elapsed:    6.8s finished\n"
     ]
    },
    {
     "name": "stdout",
     "output_type": "stream",
     "text": [
      "[3/3] Calculating loss function. Total number of tasks: 15\n"
     ]
    },
    {
     "name": "stderr",
     "output_type": "stream",
     "text": [
      "[Parallel(n_jobs=-1)]: Using backend LokyBackend with 8 concurrent workers.\n",
      "[Parallel(n_jobs=-1)]: Done   2 out of  15 | elapsed:    0.7s remaining:    4.8s\n",
      "[Parallel(n_jobs=-1)]: Done   4 out of  15 | elapsed:    0.9s remaining:    2.5s\n",
      "[Parallel(n_jobs=-1)]: Done   6 out of  15 | elapsed:    1.0s remaining:    1.4s\n",
      "[Parallel(n_jobs=-1)]: Done   8 out of  15 | elapsed:    1.1s remaining:    0.9s\n",
      "[Parallel(n_jobs=-1)]: Done  10 out of  15 | elapsed:    1.6s remaining:    0.8s\n",
      "[Parallel(n_jobs=-1)]: Done  12 out of  15 | elapsed:    1.7s remaining:    0.4s\n",
      "[Parallel(n_jobs=-1)]: Done  15 out of  15 | elapsed:    1.7s finished\n"
     ]
    },
    {
     "name": "stdout",
     "output_type": "stream",
     "text": [
      "Split time:  56.989999294281006 s\n",
      "10 / 10\n",
      "[1/3] Extracting positive paths.\n",
      "[2/3] Generating counterfactual examples for each tree. Total number of tasks: 100\n"
     ]
    },
    {
     "name": "stderr",
     "output_type": "stream",
     "text": [
      "[Parallel(n_jobs=-1)]: Using backend LokyBackend with 8 concurrent workers.\n",
      "[Parallel(n_jobs=-1)]: Batch computation too fast (0.1992s.) Setting batch_size=2.\n",
      "[Parallel(n_jobs=-1)]: Done   2 tasks      | elapsed:    0.2s\n",
      "[Parallel(n_jobs=-1)]: Done   9 tasks      | elapsed:    0.5s\n",
      "[Parallel(n_jobs=-1)]: Done  16 tasks      | elapsed:    1.0s\n",
      "[Parallel(n_jobs=-1)]: Done  34 tasks      | elapsed:    1.9s\n",
      "[Parallel(n_jobs=-1)]: Done  52 tasks      | elapsed:    2.6s\n",
      "[Parallel(n_jobs=-1)]: Done  74 tasks      | elapsed:    3.5s\n",
      "[Parallel(n_jobs=-1)]: Done 100 out of 100 | elapsed:    4.4s finished\n"
     ]
    },
    {
     "name": "stdout",
     "output_type": "stream",
     "text": [
      "[3/3] Calculating loss function. Total number of tasks: 92\n"
     ]
    },
    {
     "name": "stderr",
     "output_type": "stream",
     "text": [
      "[Parallel(n_jobs=-1)]: Using backend LokyBackend with 8 concurrent workers.\n",
      "[Parallel(n_jobs=-1)]: Batch computation too fast (0.0106s.) Setting batch_size=2.\n",
      "[Parallel(n_jobs=-1)]: Done   2 tasks      | elapsed:    0.0s\n",
      "[Parallel(n_jobs=-1)]: Done   9 tasks      | elapsed:    0.2s\n",
      "[Parallel(n_jobs=-1)]: Done  20 tasks      | elapsed:    0.5s\n",
      "[Parallel(n_jobs=-1)]: Done  35 tasks      | elapsed:    0.7s\n",
      "[Parallel(n_jobs=-1)]: Done  52 tasks      | elapsed:    1.5s\n",
      "[Parallel(n_jobs=-1)]: Done  72 tasks      | elapsed:    2.1s\n",
      "[Parallel(n_jobs=-1)]: Done  77 out of  92 | elapsed:    2.2s remaining:    0.4s\n",
      "[Parallel(n_jobs=-1)]: Done  92 out of  92 | elapsed:    3.0s finished\n",
      "[Parallel(n_jobs=-1)]: Using backend LokyBackend with 8 concurrent workers.\n"
     ]
    },
    {
     "name": "stdout",
     "output_type": "stream",
     "text": [
      "[1/3] Extracting positive paths.\n",
      "[2/3] Generating counterfactual examples for each tree. Total number of tasks: 100\n"
     ]
    },
    {
     "name": "stderr",
     "output_type": "stream",
     "text": [
      "[Parallel(n_jobs=-1)]: Done   2 tasks      | elapsed:    0.4s\n",
      "[Parallel(n_jobs=-1)]: Done   9 tasks      | elapsed:    0.8s\n",
      "[Parallel(n_jobs=-1)]: Done  16 tasks      | elapsed:    1.2s\n",
      "[Parallel(n_jobs=-1)]: Done  25 tasks      | elapsed:    1.9s\n",
      "[Parallel(n_jobs=-1)]: Done  34 tasks      | elapsed:    2.5s\n",
      "[Parallel(n_jobs=-1)]: Done  45 tasks      | elapsed:    3.2s\n",
      "[Parallel(n_jobs=-1)]: Done  56 tasks      | elapsed:    3.8s\n",
      "[Parallel(n_jobs=-1)]: Done  69 tasks      | elapsed:    4.6s\n",
      "[Parallel(n_jobs=-1)]: Done  82 tasks      | elapsed:    5.5s\n",
      "[Parallel(n_jobs=-1)]: Done  96 out of 100 | elapsed:    6.4s remaining:    0.3s\n",
      "[Parallel(n_jobs=-1)]: Done 100 out of 100 | elapsed:    6.5s finished\n"
     ]
    },
    {
     "name": "stdout",
     "output_type": "stream",
     "text": [
      "[3/3] Calculating loss function. Total number of tasks: 8\n"
     ]
    },
    {
     "name": "stderr",
     "output_type": "stream",
     "text": [
      "[Parallel(n_jobs=-1)]: Using backend LokyBackend with 8 concurrent workers.\n",
      "[Parallel(n_jobs=-1)]: Done   2 out of   8 | elapsed:    2.1s remaining:    6.4s\n",
      "[Parallel(n_jobs=-1)]: Done   3 out of   8 | elapsed:    2.2s remaining:    3.7s\n",
      "[Parallel(n_jobs=-1)]: Done   4 out of   8 | elapsed:    2.3s remaining:    2.3s\n",
      "[Parallel(n_jobs=-1)]: Done   5 out of   8 | elapsed:    2.4s remaining:    1.4s\n",
      "[Parallel(n_jobs=-1)]: Done   6 out of   8 | elapsed:    2.4s remaining:    0.8s\n",
      "[Parallel(n_jobs=-1)]: Done   8 out of   8 | elapsed:    2.5s remaining:    0.0s\n",
      "[Parallel(n_jobs=-1)]: Done   8 out of   8 | elapsed:    2.5s finished\n"
     ]
    },
    {
     "name": "stdout",
     "output_type": "stream",
     "text": [
      "found_0: 0 / 92\n",
      "found_1: 4 / 8\n",
      "[1/3] Extracting positive paths.\n",
      "[2/3] Generating counterfactual examples for each tree. Total number of tasks: 100\n"
     ]
    },
    {
     "name": "stderr",
     "output_type": "stream",
     "text": [
      "[Parallel(n_jobs=-1)]: Using backend LokyBackend with 8 concurrent workers.\n",
      "[Parallel(n_jobs=-1)]: Batch computation too fast (0.1962s.) Setting batch_size=2.\n",
      "[Parallel(n_jobs=-1)]: Done   2 tasks      | elapsed:    0.2s\n",
      "[Parallel(n_jobs=-1)]: Done   9 tasks      | elapsed:    0.6s\n",
      "[Parallel(n_jobs=-1)]: Done  16 tasks      | elapsed:    1.1s\n",
      "[Parallel(n_jobs=-1)]: Done  34 tasks      | elapsed:    1.9s\n",
      "[Parallel(n_jobs=-1)]: Done  52 tasks      | elapsed:    2.6s\n",
      "[Parallel(n_jobs=-1)]: Done  74 tasks      | elapsed:    3.5s\n",
      "[Parallel(n_jobs=-1)]: Done 100 out of 100 | elapsed:    4.5s finished\n"
     ]
    },
    {
     "name": "stdout",
     "output_type": "stream",
     "text": [
      "[3/3] Calculating loss function. Total number of tasks: 92\n"
     ]
    },
    {
     "name": "stderr",
     "output_type": "stream",
     "text": [
      "[Parallel(n_jobs=-1)]: Using backend LokyBackend with 8 concurrent workers.\n",
      "[Parallel(n_jobs=-1)]: Batch computation too fast (0.0054s.) Setting batch_size=2.\n",
      "[Parallel(n_jobs=-1)]: Done   2 tasks      | elapsed:    0.0s\n",
      "[Parallel(n_jobs=-1)]: Done   9 tasks      | elapsed:    0.2s\n",
      "[Parallel(n_jobs=-1)]: Done  20 tasks      | elapsed:    0.5s\n",
      "[Parallel(n_jobs=-1)]: Done  35 tasks      | elapsed:    0.7s\n",
      "[Parallel(n_jobs=-1)]: Done  52 tasks      | elapsed:    1.5s\n",
      "[Parallel(n_jobs=-1)]: Done  72 tasks      | elapsed:    2.1s\n",
      "[Parallel(n_jobs=-1)]: Done  77 out of  92 | elapsed:    2.2s remaining:    0.4s\n",
      "[Parallel(n_jobs=-1)]: Done  92 out of  92 | elapsed:    2.9s finished\n",
      "[Parallel(n_jobs=-1)]: Using backend LokyBackend with 8 concurrent workers.\n"
     ]
    },
    {
     "name": "stdout",
     "output_type": "stream",
     "text": [
      "[1/3] Extracting positive paths.\n",
      "[2/3] Generating counterfactual examples for each tree. Total number of tasks: 100\n"
     ]
    },
    {
     "name": "stderr",
     "output_type": "stream",
     "text": [
      "[Parallel(n_jobs=-1)]: Done   2 tasks      | elapsed:    0.4s\n",
      "[Parallel(n_jobs=-1)]: Done   9 tasks      | elapsed:    0.9s\n",
      "[Parallel(n_jobs=-1)]: Done  16 tasks      | elapsed:    1.3s\n",
      "[Parallel(n_jobs=-1)]: Done  25 tasks      | elapsed:    1.8s\n",
      "[Parallel(n_jobs=-1)]: Done  34 tasks      | elapsed:    2.5s\n",
      "[Parallel(n_jobs=-1)]: Done  45 tasks      | elapsed:    3.2s\n",
      "[Parallel(n_jobs=-1)]: Done  56 tasks      | elapsed:    3.8s\n",
      "[Parallel(n_jobs=-1)]: Done  69 tasks      | elapsed:    4.6s\n",
      "[Parallel(n_jobs=-1)]: Done  82 tasks      | elapsed:    5.5s\n",
      "[Parallel(n_jobs=-1)]: Done  96 out of 100 | elapsed:    6.3s remaining:    0.3s\n",
      "[Parallel(n_jobs=-1)]: Done 100 out of 100 | elapsed:    6.5s finished\n"
     ]
    },
    {
     "name": "stdout",
     "output_type": "stream",
     "text": [
      "[3/3] Calculating loss function. Total number of tasks: 8\n"
     ]
    },
    {
     "name": "stderr",
     "output_type": "stream",
     "text": [
      "[Parallel(n_jobs=-1)]: Using backend LokyBackend with 8 concurrent workers.\n",
      "[Parallel(n_jobs=-1)]: Done   2 out of   8 | elapsed:    2.2s remaining:    6.7s\n",
      "[Parallel(n_jobs=-1)]: Done   3 out of   8 | elapsed:    2.2s remaining:    3.7s\n",
      "[Parallel(n_jobs=-1)]: Done   4 out of   8 | elapsed:    2.3s remaining:    2.3s\n",
      "[Parallel(n_jobs=-1)]: Done   5 out of   8 | elapsed:    2.3s remaining:    1.4s\n",
      "[Parallel(n_jobs=-1)]: Done   6 out of   8 | elapsed:    2.3s remaining:    0.8s\n",
      "[Parallel(n_jobs=-1)]: Done   8 out of   8 | elapsed:    2.5s remaining:    0.0s\n",
      "[Parallel(n_jobs=-1)]: Done   8 out of   8 | elapsed:    2.5s finished\n"
     ]
    },
    {
     "name": "stdout",
     "output_type": "stream",
     "text": [
      "[1/3] Extracting positive paths.\n",
      "[2/3] Generating counterfactual examples for each tree. Total number of tasks: 100\n"
     ]
    },
    {
     "name": "stderr",
     "output_type": "stream",
     "text": [
      "[Parallel(n_jobs=-1)]: Using backend LokyBackend with 8 concurrent workers.\n",
      "[Parallel(n_jobs=-1)]: Batch computation too fast (0.1699s.) Setting batch_size=2.\n",
      "[Parallel(n_jobs=-1)]: Done   2 tasks      | elapsed:    0.2s\n",
      "[Parallel(n_jobs=-1)]: Done   9 tasks      | elapsed:    0.6s\n",
      "[Parallel(n_jobs=-1)]: Done  16 tasks      | elapsed:    1.1s\n",
      "[Parallel(n_jobs=-1)]: Done  34 tasks      | elapsed:    1.9s\n",
      "[Parallel(n_jobs=-1)]: Done  52 tasks      | elapsed:    2.6s\n",
      "[Parallel(n_jobs=-1)]: Done  74 tasks      | elapsed:    3.6s\n",
      "[Parallel(n_jobs=-1)]: Done 100 out of 100 | elapsed:    4.5s finished\n"
     ]
    },
    {
     "name": "stdout",
     "output_type": "stream",
     "text": [
      "[3/3] Calculating loss function. Total number of tasks: 92\n"
     ]
    },
    {
     "name": "stderr",
     "output_type": "stream",
     "text": [
      "[Parallel(n_jobs=-1)]: Using backend LokyBackend with 8 concurrent workers.\n",
      "[Parallel(n_jobs=-1)]: Batch computation too fast (0.0063s.) Setting batch_size=2.\n",
      "[Parallel(n_jobs=-1)]: Done   2 tasks      | elapsed:    0.0s\n",
      "[Parallel(n_jobs=-1)]: Done   9 tasks      | elapsed:    0.1s\n",
      "[Parallel(n_jobs=-1)]: Batch computation too fast (0.1108s.) Setting batch_size=4.\n",
      "[Parallel(n_jobs=-1)]: Done  20 tasks      | elapsed:    0.2s\n",
      "[Parallel(n_jobs=-1)]: Done  34 tasks      | elapsed:    0.3s\n",
      "[Parallel(n_jobs=-1)]: Done  56 tasks      | elapsed:    0.8s\n",
      "[Parallel(n_jobs=-1)]: Done  67 out of  92 | elapsed:    0.9s remaining:    0.3s\n",
      "[Parallel(n_jobs=-1)]: Done  92 out of  92 | elapsed:    1.2s finished\n",
      "[Parallel(n_jobs=-1)]: Using backend LokyBackend with 8 concurrent workers.\n"
     ]
    },
    {
     "name": "stdout",
     "output_type": "stream",
     "text": [
      "[1/3] Extracting positive paths.\n",
      "[2/3] Generating counterfactual examples for each tree. Total number of tasks: 100\n"
     ]
    },
    {
     "name": "stderr",
     "output_type": "stream",
     "text": [
      "[Parallel(n_jobs=-1)]: Done   2 tasks      | elapsed:    0.4s\n",
      "[Parallel(n_jobs=-1)]: Done   9 tasks      | elapsed:    0.8s\n",
      "[Parallel(n_jobs=-1)]: Done  16 tasks      | elapsed:    1.3s\n",
      "[Parallel(n_jobs=-1)]: Done  25 tasks      | elapsed:    1.8s\n",
      "[Parallel(n_jobs=-1)]: Done  34 tasks      | elapsed:    2.5s\n",
      "[Parallel(n_jobs=-1)]: Done  45 tasks      | elapsed:    3.2s\n",
      "[Parallel(n_jobs=-1)]: Done  56 tasks      | elapsed:    3.9s\n",
      "[Parallel(n_jobs=-1)]: Done  69 tasks      | elapsed:    4.7s\n",
      "[Parallel(n_jobs=-1)]: Done  82 tasks      | elapsed:    5.5s\n",
      "[Parallel(n_jobs=-1)]: Done  96 out of 100 | elapsed:    6.4s remaining:    0.3s\n",
      "[Parallel(n_jobs=-1)]: Done 100 out of 100 | elapsed:    6.6s finished\n"
     ]
    },
    {
     "name": "stdout",
     "output_type": "stream",
     "text": [
      "[3/3] Calculating loss function. Total number of tasks: 8\n"
     ]
    },
    {
     "name": "stderr",
     "output_type": "stream",
     "text": [
      "[Parallel(n_jobs=-1)]: Using backend LokyBackend with 8 concurrent workers.\n",
      "[Parallel(n_jobs=-1)]: Done   2 out of   8 | elapsed:    0.9s remaining:    2.6s\n",
      "[Parallel(n_jobs=-1)]: Done   3 out of   8 | elapsed:    0.9s remaining:    1.5s\n",
      "[Parallel(n_jobs=-1)]: Done   4 out of   8 | elapsed:    0.9s remaining:    0.9s\n",
      "[Parallel(n_jobs=-1)]: Done   5 out of   8 | elapsed:    0.9s remaining:    0.5s\n",
      "[Parallel(n_jobs=-1)]: Done   6 out of   8 | elapsed:    0.9s remaining:    0.3s\n",
      "[Parallel(n_jobs=-1)]: Done   8 out of   8 | elapsed:    0.9s remaining:    0.0s\n",
      "[Parallel(n_jobs=-1)]: Done   8 out of   8 | elapsed:    0.9s finished\n"
     ]
    },
    {
     "name": "stdout",
     "output_type": "stream",
     "text": [
      "Split time:  50.27286458015442 s\n"
     ]
    },
    {
     "data": {
      "text/plain": [
       "0.743"
      ]
     },
     "execution_count": 4,
     "metadata": {},
     "output_type": "execute_result"
    }
   ],
   "source": [
    "from joblib import Parallel, delayed\n",
    "from functools import partial\n",
    "\n",
    "def calc_metrics(feature_range, cat, non_cat, X_primes, X):\n",
    "    mean_hoem = np.mean([heterogeneous_euclidean_overlap_metric(X.values, X_prime.values, rfe.X_train_stats['range'],\n",
    "                                                                  rfe.categorical_features,\n",
    "                                                                  rfe.non_categorical_features) for _, X_prime in X_primes.iterrows()])\n",
    "    \n",
    "    d = diversity(X_primes, feature_range, cat, non_cat)\n",
    "    return [mean_hoem, d]\n",
    "   \n",
    "\n",
    "CLASSES = y.unique()\n",
    "\n",
    "SPLITS = 10\n",
    "\n",
    "skf = StratifiedKFold(n_splits=SPLITS, shuffle=True, random_state=1000)\n",
    "eps = 0.1\n",
    "categorical_features = [1, 3, 5, 6, 7, 8, 9, 13]\n",
    "frozen_features = [8, 9]\n",
    "left_frozen_features = [0]\n",
    "\n",
    "scores = defaultdict(list)\n",
    "\n",
    "accuracy = []\n",
    "split = 0\n",
    "\n",
    "total_found = defaultdict(list)\n",
    "\n",
    "for train_index, test_index in skf.split(X, y):\n",
    "    start_time = time.time()\n",
    "    print(split+1, \"/\", SPLITS)\n",
    "    split += 1\n",
    "    X_train, X_test = X.iloc[train_index], X.iloc[test_index]\n",
    "    y_train, y_test = y.iloc[train_index], y.iloc[test_index]\n",
    "\n",
    "    rf = RandomForestClassifier(n_estimators=100, max_depth=5)\n",
    "    rf.fit(X_train, y_train)\n",
    "    accuracy.append(accuracy_score(y_test, rf.predict(X_test)))\n",
    "\n",
    "    \n",
    "    y_hat = rf.predict(X_test)\n",
    "    X_test_0 = X_test[y_hat==CLASSES[0]]\n",
    "    X_test_1 = X_test[y_hat==CLASSES[1]]\n",
    "\n",
    "    \n",
    "    rfe = RandomForestExplainer(rf, X_train, y_train, categorical_features=categorical_features, \n",
    "                                        left_frozen_features=left_frozen_features, frozen_features=frozen_features)\n",
    "    \n",
    "    \n",
    "    cfs0 = rfe.explain_with_multiple_metrics(X_test_0, CLASSES[1], eps=eps, k=5, metrics=('hoem', 'unmatched_components'), n_jobs=N_JOBS)\n",
    "    cfs1 = rfe.explain_with_multiple_metrics(X_test_1, CLASSES[0], eps=eps, k=5, metrics=('hoem', 'unmatched_components'), n_jobs=N_JOBS)\n",
    "\n",
    "    found_0 = sum([1 for i in range(len(cfs0)) if len(cfs0[i]) >= 2])\n",
    "    found_1 = sum([1 for i in range(len(cfs1)) if len(cfs1[i]) >= 2])\n",
    "    \n",
    "    total_found['0'] += [found_0, len(cfs0)]\n",
    "    total_found['1'] += [found_1, len(cfs1)]\n",
    "    \n",
    "    print(f\"found_0: {found_0} / {X_test_0.shape[0]}\")\n",
    "    print(f\"found_1: {found_1} / {X_test_1.shape[0]}\")\n",
    "    \n",
    "    \n",
    "    rfe = RandomForestExplainer(rf, X_train, y_train, categorical_features=categorical_features, \n",
    "                                        left_frozen_features=left_frozen_features, frozen_features=frozen_features)\n",
    "    \n",
    "    cfs0_single_hoem = rfe.explain_with_single_metric(X_test_0, CLASSES[1], eps=eps, metric='hoem', k=5, limit=None, n_jobs=N_JOBS)\n",
    "    cfs1_single_hoem = rfe.explain_with_single_metric(X_test_1, CLASSES[0], eps=eps, metric='hoem', k=5, limit=None, n_jobs=N_JOBS)\n",
    "    \n",
    "    rfe = RandomForestExplainer(rf, X_train, y_train, categorical_features=categorical_features, \n",
    "                                        left_frozen_features=left_frozen_features, frozen_features=frozen_features)\n",
    "    \n",
    "    cfs0_single_ucr = rfe.explain_with_single_metric(X_test_0, CLASSES[1], eps=eps, metric='unmatched_components', k=5, limit=None, n_jobs=N_JOBS)\n",
    "    cfs1_single_ucr = rfe.explain_with_single_metric(X_test_1, CLASSES[0], eps=eps, metric='unmatched_components', k=5, limit=None, n_jobs=N_JOBS)\n",
    "    \n",
    "#     cfs0_single_im = rfe.explain_with_single_metric(X_test_0, CLASSES[1], eps=eps, metric='implausibility_single', k=5, limit=None, n_jobs=N_JOBS)\n",
    "#     cfs1_single_im = rfe.explain_with_single_metric(X_test_1, CLASSES[0], eps=eps, metric='implausibility_single', k=5, limit=None, n_jobs=N_JOBS)\n",
    "    \n",
    "\n",
    "    results = Parallel(n_jobs=N_JOBS)(delayed(partial(calc_metrics, rfe.X_train_stats['range'],\n",
    "                                                     rfe.categorical_features, rfe.non_categorical_features)\n",
    "                                             )(cfs0[i], X_test_0.iloc[i]) for i in range(len(cfs0)) if len(cfs0[i]) >= 2)\n",
    "    scores['multi0'].append(results)\n",
    "    \n",
    "    results = Parallel(n_jobs=N_JOBS)(delayed(partial(calc_metrics, rfe.X_train_stats['range'],\n",
    "                                                     rfe.categorical_features, rfe.non_categorical_features)\n",
    "                                             )(cfs1[i], X_test_1.iloc[i]) for i in range(len(cfs1)) if len(cfs1[i]) >= 2)\n",
    "    scores['multi1'].append(results)\n",
    "\n",
    "    \n",
    "    results = Parallel(n_jobs=N_JOBS)(delayed(partial(calc_metrics, rfe.X_train_stats['range'],\n",
    "                                                     rfe.categorical_features, rfe.non_categorical_features)\n",
    "                                             )(cfs0_single_hoem[i].iloc[:len(cfs0[i])], X_test_0.iloc[i]) for i in range(len(cfs0)) if len(cfs0[i]) >= 2)\n",
    "    scores['hoem0'].append(results)\n",
    "\n",
    "    results = Parallel(n_jobs=N_JOBS)(delayed(partial(calc_metrics, rfe.X_train_stats['range'],\n",
    "                                                     rfe.categorical_features, rfe.non_categorical_features)\n",
    "                                             )(cfs1_single_hoem[i].iloc[:len(cfs1[i])], X_test_1.iloc[i]) for i in range(len(cfs1)) if len(cfs1[i]) >= 2)\n",
    "    scores['hoem1'].append(results)\n",
    "    \n",
    "    results = Parallel(n_jobs=N_JOBS)(delayed(partial(calc_metrics, rfe.X_train_stats['range'],\n",
    "                                                     rfe.categorical_features, rfe.non_categorical_features)\n",
    "                                             )(cfs0_single_ucr[i].iloc[:len(cfs0[i])], X_test_0.iloc[i]) for i in range(len(cfs0)) if len(cfs0[i]) >= 2)\n",
    "    scores['uc0'].append(results)\n",
    "    \n",
    "    results = Parallel(n_jobs=N_JOBS)(delayed(partial(calc_metrics, rfe.X_train_stats['range'],\n",
    "                                                     rfe.categorical_features, rfe.non_categorical_features)\n",
    "                                             )(cfs1_single_ucr[i].iloc[:len(cfs1[i])], X_test_1.iloc[i]) for i in range(len(cfs1)) if len(cfs1[i]) >= 2)\n",
    "    scores['uc1'].append(results)\n",
    "    \n",
    "\n",
    "    print(\"Split time: \", time.time() - start_time, \"s\")\n",
    "\n",
    "\n",
    "    \n",
    "    \n",
    "\n",
    "accuracy_mean, accuracy_std = np.mean(accuracy), np.std(accuracy)\n",
    "accuracy_mean"
   ]
  },
  {
   "cell_type": "code",
   "execution_count": 5,
   "id": "fd8ffdae",
   "metadata": {},
   "outputs": [
    {
     "data": {
      "text/plain": [
       "901"
      ]
     },
     "execution_count": 5,
     "metadata": {},
     "output_type": "execute_result"
    }
   ],
   "source": [
    "sum(total_found['0'][1::2])"
   ]
  },
  {
   "cell_type": "code",
   "execution_count": 6,
   "id": "6aa74e5a",
   "metadata": {},
   "outputs": [
    {
     "data": {
      "text/plain": [
       "99"
      ]
     },
     "execution_count": 6,
     "metadata": {},
     "output_type": "execute_result"
    }
   ],
   "source": [
    "sum(total_found['1'][1::2])"
   ]
  },
  {
   "cell_type": "code",
   "execution_count": 7,
   "id": "54685d34",
   "metadata": {},
   "outputs": [
    {
     "data": {
      "text/plain": [
       "{'multi0': array([[0.20531909, 0.23478399],\n",
       "        [0.11081489, 0.16719813],\n",
       "        [0.94195922, 1.25523998]]),\n",
       " 'multi1': array([[0.48636717, 0.69231306],\n",
       "        [0.62455807, 1.0305624 ],\n",
       "        [0.1854136 , 0.26423018],\n",
       "        [0.40122144, 0.60122504],\n",
       "        [0.46221376, 0.66328363],\n",
       "        [0.4959919 , 0.70442125],\n",
       "        [0.83733724, 1.20631076],\n",
       "        [0.36166397, 0.51462562],\n",
       "        [0.45401501, 0.55080266],\n",
       "        [0.38747152, 0.58975942],\n",
       "        [0.50778018, 0.71970621],\n",
       "        [0.19236254, 0.27300756],\n",
       "        [0.30586315, 0.45325875],\n",
       "        [0.76922713, 1.04002425],\n",
       "        [0.32614191, 0.47342491],\n",
       "        [0.20569767, 0.29093356],\n",
       "        [0.2026732 , 0.28675422],\n",
       "        [0.40016925, 0.36630817],\n",
       "        [0.46248736, 0.65431059],\n",
       "        [0.09353942, 0.15591286],\n",
       "        [0.43976648, 0.42611565],\n",
       "        [0.22597959, 0.25108712],\n",
       "        [0.11623178, 0.14154288],\n",
       "        [0.17325339, 0.07492944],\n",
       "        [0.30677913, 0.45420607],\n",
       "        [0.33278752, 0.26181353],\n",
       "        [0.04926818, 0.03931276],\n",
       "        [0.16058141, 0.23434762],\n",
       "        [0.28779986, 0.26336556],\n",
       "        [0.44885677, 0.6463151 ]]),\n",
       " 'hoem0': array([[0.13316753, 0.01821301],\n",
       "        [0.11081489, 0.16719813],\n",
       "        [0.94195922, 1.25523998]]),\n",
       " 'hoem1': array([[0.43773994, 0.03571429],\n",
       "        [0.26557608, 0.05357143],\n",
       "        [0.17251972, 0.04464286],\n",
       "        [0.26416339, 0.28991525],\n",
       "        [0.4181648 , 0.46467161],\n",
       "        [0.45041861, 0.00096291],\n",
       "        [0.77306046, 0.32137716],\n",
       "        [0.36166397, 0.51462562],\n",
       "        [0.42701746, 0.33658733],\n",
       "        [0.24294042, 0.26795432],\n",
       "        [0.49197042, 0.18856981],\n",
       "        [0.19236254, 0.27300756],\n",
       "        [0.21022744, 0.00195334],\n",
       "        [0.66100888, 0.49124393],\n",
       "        [0.25426681, 0.20570013],\n",
       "        [0.20569767, 0.29093356],\n",
       "        [0.2026732 , 0.28675422],\n",
       "        [0.31822101, 0.27639789],\n",
       "        [0.46248736, 0.65431059],\n",
       "        [0.09353942, 0.15591286],\n",
       "        [0.43976648, 0.42611565],\n",
       "        [0.22597959, 0.25108712],\n",
       "        [0.11618382, 0.07679374],\n",
       "        [0.17325339, 0.07492944],\n",
       "        [0.25101096, 0.20512725],\n",
       "        [0.29086696, 0.2866755 ],\n",
       "        [0.04926818, 0.03931276],\n",
       "        [0.16058141, 0.23434762],\n",
       "        [0.21579172, 0.22442999],\n",
       "        [0.40353874, 0.57357707]]),\n",
       " 'uc0': array([[0.29403406, 0.01634203],\n",
       "        [0.25875656, 0.39584885],\n",
       "        [1.12364582, 1.15094275]]),\n",
       " 'uc1': array([[1.        , 1.41421356],\n",
       "        [1.        , 1.        ],\n",
       "        [0.46557534, 0.35762628],\n",
       "        [1.        , 1.        ],\n",
       "        [1.        , 1.        ],\n",
       "        [0.85422409, 1.22551981],\n",
       "        [1.        , 1.        ],\n",
       "        [0.85428631, 1.22559176],\n",
       "        [0.84730199, 1.2296663 ],\n",
       "        [1.        , 1.41421356],\n",
       "        [1.        , 1.41421356],\n",
       "        [0.44056706, 0.19913063],\n",
       "        [0.70081028, 1.07763587],\n",
       "        [1.        , 1.        ],\n",
       "        [0.70081028, 1.07763587],\n",
       "        [0.51367934, 0.75228804],\n",
       "        [0.45203777, 0.31897216],\n",
       "        [0.78185098, 1.05409255],\n",
       "        [0.6374932 , 0.9115818 ],\n",
       "        [0.18034601, 0.25820313],\n",
       "        [1.        , 1.        ],\n",
       "        [0.77726247, 1.14345875],\n",
       "        [0.34316853, 0.57987591],\n",
       "        [1.        , 1.41421356],\n",
       "        [0.76100999, 1.0872465 ],\n",
       "        [0.59358197, 0.00554317],\n",
       "        [0.36239689, 0.56755668],\n",
       "        [0.76740863, 1.13403241],\n",
       "        [1.        , 1.41421356],\n",
       "        [0.70858428, 0.33333333]])}"
      ]
     },
     "execution_count": 7,
     "metadata": {},
     "output_type": "execute_result"
    }
   ],
   "source": [
    "import itertools\n",
    "\n",
    "scores2 = {}\n",
    "\n",
    "for key, value in scores.items():\n",
    "    score = np.array(list(itertools.chain.from_iterable(value)))\n",
    "#     print(score)\n",
    "    \n",
    "    scores2[key] = score\n",
    "\n",
    "scores2"
   ]
  },
  {
   "cell_type": "code",
   "execution_count": 8,
   "id": "98e555c1",
   "metadata": {},
   "outputs": [],
   "source": [
    "scores3 = {'multi': np.vstack([scores2['multi0'], scores2['multi1']]),\n",
    "          'hoem': np.vstack([scores2['hoem0'], scores2['hoem1']]),\n",
    "          'uc': np.vstack([scores2['uc0'], scores2['uc1']])\n",
    "          }"
   ]
  },
  {
   "cell_type": "code",
   "execution_count": 9,
   "id": "c909cfde",
   "metadata": {},
   "outputs": [
    {
     "data": {
      "text/plain": [
       "(33, 1000)"
      ]
     },
     "execution_count": 9,
     "metadata": {},
     "output_type": "execute_result"
    }
   ],
   "source": [
    "total_found_num = sum(total_found['0'][::2]) + sum(total_found['1'][::2])\n",
    "total_found_denum = sum(total_found['0'][1::2]) + sum(total_found['1'][1::2])\n",
    "\n",
    "total_found_num, total_found_denum"
   ]
  },
  {
   "cell_type": "code",
   "execution_count": 14,
   "id": "e33cfe65",
   "metadata": {},
   "outputs": [
    {
     "data": {
      "image/png": "[encoded data removed]",
      "text/plain": [
       "<Figure size 720x432 with 1 Axes>"
      ]
     },
     "metadata": {
      "needs_background": "light"
     },
     "output_type": "display_data"
    }
   ],
   "source": [
    "# XLABELS = [f\"pareto {CLASSES[0]} -> {CLASSES[1]}\", f\"pareto {CLASSES[0]} -> {CLASSES[1]}\", f\"hoem {CLASSES[0]} -> {CLASSES[1]}\",\n",
    "#            f\"hoem {CLASSES[0]} -> {CLASSES[1]}\", f\"unmatched_components {CLASSES[0]} -> {CLASSES[1]}\", f\"unmatched_components {CLASSES[0]} -> {CLASSES[1]}\"]\n",
    "\n",
    "XLABELS = [f\"pareto_optimal (hoem, u_c)\", f\"hoem\", f\"unmatched_components\"]\n",
    "\n",
    "fig, ax = plt.subplots(1, 1, figsize=(10, 6))\n",
    "y_pos = np.arange(len(scores3.keys()))\n",
    "# means = np.array([np.mean(s, axis=0) for s in scores3.values()])\n",
    "# stds = np.array([np.std(s, axis=0) for s in scores3.values()])\n",
    "\n",
    "width=0.45\n",
    "\n",
    "\n",
    "plt.barh(y_pos, means[:, 0], width, xerr=stds[:, 0], label='mean_hoem (lower better)')\n",
    "plt.barh(y_pos+width, means[:, 1], width, xerr=stds[:, 1], label='diversity (higher better)')\n",
    "\n",
    "ax.set_yticks(y_pos, labels=XLABELS)\n",
    "ax.legend()\n",
    "ax.grid()\n",
    "ax.invert_yaxis()  # labels read top-to-bottom\n",
    "ax.set_xlabel('Value')\n",
    "ax.set_ylabel(\"Metric\")\n",
    "ax.set_title(f\"{DATASET_NAME} dataset, {SPLITS}-fold-cv. Evaluation of set with counterfactuals\")\n",
    "\n",
    "plt.show()"
   ]
  },
  {
   "cell_type": "code",
   "execution_count": null,
   "id": "5a9a7535",
   "metadata": {},
   "outputs": [],
   "source": [
    "for no, metric in enumerate(XLABELS):\n",
    "    print(f\"{metric} & {means[no, 0]:1.3f}({stds[no, 0]:1.3f}) & {means[no, 1]:1.3f}({stds[no, 1]:1.3f}) \\\\\\\\\")"
   ]
  },
  {
   "cell_type": "code",
   "execution_count": null,
   "id": "03c01833",
   "metadata": {},
   "outputs": [],
   "source": []
  }
 ],
 "metadata": {
  "kernelspec": {
   "display_name": "rf-counterfactuals-venv",
   "language": "python",
   "name": "rf-counterfactuals-venv"
  },
  "language_info": {
   "codemirror_mode": {
    "name": "ipython",
    "version": 3
   },
   "file_extension": ".py",
   "mimetype": "text/x-python",
   "name": "python",
   "nbconvert_exporter": "python",
   "pygments_lexer": "ipython3",
   "version": "3.8.10"
  }
 },
 "nbformat": 4,
 "nbformat_minor": 5
}
