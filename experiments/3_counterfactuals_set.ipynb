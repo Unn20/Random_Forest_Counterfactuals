{
 "cells": [
  {
   "cell_type": "markdown",
   "id": "19008eb6",
   "metadata": {},
   "source": [
    "Here we compare multicriterial selection for counterfactuals with single ones."
   ]
  },
  {
   "cell_type": "code",
   "execution_count": 1,
   "id": "3226a9a2",
   "metadata": {},
   "outputs": [],
   "source": [
    "import numpy as np\n",
    "import pandas as pd\n",
    "from matplotlib import pyplot as plt\n",
    "import time\n",
    "import pickle\n",
    "from rf_counterfactuals import RandomForestExplainer, visualize, evaluate_counterfactual, evaluate_counterfactual_set\n",
    "from rf_counterfactuals.single_cf_costs_functions import heterogeneous_euclidean_overlap_metric, unmatched_components_distance\n",
    "from rf_counterfactuals.multi_cf_costs_functions import diversity\n",
    "import os\n",
    "from collections import defaultdict\n",
    "\n",
    "from sklearn import preprocessing\n",
    "from sklearn.tree import export_graphviz\n",
    "from sklearn.ensemble import RandomForestClassifier\n",
    "from sklearn.model_selection import train_test_split, StratifiedKFold\n",
    "from sklearn.metrics import accuracy_score, f1_score, precision_score, recall_score, pairwise_distances\n",
    "from sklearn.neighbors import NearestNeighbors\n",
    "DATASET_PATH = \"./datasets/\"\n",
    "\n",
    "N_JOBS = -1\n",
    "N_ESTIMATORS = 100\n",
    "MAX_DEPTH = 10"
   ]
  },
  {
   "cell_type": "markdown",
   "id": "2d1ccef5",
   "metadata": {},
   "source": [
    "# Comment one of two cells below to choose a dataset"
   ]
  },
  {
   "cell_type": "code",
   "execution_count": 2,
   "id": "5df9465d",
   "metadata": {},
   "outputs": [],
   "source": [
    "# DATASET_NAME = 'Adult'\n",
    "\n",
    "# adult_dataset = pd.read_csv(os.path.join(DATASET_PATH, \"adult.csv\"))\n",
    "# adult_dataset = adult_dataset.loc[:, adult_dataset.columns!='fnlwgt']\n",
    "\n",
    "# class_feature = \"income\"\n",
    "# feature_names = [c for c in adult_dataset.columns if c != class_feature]\n",
    "# categorical_features = [1, 2, 4, 5, 6, 7, 8, 12]\n",
    "# frozen_features = [7, 8]\n",
    "# left_frozen_features = [0]\n",
    "# to_encode = [c for no, c in enumerate(feature_names) if no in categorical_features]\n",
    "\n",
    "# d = defaultdict(preprocessing.LabelEncoder)\n",
    "\n",
    "# adult_dataset[to_encode] = adult_dataset[to_encode].apply(lambda x: d[x.name].fit_transform(x))\n",
    "\n",
    "# X = adult_dataset.loc[:, adult_dataset.columns!=class_feature]\n",
    "# y = adult_dataset[class_feature]"
   ]
  },
  {
   "cell_type": "code",
   "execution_count": 3,
   "id": "1c7907e5",
   "metadata": {},
   "outputs": [],
   "source": [
    "DATASET_NAME = 'German'\n",
    "\n",
    "COLUMNS = ['checking_account', 'duration', 'credit_history', 'purpose', 'credit_amount', 'saving_account', 'present_employement',\n",
    "          'installment_rate', 'personal_status', 'other_debtors', 'present_residence', 'property', 'age', 'installment_plans',\n",
    "          'housing', 'existing_credits_number', 'job', 'people_to_provide_maintenance', 'has_telephone', 'foreign', 'risk']\n",
    "\n",
    "german_dataset = pd.read_csv(os.path.join(DATASET_PATH, \"german_data.csv\"), sep=' ', names=COLUMNS)\n",
    "\n",
    "class_feature = \"risk\"\n",
    "categorical_features = [0, 2, 3, 5, 6, 8, 9, 11, 13, 14, 16, 18, 19]\n",
    "frozen_features = [2]\n",
    "left_frozen_features = [12]\n",
    "to_encode = [c for no, c in enumerate(COLUMNS) if no in categorical_features]\n",
    "\n",
    "d = defaultdict(preprocessing.LabelEncoder)\n",
    "\n",
    "german_dataset[to_encode] = german_dataset[to_encode].apply(lambda x: d[x.name].fit_transform(x))\n",
    "\n",
    "X = german_dataset.loc[:, german_dataset.columns!=class_feature]\n",
    "y = german_dataset[class_feature]"
   ]
  },
  {
   "cell_type": "code",
   "execution_count": 4,
   "id": "28d55dac",
   "metadata": {},
   "outputs": [
    {
     "data": {
      "image/png": "[encoded data removed]",
      "text/plain": [
       "<Figure size 720x432 with 1 Axes>"
      ]
     },
     "metadata": {
      "needs_background": "light"
     },
     "output_type": "display_data"
    }
   ],
   "source": [
    "fig = plt.figure(figsize=(10, 6))\n",
    "bars = plt.bar([0, 1], german_dataset[class_feature].value_counts()[german_dataset[class_feature].unique()])\n",
    "fig.gca().bar_label(bars)\n",
    "plt.xticks([0.0, 1], ['1 (good credit risk)', '2 (bad credit risk)'])\n",
    "plt.xlabel(\"Label\")\n",
    "plt.ylabel(\"Count\")\n",
    "# plt.grid()\n",
    "plt.title(f\"{DATASET_NAME} dataset. Class labels distribution\")\n",
    "plt.show()"
   ]
  },
  {
   "cell_type": "markdown",
   "id": "fc92f24d",
   "metadata": {},
   "source": [
    "# Calculations"
   ]
  },
  {
   "cell_type": "code",
   "execution_count": null,
   "id": "04cc3f81",
   "metadata": {
    "scrolled": true
   },
   "outputs": [
    {
     "name": "stdout",
     "output_type": "stream",
     "text": [
      "1 / 10\n",
      "[1/3] Extracting positive paths.\n",
      "[2/3] Generating counterfactual examples for each tree. Total number of tasks: 100\n"
     ]
    },
    {
     "name": "stderr",
     "output_type": "stream",
     "text": [
      "[Parallel(n_jobs=-1)]: Using backend LokyBackend with 8 concurrent workers.\n",
      "[Parallel(n_jobs=-1)]: Done   2 tasks      | elapsed:    3.0s\n",
      "[Parallel(n_jobs=-1)]: Done   9 tasks      | elapsed:    4.4s\n",
      "[Parallel(n_jobs=-1)]: Done  16 tasks      | elapsed:    5.5s\n",
      "[Parallel(n_jobs=-1)]: Done  25 tasks      | elapsed:    7.9s\n",
      "[Parallel(n_jobs=-1)]: Done  34 tasks      | elapsed:    9.5s\n",
      "[Parallel(n_jobs=-1)]: Done  45 tasks      | elapsed:   11.8s\n",
      "[Parallel(n_jobs=-1)]: Done  56 tasks      | elapsed:   14.3s\n",
      "[Parallel(n_jobs=-1)]: Done  69 tasks      | elapsed:   17.5s\n",
      "[Parallel(n_jobs=-1)]: Done  82 tasks      | elapsed:   19.8s\n",
      "[Parallel(n_jobs=-1)]: Done  96 out of 100 | elapsed:   22.5s remaining:    0.9s\n",
      "[Parallel(n_jobs=-1)]: Done 100 out of 100 | elapsed:   22.9s finished\n"
     ]
    },
    {
     "name": "stdout",
     "output_type": "stream",
     "text": [
      "[3/3] Calculating loss function. Total number of tasks: 82\n"
     ]
    },
    {
     "name": "stderr",
     "output_type": "stream",
     "text": [
      "[Parallel(n_jobs=-1)]: Using backend LokyBackend with 8 concurrent workers.\n",
      "[Parallel(n_jobs=-1)]: Done   2 tasks      | elapsed:    0.8s\n",
      "[Parallel(n_jobs=-1)]: Done   9 tasks      | elapsed:    2.3s\n",
      "[Parallel(n_jobs=-1)]: Done  16 tasks      | elapsed:    4.3s\n",
      "[Parallel(n_jobs=-1)]: Done  25 tasks      | elapsed:    6.7s\n",
      "[Parallel(n_jobs=-1)]: Done  34 tasks      | elapsed:    8.4s\n",
      "[Parallel(n_jobs=-1)]: Done  45 tasks      | elapsed:    9.9s\n",
      "[Parallel(n_jobs=-1)]: Done  56 tasks      | elapsed:   13.1s\n",
      "[Parallel(n_jobs=-1)]: Done  76 out of  82 | elapsed:   16.4s remaining:    1.3s\n",
      "[Parallel(n_jobs=-1)]: Done  82 out of  82 | elapsed:   18.6s finished\n"
     ]
    },
    {
     "name": "stdout",
     "output_type": "stream",
     "text": [
      "[1/3] Extracting positive paths.\n",
      "[2/3] Generating counterfactual examples for each tree. Total number of tasks: 100\n"
     ]
    },
    {
     "name": "stderr",
     "output_type": "stream",
     "text": [
      "[Parallel(n_jobs=-1)]: Using backend LokyBackend with 8 concurrent workers.\n",
      "[Parallel(n_jobs=-1)]: Done   2 tasks      | elapsed:    2.0s\n",
      "[Parallel(n_jobs=-1)]: Done   9 tasks      | elapsed:    3.8s\n",
      "[Parallel(n_jobs=-1)]: Done  16 tasks      | elapsed:    5.1s\n",
      "[Parallel(n_jobs=-1)]: Done  25 tasks      | elapsed:    8.0s\n",
      "[Parallel(n_jobs=-1)]: Done  34 tasks      | elapsed:    9.9s\n",
      "[Parallel(n_jobs=-1)]: Done  45 tasks      | elapsed:   12.6s\n",
      "[Parallel(n_jobs=-1)]: Done  56 tasks      | elapsed:   15.9s\n",
      "[Parallel(n_jobs=-1)]: Done  69 tasks      | elapsed:   19.2s\n",
      "[Parallel(n_jobs=-1)]: Done  82 tasks      | elapsed:   23.0s\n",
      "[Parallel(n_jobs=-1)]: Done  96 out of 100 | elapsed:   26.1s remaining:    1.1s\n",
      "[Parallel(n_jobs=-1)]: Done 100 out of 100 | elapsed:   26.9s finished\n"
     ]
    },
    {
     "name": "stdout",
     "output_type": "stream",
     "text": [
      "[3/3] Calculating loss function. Total number of tasks: 18\n"
     ]
    },
    {
     "name": "stderr",
     "output_type": "stream",
     "text": [
      "[Parallel(n_jobs=-1)]: Using backend LokyBackend with 8 concurrent workers.\n",
      "[Parallel(n_jobs=-1)]: Done   2 tasks      | elapsed:    9.1s\n",
      "[Parallel(n_jobs=-1)]: Done   5 out of  18 | elapsed:   10.5s remaining:   27.3s\n",
      "[Parallel(n_jobs=-1)]: Done   7 out of  18 | elapsed:   10.8s remaining:   17.0s\n",
      "[Parallel(n_jobs=-1)]: Done   9 out of  18 | elapsed:   18.1s remaining:   18.1s\n",
      "[Parallel(n_jobs=-1)]: Done  11 out of  18 | elapsed:   20.2s remaining:   12.8s\n",
      "[Parallel(n_jobs=-1)]: Done  13 out of  18 | elapsed:   20.6s remaining:    7.9s\n",
      "[Parallel(n_jobs=-1)]: Done  15 out of  18 | elapsed:   20.9s remaining:    4.2s\n",
      "[Parallel(n_jobs=-1)]: Done  18 out of  18 | elapsed:   24.8s finished\n"
     ]
    },
    {
     "name": "stdout",
     "output_type": "stream",
     "text": [
      "found_0: 12 / 82\n",
      "found_1: 7 / 18\n",
      "[1/3] Extracting positive paths.\n",
      "[2/3] Generating counterfactual examples for each tree. Total number of tasks: 100\n"
     ]
    },
    {
     "name": "stderr",
     "output_type": "stream",
     "text": [
      "[Parallel(n_jobs=-1)]: Using backend LokyBackend with 8 concurrent workers.\n",
      "[Parallel(n_jobs=-1)]: Done   2 tasks      | elapsed:    1.6s\n",
      "[Parallel(n_jobs=-1)]: Done   9 tasks      | elapsed:    3.1s\n",
      "[Parallel(n_jobs=-1)]: Done  16 tasks      | elapsed:    4.3s\n",
      "[Parallel(n_jobs=-1)]: Done  25 tasks      | elapsed:    6.7s\n",
      "[Parallel(n_jobs=-1)]: Done  34 tasks      | elapsed:    8.4s\n",
      "[Parallel(n_jobs=-1)]: Done  45 tasks      | elapsed:   10.6s\n",
      "[Parallel(n_jobs=-1)]: Done  56 tasks      | elapsed:   12.9s\n"
     ]
    }
   ],
   "source": [
    "from joblib import Parallel, delayed\n",
    "from functools import partial\n",
    "\n",
    "def calc_metrics(feature_range, cat, non_cat, X_primes, X):\n",
    "    mean_hoem = np.mean([heterogeneous_euclidean_overlap_metric(X.values, X_prime.values, rfe.X_train_stats['range'],\n",
    "                                                                  rfe.categorical_features,\n",
    "                                                                  rfe.non_categorical_features) for _, X_prime in X_primes.iterrows()])\n",
    "    \n",
    "    d = diversity(X_primes, feature_range, cat, non_cat)\n",
    "    return [mean_hoem, d]\n",
    "   \n",
    "\n",
    "CLASSES = y.unique()\n",
    "\n",
    "SPLITS = 10\n",
    "\n",
    "skf = StratifiedKFold(n_splits=SPLITS, shuffle=True, random_state=1000)\n",
    "eps = 0.1\n",
    "\n",
    "\n",
    "scores = defaultdict(list)\n",
    "\n",
    "accuracy = []\n",
    "split = 0\n",
    "\n",
    "total_found = defaultdict(list)\n",
    "\n",
    "for train_index, test_index in skf.split(X, y):\n",
    "    start_time = time.time()\n",
    "    print(split+1, \"/\", SPLITS)\n",
    "    split += 1\n",
    "    X_train, X_test = X.iloc[train_index], X.iloc[test_index]\n",
    "    y_train, y_test = y.iloc[train_index], y.iloc[test_index]\n",
    "\n",
    "    rf = RandomForestClassifier(n_estimators=N_ESTIMATORS, max_depth=MAX_DEPTH)\n",
    "    rf.fit(X_train, y_train)\n",
    "    accuracy.append(accuracy_score(y_test, rf.predict(X_test)))\n",
    "\n",
    "    \n",
    "    X_test = X_test.sample(100)\n",
    "    \n",
    "    y_hat = rf.predict(X_test)\n",
    "    X_test_0 = X_test[y_hat==CLASSES[0]]\n",
    "    X_test_1 = X_test[y_hat==CLASSES[1]]\n",
    "\n",
    "    \n",
    "    rfe = RandomForestExplainer(rf, X_train, y_train, categorical_features=categorical_features, \n",
    "                                        left_frozen_features=left_frozen_features, frozen_features=frozen_features)\n",
    "    \n",
    "    \n",
    "    cfs0 = rfe.explain_with_multiple_metrics(X_test_0, CLASSES[1], eps=eps, k=5, metrics=('hoem', 'unmatched_components'), n_jobs=N_JOBS)\n",
    "    cfs1 = rfe.explain_with_multiple_metrics(X_test_1, CLASSES[0], eps=eps, k=5, metrics=('hoem', 'unmatched_components'), n_jobs=N_JOBS)\n",
    "\n",
    "    found_0 = sum([1 for i in range(len(cfs0)) if len(cfs0[i]) >= 2])\n",
    "    found_1 = sum([1 for i in range(len(cfs1)) if len(cfs1[i]) >= 2])\n",
    "    \n",
    "    total_found['0'] += [found_0, len(cfs0)]\n",
    "    total_found['1'] += [found_1, len(cfs1)]\n",
    "    \n",
    "    print(f\"found_0: {found_0} / {X_test_0.shape[0]}\")\n",
    "    print(f\"found_1: {found_1} / {X_test_1.shape[0]}\")\n",
    "    \n",
    "    \n",
    "    rfe = RandomForestExplainer(rf, X_train, y_train, categorical_features=categorical_features, \n",
    "                                        left_frozen_features=left_frozen_features, frozen_features=frozen_features)\n",
    "    \n",
    "    cfs0_single_hoem = rfe.explain_with_single_metric(X_test_0, CLASSES[1], eps=eps, metric='hoem', k=5, limit=None, n_jobs=N_JOBS)\n",
    "    cfs1_single_hoem = rfe.explain_with_single_metric(X_test_1, CLASSES[0], eps=eps, metric='hoem', k=5, limit=None, n_jobs=N_JOBS)\n",
    "    \n",
    "    rfe = RandomForestExplainer(rf, X_train, y_train, categorical_features=categorical_features, \n",
    "                                        left_frozen_features=left_frozen_features, frozen_features=frozen_features)\n",
    "    \n",
    "    cfs0_single_ucr = rfe.explain_with_single_metric(X_test_0, CLASSES[1], eps=eps, metric='unmatched_components', k=5, limit=None, n_jobs=N_JOBS)\n",
    "    cfs1_single_ucr = rfe.explain_with_single_metric(X_test_1, CLASSES[0], eps=eps, metric='unmatched_components', k=5, limit=None, n_jobs=N_JOBS)\n",
    "\n",
    "    results = Parallel(n_jobs=N_JOBS)(delayed(partial(calc_metrics, rfe.X_train_stats['range'],\n",
    "                                                     rfe.categorical_features, rfe.non_categorical_features)\n",
    "                                             )(cfs0[i], X_test_0.iloc[i]) for i in range(len(cfs0)) if len(cfs0[i]) >= 2)\n",
    "    scores['multi0'].append(results)\n",
    "    \n",
    "    results = Parallel(n_jobs=N_JOBS)(delayed(partial(calc_metrics, rfe.X_train_stats['range'],\n",
    "                                                     rfe.categorical_features, rfe.non_categorical_features)\n",
    "                                             )(cfs1[i], X_test_1.iloc[i]) for i in range(len(cfs1)) if len(cfs1[i]) >= 2)\n",
    "    scores['multi1'].append(results)\n",
    "\n",
    "    \n",
    "    results = Parallel(n_jobs=N_JOBS)(delayed(partial(calc_metrics, rfe.X_train_stats['range'],\n",
    "                                                     rfe.categorical_features, rfe.non_categorical_features)\n",
    "                                             )(cfs0_single_hoem[i].iloc[:len(cfs0[i])], X_test_0.iloc[i]) for i in range(len(cfs0)) if len(cfs0[i]) >= 2)\n",
    "    scores['hoem0'].append(results)\n",
    "\n",
    "    results = Parallel(n_jobs=N_JOBS)(delayed(partial(calc_metrics, rfe.X_train_stats['range'],\n",
    "                                                     rfe.categorical_features, rfe.non_categorical_features)\n",
    "                                             )(cfs1_single_hoem[i].iloc[:len(cfs1[i])], X_test_1.iloc[i]) for i in range(len(cfs1)) if len(cfs1[i]) >= 2)\n",
    "    scores['hoem1'].append(results)\n",
    "    \n",
    "    results = Parallel(n_jobs=N_JOBS)(delayed(partial(calc_metrics, rfe.X_train_stats['range'],\n",
    "                                                     rfe.categorical_features, rfe.non_categorical_features)\n",
    "                                             )(cfs0_single_ucr[i].iloc[:len(cfs0[i])], X_test_0.iloc[i]) for i in range(len(cfs0)) if len(cfs0[i]) >= 2)\n",
    "    scores['uc0'].append(results)\n",
    "    \n",
    "    results = Parallel(n_jobs=N_JOBS)(delayed(partial(calc_metrics, rfe.X_train_stats['range'],\n",
    "                                                     rfe.categorical_features, rfe.non_categorical_features)\n",
    "                                             )(cfs1_single_ucr[i].iloc[:len(cfs1[i])], X_test_1.iloc[i]) for i in range(len(cfs1)) if len(cfs1[i]) >= 2)\n",
    "    scores['uc1'].append(results)\n",
    "    \n",
    "\n",
    "    print(\"Split time: \", time.time() - start_time, \"s\")\n",
    "\n",
    "accuracy_mean, accuracy_std = np.mean(accuracy), np.std(accuracy)\n",
    "accuracy_mean"
   ]
  },
  {
   "cell_type": "code",
   "execution_count": null,
   "id": "fd8ffdae",
   "metadata": {},
   "outputs": [],
   "source": [
    "sum(total_found['0'][1::2])"
   ]
  },
  {
   "cell_type": "code",
   "execution_count": null,
   "id": "6aa74e5a",
   "metadata": {},
   "outputs": [],
   "source": [
    "sum(total_found['1'][1::2])"
   ]
  },
  {
   "cell_type": "code",
   "execution_count": null,
   "id": "54685d34",
   "metadata": {
    "scrolled": true
   },
   "outputs": [],
   "source": [
    "import itertools\n",
    "\n",
    "scores2 = {}\n",
    "\n",
    "for key, value in scores.items():\n",
    "    score = np.array(list(itertools.chain.from_iterable(value)))\n",
    "#     print(score)\n",
    "    \n",
    "    scores2[key] = score\n",
    "\n",
    "scores2"
   ]
  },
  {
   "cell_type": "code",
   "execution_count": null,
   "id": "98e555c1",
   "metadata": {},
   "outputs": [],
   "source": [
    "scores3 = {'multi': np.vstack([scores2['multi0'], scores2['multi1']]),\n",
    "          'hoem': np.vstack([scores2['hoem0'], scores2['hoem1']]),\n",
    "          'uc': np.vstack([scores2['uc0'], scores2['uc1']])\n",
    "          }"
   ]
  },
  {
   "cell_type": "code",
   "execution_count": null,
   "id": "c909cfde",
   "metadata": {},
   "outputs": [],
   "source": [
    "total_found_num = sum(total_found['0'][::2]) + sum(total_found['1'][::2])\n",
    "total_found_denum = sum(total_found['0'][1::2]) + sum(total_found['1'][1::2])\n",
    "\n",
    "total_found_num, total_found_denum, total_found_num * 100 /total_found_denum"
   ]
  },
  {
   "cell_type": "code",
   "execution_count": null,
   "id": "e33cfe65",
   "metadata": {},
   "outputs": [],
   "source": [
    "XLABELS = [f\"pareto_optimal (hoem, u_c)\", f\"hoem\", f\"unmatched_components\"]\n",
    "\n",
    "fig, ax = plt.subplots(1, 1, figsize=(10, 6))\n",
    "y_pos = np.arange(len(scores3.keys()))\n",
    "means = np.array([np.mean(s, axis=0) for s in scores3.values()])\n",
    "stds = np.array([np.std(s, axis=0) for s in scores3.values()])\n",
    "\n",
    "width=0.45\n",
    "\n",
    "\n",
    "plt.barh(y_pos, means[:, 0], width, xerr=stds[:, 0], label='mean_hoem (lower better)')\n",
    "plt.barh(y_pos+width, means[:, 1], width, xerr=stds[:, 1], label='diversity (higher better)')\n",
    "\n",
    "ax.set_yticks(y_pos, labels=XLABELS)\n",
    "ax.legend()\n",
    "ax.grid()\n",
    "ax.invert_yaxis()  # labels read top-to-bottom\n",
    "ax.set_xlabel('Value')\n",
    "ax.set_ylabel(\"Selection method\")\n",
    "ax.set_title(f\"{DATASET_NAME} dataset, {SPLITS}-fold-cv. Evaluation of set with counterfactuals\")\n",
    "\n",
    "plt.show()"
   ]
  },
  {
   "cell_type": "code",
   "execution_count": null,
   "id": "5a9a7535",
   "metadata": {},
   "outputs": [],
   "source": [
    "for no, metric in enumerate(XLABELS):\n",
    "    print(f\"{metric} & {means[no, 0]:1.3f}({stds[no, 0]:1.3f}) & {means[no, 1]:1.3f}({stds[no, 1]:1.3f}) \\\\\\\\\")"
   ]
  }
 ],
 "metadata": {
  "kernelspec": {
   "display_name": "rf-counterfactuals-venv",
   "language": "python",
   "name": "rf-counterfactuals-venv"
  },
  "language_info": {
   "codemirror_mode": {
    "name": "ipython",
    "version": 3
   },
   "file_extension": ".py",
   "mimetype": "text/x-python",
   "name": "python",
   "nbconvert_exporter": "python",
   "pygments_lexer": "ipython3",
   "version": "3.8.10"
  }
 },
 "nbformat": 4,
 "nbformat_minor": 5
}
