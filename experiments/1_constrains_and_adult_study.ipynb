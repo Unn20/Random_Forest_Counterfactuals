{
 "cells": [
  {
   "cell_type": "markdown",
   "id": "8c02f033",
   "metadata": {},
   "source": [
    "This experiments is done on Adult dataset.\n",
    "\n",
    "Here are tested constraints on extracted test examples. There is also visualisation of founded counterfactuals."
   ]
  },
  {
   "cell_type": "code",
   "execution_count": null,
   "id": "80f75555",
   "metadata": {},
   "outputs": [],
   "source": [
    "import numpy as np\n",
    "import pandas as pd\n",
    "from matplotlib import pyplot as plt\n",
    "import time\n",
    "import pickle\n",
    "from rf_counterfactuals import RandomForestExplainer, visualize\n",
    "import os\n",
    "\n",
    "from sklearn import preprocessing\n",
    "from sklearn.tree import export_graphviz\n",
    "from sklearn.ensemble import RandomForestClassifier\n",
    "from sklearn.model_selection import train_test_split\n",
    "from sklearn.metrics import accuracy_score, f1_score, precision_score, recall_score\n",
    "\n",
    "DATASET_PATH = \"./datasets/\""
   ]
  },
  {
   "cell_type": "markdown",
   "id": "b701edb7",
   "metadata": {},
   "source": [
    "# Encode categorical features to ordinal scale"
   ]
  },
  {
   "cell_type": "code",
   "execution_count": null,
   "id": "63e948b0",
   "metadata": {},
   "outputs": [],
   "source": [
    "adult_dataset = pd.read_csv(os.path.join(DATASET_PATH, \"adult.csv\"))\n",
    "\n",
    "class_feature = \"income\"\n",
    "feature_names = [c for c in adult_dataset.columns if c != class_feature]\n",
    "categorical_features = [1, 3, 5, 6, 7, 8, 9, 13]\n",
    "to_encode = [c for no, c in enumerate(feature_names) if no in categorical_features]\n",
    "\n",
    "from collections import defaultdict\n",
    "d = defaultdict(preprocessing.LabelEncoder)\n",
    "\n",
    "adult_dataset[to_encode] = adult_dataset[to_encode].apply(lambda x: d[x.name].fit_transform(x))"
   ]
  },
  {
   "cell_type": "markdown",
   "id": "ebecb3ba",
   "metadata": {},
   "source": [
    "# Split dataset to train/test"
   ]
  },
  {
   "cell_type": "code",
   "execution_count": null,
   "id": "c5d98edc",
   "metadata": {},
   "outputs": [],
   "source": [
    "train, test = train_test_split(adult_dataset, train_size=0.67, random_state=1000, stratify=adult_dataset[class_feature])\n",
    "X_train = train.loc[:, train.columns!=class_feature]\n",
    "y_train = train[class_feature]\n",
    "\n",
    "X_test = test.loc[:, test.columns!=class_feature]\n",
    "y_test = test[class_feature]\n",
    "\n",
    "X_train.shape, X_test.shape"
   ]
  },
  {
   "cell_type": "markdown",
   "id": "ff0979b9",
   "metadata": {},
   "source": [
    "## Class labels distribution"
   ]
  },
  {
   "cell_type": "code",
   "execution_count": null,
   "id": "2aeb31cb",
   "metadata": {},
   "outputs": [],
   "source": [
    "fig = plt.figure(figsize=(10, 6))\n",
    "bars = plt.bar(['<=50K', '>50K'], adult_dataset[class_feature].value_counts()[adult_dataset[class_feature].unique()])\n",
    "fig.gca().bar_label(bars)\n",
    "plt.xticks([0.0, 1], ['<=50K', '>50K'])\n",
    "plt.xlabel(\"Label\")\n",
    "plt.ylabel(\"Count\")\n",
    "# plt.grid()\n",
    "plt.title(\"Adult dataset. Class labels distribution\")\n",
    "plt.show()"
   ]
  },
  {
   "cell_type": "markdown",
   "id": "c2448069",
   "metadata": {},
   "source": [
    "# Train RF and evaluate it"
   ]
  },
  {
   "cell_type": "code",
   "execution_count": null,
   "id": "87f97d2e",
   "metadata": {},
   "outputs": [],
   "source": [
    "rf = RandomForestClassifier(n_estimators=30, max_depth=5)\n",
    "rf.fit(X_train, y_train)\n",
    "\n",
    "print(f\"Accuracy score: {accuracy_score(y_test, rf.predict(X_test)):1.3f}\")\n",
    "print(f\"Recall score: {recall_score(y_test, rf.predict(X_test), pos_label='>50K'):1.3f}\")\n",
    "print(f\"Precision score: {precision_score(y_test, rf.predict(X_test), pos_label='>50K'):1.3f}\")\n",
    "print(f\"F1 score: {f1_score(y_test, rf.predict(X_test), pos_label='>50K'):1.3f}\")"
   ]
  },
  {
   "cell_type": "markdown",
   "id": "380dafb8",
   "metadata": {},
   "source": [
    "# Here is the fun part. \n",
    "\n",
    "## 1. Extract 10k samples from test data that have label='<=50K'\n",
    "## 2. Get counterfactuals without any constraints on attributes\n",
    "## 3. Get counterfactuals with constraints on attributes\n",
    "\n",
    "These constraints are: \n",
    "\n",
    "Categorical attributes: 'workclass, education, marital-status, occupation, relationship, race, gender, native-country'\n",
    "\n",
    "Frozen attributes: 'race', 'gender'\n",
    "\n",
    "Left frozen attributes: 'age'"
   ]
  },
  {
   "cell_type": "code",
   "execution_count": null,
   "id": "be043261",
   "metadata": {},
   "outputs": [],
   "source": [
    "X_test_label_0 = X_test[y_test=='<=50K'].sample(10000)\n",
    "X_test_label_0.shape\n",
    "\n",
    "categorical_features = []\n",
    "frozen_features = []\n",
    "left_frozen_features = []\n",
    "\n",
    "rfe_no_constraints = RandomForestExplainer(rf, X_train, y_train, categorical_features=categorical_features, \n",
    "                            left_frozen_features=left_frozen_features, frozen_features=frozen_features)\n",
    "start_time = time.time()\n",
    "cfs_no_constraints = rfe_no_constraints.explain_with_single_metric(X_test_label_0, '>50K', metric='hoem', limit=None)\n",
    "end_time = time.time()\n",
    "\n",
    "time_no_constraints = end_time - start_time\n",
    "\n",
    "print(f\"Total counterfactuals found: {sum([len(c) for c in cfs_no_constraints])}\")\n",
    "print(f\"Finished in {end_time - start_time: 1.4f}s\")\n",
    "\n",
    "categorical_features = [1, 3, 5, 6, 7, 8, 9, 13]\n",
    "frozen_features = [8, 9]\n",
    "left_frozen_features = [0]\n",
    "\n",
    "rfe_constraints = RandomForestExplainer(rf, X_train, y_train, categorical_features=categorical_features, \n",
    "                            left_frozen_features=left_frozen_features, frozen_features=frozen_features)\n",
    "start_time = time.time()\n",
    "cfs_constraints = rfe_constraints.explain_with_single_metric(X_test_label_0, '>50K', metric='hoem', limit=None)\n",
    "end_time = time.time()\n",
    "\n",
    "time_constraints = end_time - start_time\n",
    "\n",
    "print(f\"Total counterfactuals found: {sum([len(c) for c in cfs_constraints])}\")\n",
    "print(f\"Finished in {end_time - start_time: 1.4f}s\")"
   ]
  },
  {
   "cell_type": "markdown",
   "id": "8cccf980",
   "metadata": {},
   "source": [
    "# Below code to visualize some counterfactuals"
   ]
  },
  {
   "cell_type": "code",
   "execution_count": null,
   "id": "db2d07e1",
   "metadata": {},
   "outputs": [],
   "source": [
    "sample_no = 0\n",
    "cf_no = 0\n",
    "visualize(rfe_no_constraints, X_test_label_0.loc[cfs_no_constraints[sample_no].index[cf_no]], cfs_no_constraints[sample_no].iloc[cf_no], d)"
   ]
  },
  {
   "cell_type": "code",
   "execution_count": null,
   "id": "0905c4e0",
   "metadata": {
    "scrolled": false
   },
   "outputs": [],
   "source": [
    "sample_no = 0\n",
    "cf_no = 0\n",
    "visualize(rfe_constraints, X_test_label_0.loc[cfs_constraints[sample_no].index[cf_no]], cfs_constraints[sample_no].iloc[cf_no], d)"
   ]
  }
 ],
 "metadata": {
  "kernelspec": {
   "display_name": "rf-counterfactuals-venv",
   "language": "python",
   "name": "rf-counterfactuals-venv"
  },
  "language_info": {
   "codemirror_mode": {
    "name": "ipython",
    "version": 3
   },
   "file_extension": ".py",
   "mimetype": "text/x-python",
   "name": "python",
   "nbconvert_exporter": "python",
   "pygments_lexer": "ipython3",
   "version": "3.8.10"
  }
 },
 "nbformat": 4,
 "nbformat_minor": 5
}
