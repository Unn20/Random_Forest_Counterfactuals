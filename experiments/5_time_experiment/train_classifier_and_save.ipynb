{
 "cells": [
  {
   "cell_type": "code",
   "execution_count": 3,
   "id": "9d50f75d",
   "metadata": {},
   "outputs": [
    {
     "data": {
      "text/plain": [
       "[1, 2, 3, 4, 5, 6, 7, 8, 9, 10, 11, 12, 13, 14, 15, 16, 17, 18, 19, 20]"
      ]
     },
     "execution_count": 3,
     "metadata": {},
     "output_type": "execute_result"
    }
   ],
   "source": [
    "import numpy as np\n",
    "import pandas as pd\n",
    "from matplotlib import pyplot as plt\n",
    "import time\n",
    "import pickle\n",
    "from subprocess import call\n",
    "import os\n",
    "\n",
    "from sklearn import preprocessing\n",
    "from sklearn.tree import export_graphviz\n",
    "from sklearn.ensemble import RandomForestClassifier\n",
    "from sklearn.model_selection import train_test_split\n",
    "from sklearn.metrics import accuracy_score, f1_score\n",
    "\n",
    "DATASET_PATH = \"./\"\n",
    "# CHUNKS = [i*10 for i in range(1, 11)]\n",
    "# CHUNKS = [i*2 for i in range(1, 11)]\n",
    "CHUNKS = [i*1 for i in range(1, 21)]\n",
    "CHUNKS"
   ]
  },
  {
   "cell_type": "code",
   "execution_count": 4,
   "id": "b0328df0",
   "metadata": {},
   "outputs": [
    {
     "name": "stdout",
     "output_type": "stream",
     "text": [
      "[1]\n",
      "[2]\n",
      "[3]\n",
      "[4]\n",
      "[5]\n",
      "[6]\n",
      "[7]\n",
      "[8]\n",
      "[9]\n",
      "[10]\n",
      "[11]\n",
      "[12]\n",
      "[13]\n",
      "[14]\n",
      "[15]\n",
      "[16]\n",
      "[17]\n",
      "[18]\n",
      "[19]\n",
      "[20]\n"
     ]
    }
   ],
   "source": [
    "TREES_IN_FOREST = 30\n",
    "MAX_DEPTH = 5\n",
    "\n",
    "for chunk in CHUNKS:\n",
    "    adult_dataset = pd.read_csv(os.path.join(DATASET_PATH, f\"adult_part_{chunk}.csv\"))\n",
    "    X_train = adult_dataset.loc[:, adult_dataset.columns!=\"class\"]\n",
    "    y_train = adult_dataset[\"class\"]\n",
    "    rf = RandomForestClassifier(n_estimators=TREES_IN_FOREST, max_depth=MAX_DEPTH)\n",
    "    rf.fit(X_train, y_train)\n",
    "    print(f\"[{chunk}]\")\n",
    "    pickle.dump(rf, open(f\"rf_{chunk}.pkl\", 'wb'))\n",
    "    "
   ]
  }
 ],
 "metadata": {
  "kernelspec": {
   "display_name": "Python 3 (ipykernel)",
   "language": "python",
   "name": "python3"
  },
  "language_info": {
   "codemirror_mode": {
    "name": "ipython",
    "version": 3
   },
   "file_extension": ".py",
   "mimetype": "text/x-python",
   "name": "python",
   "nbconvert_exporter": "python",
   "pygments_lexer": "ipython3",
   "version": "3.8.5"
  }
 },
 "nbformat": 4,
 "nbformat_minor": 5
}
